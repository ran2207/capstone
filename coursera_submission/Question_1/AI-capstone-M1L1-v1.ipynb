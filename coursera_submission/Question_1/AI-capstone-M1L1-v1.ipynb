{
 "cells": [
  {
   "cell_type": "markdown",
   "id": "259ea08b-511c-4ec7-a68e-083e0c9d9cd7",
   "metadata": {},
   "source": [
    "<div style=\"text-align: center;\">\n",
    "  <a href=\"https://cognitiveclass.ai/?utm_medium=Exinfluencer&utm_source=Exinfluencer&utm_content=000026UJ&utm_term=10006555&utm_id=NA-SkillsNetwork-Channel-SkillsNetworkCoursesIBMDeveloperSkillsNetworkDL0321ENSkillsNetwork951-2022-01-01\">\n",
    "    <img src=\"https://cf-courses-data.s3.us.cloud-object-storage.appdomain.cloud/IBMDeveloperSkillsNetwork-DL0321EN-SkillsNetwork/image/IDSN-logo.png\" width=\"400\">\n",
    "  </a>\n",
    "</div>\n",
    "\n"
   ]
  },
  {
   "cell_type": "markdown",
   "id": "d5b4186c-1d3b-4611-bef3-98d6ceb45a09",
   "metadata": {},
   "source": [
    "<h1 align=left><font size = 5>Compare Memory-Based versus Generator-Based Data Loading</font></h1>\n"
   ]
  },
  {
   "cell_type": "markdown",
   "id": "7d7f286f-f9d2-4ea4-86c4-021e853de53b",
   "metadata": {},
   "source": [
    "<h5>Estimated time: 30 minutes</h5>\n"
   ]
  },
  {
   "cell_type": "markdown",
   "id": "2578b982-d451-406b-874e-111d98590b4a",
   "metadata": {},
   "source": [
    "<h2>Learning objective</h2>\n",
    "After completing this lab, you'll be able to:\n",
    "\n",
    "- Download and manage satellite image datasets using Keras and Python libraries\n",
    "- Compare memory-based and generator-based data loading strategies in terms of performance, memory efficiency, and implementation complexity\n",
    "- Build a simple, memory-efficient image pipeline by loading and visualizing geospatial image data sequentially\n",
    "- Assess the trade-offs between loading entire image datasets into memory versus accessing image paths on demand\n"
   ]
  },
  {
   "cell_type": "markdown",
   "id": "11f7ce6b-1961-4415-b569-70f54b5054b0",
   "metadata": {},
   "source": [
    "## Introduction\n"
   ]
  },
  {
   "cell_type": "markdown",
   "id": "354c1dfc-ddd4-421f-8315-79a093070daa",
   "metadata": {},
   "source": [
    "Geospatial data analysis is a highly competitive and growing sector. It is used for land cover mapping, building roads, detection, and temporal land usage monitoring, among other applications. In this lab, you will learn to efficiently build a classifier by training a model from a curated dataset. For problem formulation, you will use images to denote agricultural land vs. non-agricultural land.\n",
    "\n",
    "Additionally, you will learn to download a dataset from the cloud. The notebook will illustrate two common ways to work with image datasets in Python: Loading file paths and opening images one by one, which is sequential loading and holding all images in memory at once, which is bulk loading. You will learn how each approach affects code simplicity, memory use, and I/O performance.\n",
    "\n",
    "**Note:** Throughout this lab, you’ll answer strategically placed questions designed to reinforce your learning and complete the quiz.\n"
   ]
  },
  {
   "cell_type": "markdown",
   "id": "10f39c80-b107-4b88-b289-f61823950279",
   "metadata": {},
   "source": [
    "## Table of contents\n",
    "\n",
    "<font size = 3>    \n",
    "\n",
    "1. [Import libraries and packages](#Import-libraries-and-packages)\n",
    "2. [Download data](#Download-data)\n",
    "3. [Load images](#Load-images)\n",
    "\n",
    "</font>\n",
    "</div>\n"
   ]
  },
  {
   "cell_type": "markdown",
   "id": "0f5356d5-18ab-4279-9035-8a3f79b91ce5",
   "metadata": {},
   "source": [
    "### Install the required libraries\n",
    "\n",
    "All the required libraries are __not__ pre-installed in the Skills Network Labs environment. __You need to run the following cell__ to install them, and this might take a few minutes.\n"
   ]
  },
  {
   "cell_type": "code",
   "execution_count": 1,
   "id": "6a1bd1ac-30bc-442d-8047-9de1c2113773",
   "metadata": {
    "execution": {
     "iopub.execute_input": "2025-10-27T12:07:06.211560Z",
     "iopub.status.busy": "2025-10-27T12:07:06.211449Z",
     "iopub.status.idle": "2025-10-27T12:07:07.835110Z",
     "shell.execute_reply": "2025-10-27T12:07:07.834409Z"
    }
   },
   "outputs": [],
   "source": [
    "%%capture captured_output\n",
    "!pip install numpy==1.26\n",
    "!pip install matplotlib==3.9.2\n",
    "!pip install skillsnetwork"
   ]
  },
  {
   "cell_type": "code",
   "execution_count": 2,
   "id": "0768933c-1cc4-49a9-9722-434b4a548587",
   "metadata": {
    "execution": {
     "iopub.execute_input": "2025-10-27T12:07:07.836877Z",
     "iopub.status.busy": "2025-10-27T12:07:07.836714Z",
     "iopub.status.idle": "2025-10-27T12:07:07.839275Z",
     "shell.execute_reply": "2025-10-27T12:07:07.838737Z"
    }
   },
   "outputs": [
    {
     "name": "stdout",
     "output_type": "stream",
     "text": [
      "Library installation was successful, let's proceed ahead\n"
     ]
    }
   ],
   "source": [
    "output_text = captured_output.stdout\n",
    "lines = output_text.splitlines()\n",
    "output_last_10_lines = '\\n'.join(lines[-10:])\n",
    "if \"error\" in output_last_10_lines.lower():\n",
    "    print(\"Library installation failed!\")\n",
    "    print(\"--- Error Details ---\")\n",
    "    print(output_last_10_lines)\n",
    "else:\n",
    "    print(\"Library installation was successful, let's proceed ahead\")"
   ]
  },
  {
   "cell_type": "markdown",
   "id": "48d50c83-3d69-45e4-84ad-f2d374d4e243",
   "metadata": {},
   "source": [
    "## Import libraries and packages\n"
   ]
  },
  {
   "cell_type": "markdown",
   "id": "b050c4a8-c768-4dc7-a840-15cf3b5394bf",
   "metadata": {},
   "source": [
    "Let's begin by importing the libraries and packages that you will need to complete the rest of this lab.\n"
   ]
  },
  {
   "cell_type": "code",
   "execution_count": 3,
   "id": "c3d9a96f-7b5a-439b-9052-28d2fe285ad1",
   "metadata": {
    "execution": {
     "iopub.execute_input": "2025-10-27T12:07:07.859685Z",
     "iopub.status.busy": "2025-10-27T12:07:07.859547Z",
     "iopub.status.idle": "2025-10-27T12:07:08.169819Z",
     "shell.execute_reply": "2025-10-27T12:07:08.169243Z"
    }
   },
   "outputs": [],
   "source": [
    "import os\n",
    "import numpy as np\n",
    "import matplotlib.pyplot as plt\n",
    "import skillsnetwork\n",
    "\n",
    "from PIL import Image"
   ]
  },
  {
   "cell_type": "markdown",
   "id": "4116fab5-5c75-4c18-ba3a-0ddb4fab9308",
   "metadata": {},
   "source": [
    "## Download data\n"
   ]
  },
  {
   "cell_type": "markdown",
   "id": "0133c94a-2dc7-4cc5-bb17-8162804bb462",
   "metadata": {},
   "source": [
    "The data is on a cloud server. You can retrieve and unzip it easily using the **skillsnetwork.prepare** command. So, let's run the following line of code to download the data. \n"
   ]
  },
  {
   "cell_type": "code",
   "execution_count": 4,
   "id": "826ac7f1-2020-4084-9c73-1470653b92e8",
   "metadata": {
    "execution": {
     "iopub.execute_input": "2025-10-27T12:07:08.171206Z",
     "iopub.status.busy": "2025-10-27T12:07:08.171081Z",
     "iopub.status.idle": "2025-10-27T12:07:13.428941Z",
     "shell.execute_reply": "2025-10-27T12:07:13.428571Z"
    }
   },
   "outputs": [
    {
     "data": {
      "application/vnd.jupyter.widget-view+json": {
       "model_id": "d01964a69396469bacb87cf71c9ebab2",
       "version_major": 2,
       "version_minor": 0
      },
      "text/plain": [
       "Downloading images-dataSAT.tar:   0%|          | 0/20243456 [00:00<?, ?it/s]"
      ]
     },
     "metadata": {},
     "output_type": "display_data"
    },
    {
     "data": {
      "application/vnd.jupyter.widget-view+json": {
       "model_id": "5ea5a40686f3407dad9bd023b5d92f56",
       "version_major": 2,
       "version_minor": 0
      },
      "text/plain": [
       "  0%|          | 0/6003 [00:00<?, ?it/s]"
      ]
     },
     "metadata": {},
     "output_type": "display_data"
    },
    {
     "name": "stdout",
     "output_type": "stream",
     "text": [
      "Saved to '.'\n"
     ]
    }
   ],
   "source": [
    "url = \"https://cf-courses-data.s3.us.cloud-object-storage.appdomain.cloud/5vTzHBmQUaRNJQe5szCyKw/images-dataSAT.tar\"\n",
    "\n",
    "extraction_path = \".\"\n",
    "await skillsnetwork.prepare(url = url, path = extraction_path, overwrite = True)"
   ]
  },
  {
   "cell_type": "markdown",
   "id": "8641e4c9-1bdd-4d1e-8299-0f4d799ea560",
   "metadata": {},
   "source": [
    "Now, you will be able to see the **images_dataSAT** folder in the left pane. It has two folders  **class_0_non_agri** and **class_1_agri**.\n",
    "The folder structure looks as follows:\n",
    "\n",
    "```python\n",
    "images_dataSAT/\n",
    "├── class_0_non_agri/\n",
    "└── class_1_agri/\n",
    "\n",
    "```\n",
    "\n",
    "<table>\n",
    "    <tr>\n",
    "        <td style=\"text-align:center;\"><b>Primary folder</b></td>\n",
    "        <td style=\"text-align:center;\"><b>Subfolders</b></td>\n",
    "    </tr>\n",
    "    <tr>\n",
    "        <td><img src=\"https://cf-courses-data.s3.us.cloud-object-storage.appdomain.cloud/owykkC4Pr2zxLtU6vskQ5A/DL0321EN-M1L1-file-tree-Screenshot-1.png\" style=\"width:300px; border:0px solid black;\"></td>\n",
    "        <td><img src=\"https://cf-courses-data.s3.us.cloud-object-storage.appdomain.cloud/okqnadJpvAeedGUXXYBIFg/DL0321EN-M1L1-file-tree-Screenshot-2.png\" style=\"width:350px; border:0px solid black;\"></td>\n",
    "    </tr>\n",
    "</table>\n",
    "\n",
    "\n",
    "**class_0_non_agri** is the non-agricultural land class, as defined earlier, and it represents images with non-cultivable land. \n",
    "\n",
    "**class_1_agri**, on the other hand, is the agricultural land class, and it represents the images with cultivable land.\n",
    "\n",
    "\n",
    "\n",
    "<table>\n",
    "    <tr>\n",
    "        <td style=\"text-align:center;\"><b>class_0_non_agri</b></td>\n",
    "        <td style=\"text-align:center;\"><b>class_1_agri</b></td>\n",
    "    </tr>\n",
    "    <tr>\n",
    "        <td><img src=\"https://cf-courses-data.s3.us.cloud-object-storage.appdomain.cloud/1jSl6X5tUkVro8I_av8lEQ/DL0321EN-M1L1-file-tree-screenshot-3.png\" style=\"width:300px; border:1px solid black;\"></td>\n",
    "        <td><img src=\"https://cf-courses-data.s3.us.cloud-object-storage.appdomain.cloud/9f7sT5DBeFE_6Mp2OV3JKQ/DL0321EN-M1L1-file-tree-screenshot-4.png\" style=\"width:300px; border:1px solid black;\"></td>\n",
    "    </tr>\n",
    "</table>\n"
   ]
  },
  {
   "cell_type": "markdown",
   "id": "c316867b-32de-47c1-95bc-d7e3d3d4b53a",
   "metadata": {},
   "source": [
    "**Note:** There are a few thousand images in each folder, so don't double-click on the folders. This may consume all of your memory, and you may end up with a **50*** error.\n"
   ]
  },
  {
   "cell_type": "markdown",
   "id": "0a7f0090-9cbc-44d1-aefc-40a6baf97401",
   "metadata": {},
   "source": [
    "## Load images\n"
   ]
  },
  {
   "cell_type": "markdown",
   "id": "bccfb41d-ab94-4cfc-bd1c-1ae471e7cb04",
   "metadata": {},
   "source": [
    "Next, you will use the standard approach of loading all images in memory and demonstrate how this approach is not efficient when it comes to building deep learning models for classifying images.\n"
   ]
  },
  {
   "cell_type": "code",
   "execution_count": 5,
   "id": "dcadb641-7ccc-4a25-b104-87c3e0d9d8c4",
   "metadata": {
    "execution": {
     "iopub.execute_input": "2025-10-27T12:07:13.430525Z",
     "iopub.status.busy": "2025-10-27T12:07:13.430425Z",
     "iopub.status.idle": "2025-10-27T12:07:13.432323Z",
     "shell.execute_reply": "2025-10-27T12:07:13.431933Z"
    }
   },
   "outputs": [],
   "source": [
    "# Define directories\n",
    "extract_dir = \".\"\n",
    "\n",
    "base_dir = os.path.join(extract_dir, 'images_dataSAT')\n",
    "dir_non_agri = os.path.join(base_dir, 'class_0_non_agri')\n",
    "dir_agri = os.path.join(base_dir, 'class_1_agri')"
   ]
  },
  {
   "cell_type": "markdown",
   "id": "9af52503-e278-4aac-9448-b0c75c64c6b2",
   "metadata": {},
   "source": [
    "Let's start by reading in the non_agri images. First, you will use **os.scandir** to build an iterator to iterate through the *./images_dataSAT/class_0_non_agri* directory, which contains all the images with non-agriculture land.\n",
    "Display the first 5 entries in the non_agri list \n"
   ]
  },
  {
   "cell_type": "code",
   "execution_count": 6,
   "id": "6c84db4f-2bf2-4c27-86b8-e1f1721fedcf",
   "metadata": {
    "execution": {
     "iopub.execute_input": "2025-10-27T12:07:13.433324Z",
     "iopub.status.busy": "2025-10-27T12:07:13.433245Z",
     "iopub.status.idle": "2025-10-27T12:07:13.435335Z",
     "shell.execute_reply": "2025-10-27T12:07:13.434938Z"
    }
   },
   "outputs": [
    {
     "name": "stdout",
     "output_type": "stream",
     "text": [
      "<DirEntry 'tile_S2A_MSIL2A_20250427T101701_N0511_R065_T32UQB_20250427T170513.SAFE_25907.jpg'>\n",
      "<DirEntry 'tile_S2A_MSIL2A_20250427T101701_N0511_R065_T32UPE_20250427T170513.SAFE_25984.jpg'>\n",
      "<DirEntry 'tile_S2A_MSIL2A_20250427T101701_N0511_R065_T32UQB_20250427T170513.SAFE_15608.jpg'>\n",
      "<DirEntry 'tile_S2A_MSIL2A_20250427T101701_N0511_R065_T32UQB_20250427T170513.SAFE_3487.jpg'>\n",
      "<DirEntry 'tile_S2A_MSIL2A_20250427T101701_N0511_R065_T32UQB_20250427T170513.SAFE_14258.jpg'>\n"
     ]
    }
   ],
   "source": [
    "non_agri = os.scandir(dir_non_agri)\n",
    "# print first 5 file paths\n",
    "for f_path in range(5):\n",
    "    print(next(non_agri))\n"
   ]
  },
  {
   "cell_type": "markdown",
   "id": "5eb0482b-9cd5-4eeb-9cf0-f5acc48c968d",
   "metadata": {},
   "source": [
    "Then, you will grab the first file in the directory.\n"
   ]
  },
  {
   "cell_type": "code",
   "execution_count": 7,
   "id": "1acfeb94-e943-4c4d-886d-683502ed6185",
   "metadata": {
    "execution": {
     "iopub.execute_input": "2025-10-27T12:07:13.436321Z",
     "iopub.status.busy": "2025-10-27T12:07:13.436244Z",
     "iopub.status.idle": "2025-10-27T12:07:13.438713Z",
     "shell.execute_reply": "2025-10-27T12:07:13.438141Z"
    }
   },
   "outputs": [
    {
     "data": {
      "text/plain": [
       "<DirEntry 'tile_S2A_MSIL2A_20250427T101701_N0511_R065_T32UPE_20250427T170513.SAFE_25012.jpg'>"
      ]
     },
     "execution_count": 7,
     "metadata": {},
     "output_type": "execute_result"
    }
   ],
   "source": [
    "file_name = next(non_agri)\n",
    "file_name"
   ]
  },
  {
   "cell_type": "markdown",
   "id": "259f23e9-4744-44d9-b2c2-04c213d688f0",
   "metadata": {},
   "source": [
    "Since the directory can contain elements that are not files, you only need to read the element if it is a file.\n"
   ]
  },
  {
   "cell_type": "code",
   "execution_count": 8,
   "id": "27855fe6-43ae-4fc9-9394-a0ce551162d8",
   "metadata": {
    "execution": {
     "iopub.execute_input": "2025-10-27T12:07:13.440009Z",
     "iopub.status.busy": "2025-10-27T12:07:13.439918Z",
     "iopub.status.idle": "2025-10-27T12:07:13.442309Z",
     "shell.execute_reply": "2025-10-27T12:07:13.441816Z"
    }
   },
   "outputs": [
    {
     "data": {
      "text/plain": [
       "True"
      ]
     },
     "execution_count": 8,
     "metadata": {},
     "output_type": "execute_result"
    }
   ],
   "source": [
    "os.path.isfile(file_name)"
   ]
  },
  {
   "cell_type": "markdown",
   "id": "6be4610b-149a-4cac-949c-31d7c74d9215",
   "metadata": {},
   "source": [
    "Get the image name.\n"
   ]
  },
  {
   "cell_type": "code",
   "execution_count": 9,
   "id": "3f0117ba-2b96-45dd-80d2-3bddd46038fc",
   "metadata": {
    "execution": {
     "iopub.execute_input": "2025-10-27T12:07:13.443512Z",
     "iopub.status.busy": "2025-10-27T12:07:13.443425Z",
     "iopub.status.idle": "2025-10-27T12:07:13.445520Z",
     "shell.execute_reply": "2025-10-27T12:07:13.445044Z"
    }
   },
   "outputs": [
    {
     "data": {
      "text/plain": [
       "'tile_S2A_MSIL2A_20250427T101701_N0511_R065_T32UPE_20250427T170513.SAFE_25012.jpg'"
      ]
     },
     "execution_count": 9,
     "metadata": {},
     "output_type": "execute_result"
    }
   ],
   "source": [
    "image_name = str(file_name).split(\"'\")[1]\n",
    "image_name"
   ]
  },
  {
   "cell_type": "markdown",
   "id": "4f1c42e7-0bf7-40de-8061-f6240bba548f",
   "metadata": {},
   "source": [
    "Read within the image data.\n"
   ]
  },
  {
   "cell_type": "code",
   "execution_count": 10,
   "id": "f5d40c9e-3363-4ed3-89b9-97543c4a4b49",
   "metadata": {
    "execution": {
     "iopub.execute_input": "2025-10-27T12:07:13.446675Z",
     "iopub.status.busy": "2025-10-27T12:07:13.446593Z",
     "iopub.status.idle": "2025-10-27T12:07:13.456933Z",
     "shell.execute_reply": "2025-10-27T12:07:13.456482Z"
    }
   },
   "outputs": [
    {
     "data": {
      "text/plain": [
       "array([[[ 86,  55,  63],\n",
       "        [ 88,  57,  65],\n",
       "        [104,  74,  82],\n",
       "        ...,\n",
       "        [ 95,  74,  79],\n",
       "        [100,  79,  84],\n",
       "        [ 76,  55,  60]],\n",
       "\n",
       "       [[117,  86,  94],\n",
       "        [109,  78,  86],\n",
       "        [103,  73,  81],\n",
       "        ...,\n",
       "        [150, 129, 134],\n",
       "        [153, 132, 137],\n",
       "        [154, 133, 138]],\n",
       "\n",
       "       [[159, 128, 136],\n",
       "        [151, 120, 128],\n",
       "        [135, 105, 113],\n",
       "        ...,\n",
       "        [216, 193, 199],\n",
       "        [213, 190, 196],\n",
       "        [241, 218, 224]],\n",
       "\n",
       "       ...,\n",
       "\n",
       "       [[ 29,  35,  21],\n",
       "        [ 29,  35,  21],\n",
       "        [ 31,  35,  21],\n",
       "        ...,\n",
       "        [127, 100, 105],\n",
       "        [132, 105, 110],\n",
       "        [123,  96, 101]],\n",
       "\n",
       "       [[ 34,  40,  26],\n",
       "        [ 33,  39,  25],\n",
       "        [ 33,  37,  23],\n",
       "        ...,\n",
       "        [ 89,  62,  67],\n",
       "        [ 95,  68,  73],\n",
       "        [142, 115, 120]],\n",
       "\n",
       "       [[ 25,  31,  17],\n",
       "        [ 25,  31,  17],\n",
       "        [ 26,  30,  16],\n",
       "        ...,\n",
       "        [112,  85,  90],\n",
       "        [100,  73,  78],\n",
       "        [ 94,  67,  72]]], shape=(64, 64, 3), dtype=uint8)"
      ]
     },
     "execution_count": 10,
     "metadata": {},
     "output_type": "execute_result"
    }
   ],
   "source": [
    "image_data = plt.imread(os.path.join(dir_non_agri, image_name))\n",
    "image_data"
   ]
  },
  {
   "cell_type": "markdown",
   "id": "3c6cad23-4d18-4d1b-8612-3a8b25be3141",
   "metadata": {},
   "source": [
    "### **Question 1**: What are the dimensions of a single image according to **image_data**? \n"
   ]
  },
  {
   "cell_type": "code",
   "execution_count": 11,
   "id": "92615676-771b-4207-a48c-c6a4f2228b4f",
   "metadata": {
    "execution": {
     "iopub.execute_input": "2025-10-27T12:07:13.457992Z",
     "iopub.status.busy": "2025-10-27T12:07:13.457916Z",
     "iopub.status.idle": "2025-10-27T12:07:13.459337Z",
     "shell.execute_reply": "2025-10-27T12:07:13.459024Z"
    }
   },
   "outputs": [],
   "source": [
    "## You can use this cell to type the code to answer the question.\n",
    "\n"
   ]
  },
  {
   "cell_type": "markdown",
   "id": "52c6c63b-1854-4566-b148-ab3509040efd",
   "metadata": {},
   "source": [
    "Double-click **here** for the solution.\n",
    "<!--\n",
    "print(image_data.shape)\n",
    "-->\n"
   ]
  },
  {
   "cell_type": "markdown",
   "id": "76cd14f7-963a-4016-9c2b-e443a39a6030",
   "metadata": {},
   "source": [
    "Let's take a look at the image.\n"
   ]
  },
  {
   "cell_type": "code",
   "execution_count": 12,
   "id": "72ac1f6d-fac1-4d35-a5bb-423f116015fc",
   "metadata": {
    "execution": {
     "iopub.execute_input": "2025-10-27T12:07:13.460457Z",
     "iopub.status.busy": "2025-10-27T12:07:13.460385Z",
     "iopub.status.idle": "2025-10-27T12:07:13.506916Z",
     "shell.execute_reply": "2025-10-27T12:07:13.506460Z"
    }
   },
   "outputs": [
    {
     "data": {
      "text/plain": [
       "<matplotlib.image.AxesImage at 0x10c284ec0>"
      ]
     },
     "execution_count": 12,
     "metadata": {},
     "output_type": "execute_result"
    },
    {
     "data": {
      "image/png": "[encoded data removed]",
      "text/plain": [
       "<Figure size 640x480 with 1 Axes>"
      ]
     },
     "metadata": {},
     "output_type": "display_data"
    }
   ],
   "source": [
    "plt.imshow(image_data)"
   ]
  },
  {
   "cell_type": "markdown",
   "id": "05745b8e-de91-4d2b-b5fa-1937bddab5a4",
   "metadata": {},
   "source": [
    "Now that you are familiar with the process of reading image data, let's loop through all the images in the *./images_dataSAT/class_0_non-agri* directory, read them all, and save them in the list **non_agri_images**. You will also need to note how long it takes to read all the images.\n"
   ]
  },
  {
   "cell_type": "code",
   "execution_count": 13,
   "id": "0ee2cf9b-e908-44a0-9722-dd518ade34eb",
   "metadata": {
    "execution": {
     "iopub.execute_input": "2025-10-27T12:07:13.508124Z",
     "iopub.status.busy": "2025-10-27T12:07:13.508057Z",
     "iopub.status.idle": "2025-10-27T12:07:13.753965Z",
     "shell.execute_reply": "2025-10-27T12:07:13.753501Z"
    }
   },
   "outputs": [
    {
     "name": "stdout",
     "output_type": "stream",
     "text": [
      "CPU times: user 150 ms, sys: 91.4 ms, total: 241 ms\n",
      "Wall time: 243 ms\n"
     ]
    }
   ],
   "source": [
    "%%time\n",
    "\n",
    "non_agri_images = []\n",
    "for file_name in non_agri:\n",
    "    if os.path.isfile(file_name):\n",
    "        image_name = str(file_name).split(\"'\")[1]\n",
    "        image_data = plt.imread(os.path.join(dir_non_agri, image_name))\n",
    "        non_agri_images.append(image_data)\n",
    "    \n",
    "non_agri_images = np.array(non_agri_images)"
   ]
  },
  {
   "cell_type": "markdown",
   "id": "a78c07fc-29a6-4314-80b5-2fc20bd81092",
   "metadata": {},
   "source": [
    "Loading images into memory is not the right approach when working with images, as it takes a long time or can quickly exhaust memory and other resources. Therefore, let's repeat the previous process but save the paths to the images in a variable instead of loading and saving the individual images.\n"
   ]
  },
  {
   "cell_type": "markdown",
   "id": "7afcd040-e7ce-44c3-83f5-7fcddddfeb10",
   "metadata": {},
   "source": [
    "So, instead of using **os.scandir**, let's use **os.listdir**.\n"
   ]
  },
  {
   "cell_type": "code",
   "execution_count": 14,
   "id": "fd399730-3ed7-426a-a528-cf089f5eabbb",
   "metadata": {
    "execution": {
     "iopub.execute_input": "2025-10-27T12:07:13.755368Z",
     "iopub.status.busy": "2025-10-27T12:07:13.755277Z",
     "iopub.status.idle": "2025-10-27T12:07:13.758870Z",
     "shell.execute_reply": "2025-10-27T12:07:13.758488Z"
    }
   },
   "outputs": [
    {
     "data": {
      "text/plain": [
       "['tile_S2A_MSIL2A_20250427T101701_N0511_R065_T32UQB_20250427T170513.SAFE_25907.jpg',\n",
       " 'tile_S2A_MSIL2A_20250427T101701_N0511_R065_T32UPE_20250427T170513.SAFE_25984.jpg',\n",
       " 'tile_S2A_MSIL2A_20250427T101701_N0511_R065_T32UQB_20250427T170513.SAFE_15608.jpg',\n",
       " 'tile_S2A_MSIL2A_20250427T101701_N0511_R065_T32UQB_20250427T170513.SAFE_3487.jpg',\n",
       " 'tile_S2A_MSIL2A_20250427T101701_N0511_R065_T32UQB_20250427T170513.SAFE_14258.jpg']"
      ]
     },
     "execution_count": 14,
     "metadata": {},
     "output_type": "execute_result"
    }
   ],
   "source": [
    "non_agri_images = os.listdir(dir_non_agri)\n",
    "# print first 5 file paths\n",
    "non_agri_images[:5]"
   ]
  },
  {
   "cell_type": "markdown",
   "id": "a85f2261-670f-4b81-bc68-fe63c3e0fc79",
   "metadata": {},
   "source": [
    "Notice how the images are not sorted, so let's call the <code>sort</code> method to sort the images.\n"
   ]
  },
  {
   "cell_type": "code",
   "execution_count": 15,
   "id": "c9bf614d-651a-41c4-949b-707a0c25a9e6",
   "metadata": {
    "execution": {
     "iopub.execute_input": "2025-10-27T12:07:13.759938Z",
     "iopub.status.busy": "2025-10-27T12:07:13.759865Z",
     "iopub.status.idle": "2025-10-27T12:07:13.762091Z",
     "shell.execute_reply": "2025-10-27T12:07:13.761811Z"
    }
   },
   "outputs": [
    {
     "data": {
      "text/plain": [
       "['tile_S2A_MSIL2A_20250409T105701_N0511_R094_T31UDQ_20250409T173716.SAFE_5902.jpg',\n",
       " 'tile_S2A_MSIL2A_20250409T105701_N0511_R094_T31UDQ_20250409T173716.SAFE_6074.jpg',\n",
       " 'tile_S2A_MSIL2A_20250409T105701_N0511_R094_T31UDQ_20250409T173716.SAFE_6246.jpg',\n",
       " 'tile_S2A_MSIL2A_20250409T105701_N0511_R094_T31UDQ_20250409T173716.SAFE_6247.jpg',\n",
       " 'tile_S2A_MSIL2A_20250409T105701_N0511_R094_T31UDQ_20250409T173716.SAFE_6248.jpg']"
      ]
     },
     "execution_count": 15,
     "metadata": {},
     "output_type": "execute_result"
    }
   ],
   "source": [
    "non_agri_images.sort()\n",
    "\n",
    "# print first 5 file paths\n",
    "non_agri_images[:5]"
   ]
  },
  {
   "cell_type": "markdown",
   "id": "2d67f219-78eb-4be6-b04b-b318fdd8d052",
   "metadata": {},
   "source": [
    "Before you can show an image, you need to open it. You can do this by using the **Image** module in the **PIL** library. To open the first image, run the following:\n"
   ]
  },
  {
   "cell_type": "code",
   "execution_count": 16,
   "id": "f4cc840c-45e9-4ab9-a3ba-2eba315ba58a",
   "metadata": {
    "execution": {
     "iopub.execute_input": "2025-10-27T12:07:13.763179Z",
     "iopub.status.busy": "2025-10-27T12:07:13.763099Z",
     "iopub.status.idle": "2025-10-27T12:07:13.764753Z",
     "shell.execute_reply": "2025-10-27T12:07:13.764428Z"
    }
   },
   "outputs": [],
   "source": [
    "image_data = Image.open(os.path.join(dir_non_agri, non_agri_images[0]))"
   ]
  },
  {
   "cell_type": "markdown",
   "id": "70cd9c88-bb12-4559-af63-06bdc33871f8",
   "metadata": {},
   "source": [
    "To view the image, run:\n"
   ]
  },
  {
   "cell_type": "code",
   "execution_count": 17,
   "id": "a8ad4509-b7b5-4a57-9ac0-53f3c2058959",
   "metadata": {
    "execution": {
     "iopub.execute_input": "2025-10-27T12:07:13.765750Z",
     "iopub.status.busy": "2025-10-27T12:07:13.765675Z",
     "iopub.status.idle": "2025-10-27T12:07:13.769463Z",
     "shell.execute_reply": "2025-10-27T12:07:13.769170Z"
    }
   },
   "outputs": [
    {
     "data": {
      "image/jpeg": "[encoded data removed]",
      "image/png": "[encoded data removed]",
      "text/plain": [
       "<PIL.JpegImagePlugin.JpegImageFile image mode=RGB size=64x64>"
      ]
     },
     "execution_count": 17,
     "metadata": {},
     "output_type": "execute_result"
    }
   ],
   "source": [
    "image_data"
   ]
  },
  {
   "cell_type": "markdown",
   "id": "530e4ac8-ccf1-4d85-b28d-b08088038da8",
   "metadata": {},
   "source": [
    "or use the <code>plt.imshow()</code> method as follows:\n"
   ]
  },
  {
   "cell_type": "code",
   "execution_count": 18,
   "id": "44b1d300-c9dc-4a14-a321-4e27cf15f409",
   "metadata": {
    "execution": {
     "iopub.execute_input": "2025-10-27T12:07:13.770502Z",
     "iopub.status.busy": "2025-10-27T12:07:13.770439Z",
     "iopub.status.idle": "2025-10-27T12:07:13.799778Z",
     "shell.execute_reply": "2025-10-27T12:07:13.799467Z"
    }
   },
   "outputs": [
    {
     "data": {
      "text/plain": [
       "<matplotlib.image.AxesImage at 0x10c6bbed0>"
      ]
     },
     "execution_count": 18,
     "metadata": {},
     "output_type": "execute_result"
    },
    {
     "data": {
      "image/png": "[encoded data removed]",
      "text/plain": [
       "<Figure size 640x480 with 1 Axes>"
      ]
     },
     "metadata": {},
     "output_type": "display_data"
    }
   ],
   "source": [
    "plt.imshow(image_data)"
   ]
  },
  {
   "cell_type": "markdown",
   "id": "149899b1-b244-4ae0-8507-8c574b0c1b0a",
   "metadata": {},
   "source": [
    "Let's loop through all the images in the <code>'./images_dataSAT/class_0_non_agri/'</code> directory and add their paths.\n"
   ]
  },
  {
   "cell_type": "code",
   "execution_count": 19,
   "id": "b728f77f-620f-4b03-89d0-f8707a3a30be",
   "metadata": {
    "execution": {
     "iopub.execute_input": "2025-10-27T12:07:13.800974Z",
     "iopub.status.busy": "2025-10-27T12:07:13.800901Z",
     "iopub.status.idle": "2025-10-27T12:07:13.803574Z",
     "shell.execute_reply": "2025-10-27T12:07:13.803195Z"
    }
   },
   "outputs": [
    {
     "data": {
      "text/plain": [
       "['./images_dataSAT/class_0_non_agri/tile_S2A_MSIL2A_20250409T105701_N0511_R094_T31UDQ_20250409T173716.SAFE_5902.jpg',\n",
       " './images_dataSAT/class_0_non_agri/tile_S2A_MSIL2A_20250409T105701_N0511_R094_T31UDQ_20250409T173716.SAFE_6074.jpg',\n",
       " './images_dataSAT/class_0_non_agri/tile_S2A_MSIL2A_20250409T105701_N0511_R094_T31UDQ_20250409T173716.SAFE_6246.jpg',\n",
       " './images_dataSAT/class_0_non_agri/tile_S2A_MSIL2A_20250409T105701_N0511_R094_T31UDQ_20250409T173716.SAFE_6247.jpg',\n",
       " './images_dataSAT/class_0_non_agri/tile_S2A_MSIL2A_20250409T105701_N0511_R094_T31UDQ_20250409T173716.SAFE_6248.jpg']"
      ]
     },
     "execution_count": 19,
     "metadata": {},
     "output_type": "execute_result"
    }
   ],
   "source": [
    "non_agri_images_paths = [os.path.join(dir_non_agri, image) for image in non_agri_images]\n",
    "#print first five paths\n",
    "non_agri_images_paths[:5]"
   ]
  },
  {
   "cell_type": "markdown",
   "id": "f528a575-e47d-41de-a1ab-6a5c9832d843",
   "metadata": {},
   "source": [
    "Let's check how many images of non-agricultural land exist in the dataset.\n"
   ]
  },
  {
   "cell_type": "code",
   "execution_count": 20,
   "id": "ef43bfa9-d0d1-45bd-a192-22da443e817f",
   "metadata": {
    "execution": {
     "iopub.execute_input": "2025-10-27T12:07:13.804468Z",
     "iopub.status.busy": "2025-10-27T12:07:13.804403Z",
     "iopub.status.idle": "2025-10-27T12:07:13.806201Z",
     "shell.execute_reply": "2025-10-27T12:07:13.805908Z"
    }
   },
   "outputs": [
    {
     "data": {
      "text/plain": [
       "3000"
      ]
     },
     "execution_count": 20,
     "metadata": {},
     "output_type": "execute_result"
    }
   ],
   "source": [
    "len(non_agri_images_paths)"
   ]
  },
  {
   "cell_type": "markdown",
   "id": "e529c7ae-11dc-4cb8-9f2a-833de60462f1",
   "metadata": {},
   "source": [
    "### Question 2: Display the first four images in `'./images_dataSAT/class_0_non_agri/'` directory.\n"
   ]
  },
  {
   "cell_type": "code",
   "execution_count": 21,
   "id": "522ce3bc-e406-4ef7-81cd-697cd5439bd3",
   "metadata": {
    "execution": {
     "iopub.execute_input": "2025-10-27T12:07:13.807121Z",
     "iopub.status.busy": "2025-10-27T12:07:13.807058Z",
     "iopub.status.idle": "2025-10-27T12:07:13.808473Z",
     "shell.execute_reply": "2025-10-27T12:07:13.808096Z"
    }
   },
   "outputs": [],
   "source": [
    "## You can use this cell to type the code to answer the question.\n",
    "\n"
   ]
  },
  {
   "cell_type": "markdown",
   "id": "16c5ec1a-a98b-48a9-997f-910f8fe11e17",
   "metadata": {},
   "source": [
    "Double-click **here** for the solution.\n",
    "<!--\n",
    "n_images = 4\n",
    "for image_path in non_agri_images[:n_images]:\n",
    "    print(image_path)\n",
    "    image_data = Image.open(os.path.join(dir_non_agri, image_path))\n",
    "    plt.imshow(image_data)\n",
    "    plt.show()\n",
    "-->\n"
   ]
  },
  {
   "cell_type": "markdown",
   "id": "a4f0181d-6f39-49e9-86fc-a599917d7632",
   "metadata": {},
   "source": [
    "### **Task 1**: \n",
    "Save the paths to all the images in the `dir_agri` directory in a list called **agri_images_paths**. Make sure you sort the paths at the end.\n"
   ]
  },
  {
   "cell_type": "code",
   "execution_count": 22,
   "id": "6b2bef44-ade9-46e4-9a3c-5442fec830ac",
   "metadata": {
    "execution": {
     "iopub.execute_input": "2025-10-27T12:07:13.809493Z",
     "iopub.status.busy": "2025-10-27T12:07:13.809433Z",
     "iopub.status.idle": "2025-10-27T12:07:13.810751Z",
     "shell.execute_reply": "2025-10-27T12:07:13.810462Z"
    }
   },
   "outputs": [],
   "source": [
    "## Type your answer here\n",
    "\n"
   ]
  },
  {
   "cell_type": "markdown",
   "id": "402e2d73-29e0-41d0-80f9-b79d5794b4b8",
   "metadata": {},
   "source": [
    "Double-click **here** for the solution.\n",
    "<!--\n",
    "agri_images_paths = []\n",
    "for image in os.listdir(dir_agri):\n",
    "    agri_images_paths.append(os.path.join(dir_agri, image))\n",
    "\n",
    "agri_images_paths.sort()\n",
    "-->\n"
   ]
  },
  {
   "cell_type": "markdown",
   "id": "ba326c29-8224-454c-930b-f444d45be0e2",
   "metadata": {},
   "source": [
    "### Question 3: How many images of agricultural land exist in the <code>'./images_dataSAT/class_1_agri/'</code> directory?\n"
   ]
  },
  {
   "cell_type": "code",
   "execution_count": 23,
   "id": "9a746efc-936c-4e01-a59a-239fcdade9b2",
   "metadata": {
    "execution": {
     "iopub.execute_input": "2025-10-27T12:07:13.811710Z",
     "iopub.status.busy": "2025-10-27T12:07:13.811639Z",
     "iopub.status.idle": "2025-10-27T12:07:13.813014Z",
     "shell.execute_reply": "2025-10-27T12:07:13.812651Z"
    }
   },
   "outputs": [],
   "source": [
    "## You can use this cell to type the code to answer the question.\n",
    "\n"
   ]
  },
  {
   "cell_type": "markdown",
   "id": "1b91e8f7-290f-45f7-a202-f572f7586ec3",
   "metadata": {},
   "source": [
    "Double-click **here** for the solution.\n",
    "<!--\n",
    "print(len(agri_images_paths))\n",
    "-->\n"
   ]
  },
  {
   "cell_type": "markdown",
   "id": "e7ef0fef-ef80-4f7f-b51d-f3f68639964d",
   "metadata": {},
   "source": [
    "### Question 4: Display the first four images of the agricultural land.\n"
   ]
  },
  {
   "cell_type": "code",
   "execution_count": 24,
   "id": "2b757d2a-b87f-4c83-a359-bc9cd5245a0f",
   "metadata": {
    "execution": {
     "iopub.execute_input": "2025-10-27T12:07:13.813965Z",
     "iopub.status.busy": "2025-10-27T12:07:13.813905Z",
     "iopub.status.idle": "2025-10-27T12:07:13.815284Z",
     "shell.execute_reply": "2025-10-27T12:07:13.814948Z"
    }
   },
   "outputs": [],
   "source": [
    "## You can use this cell to type the code to answer the question.\n",
    "\n"
   ]
  },
  {
   "cell_type": "markdown",
   "id": "362541a3-5b96-44cd-a9f7-4bc6a1cee412",
   "metadata": {},
   "source": [
    "Double-click **here** for the solution.\n",
    "<!--\n",
    "n_images = 4\n",
    "for image_path in agri_images_paths[:n_images]:\n",
    "    print(image_path)\n",
    "    image_data = Image.open(image_path)\n",
    "    plt.imshow(image_data)\n",
    "    plt.show()\n",
    "-->\n"
   ]
  },
  {
   "cell_type": "markdown",
   "id": "d82739fe-0321-4a7d-b2eb-37a6c406f7d6",
   "metadata": {},
   "source": [
    "## Save and download the notebook for **final project** submission and evaluation\n",
    "\n",
    "You will need to save and download the completed notebook for final project submission and evaluation. \n",
    "<br>For saving and downloading the completed ntoebook, please follow the steps given below:</br>\n",
    "\n",
    "<font size = 4>  \n",
    "\n",
    "1) **Complete** all the tasks and questions given in the notebook.\n",
    "\n",
    "<img src=\"https://cf-courses-data.s3.us.cloud-object-storage.appdomain.cloud/nv4jHlPU5_R1q7ZJrZ69eg/DL0321EN-M1L1-Save-IPYNB-Screenshot-1.png\" style=\"width:600px; border:0px solid black;\">\n",
    "\n",
    "2) **Save** the notebook.</style>\n",
    "<img src=\"https://cf-courses-data.s3.us.cloud-object-storage.appdomain.cloud/9-WPWD4mW1d-RV5Il5otTg/DL0321EN-M1L1-Save-IPYNB-Screenshot-2.png\" style=\"width:600px; border:0px solid black;\">\n",
    "\n",
    "3) Identify and right click on the **correct notebook file** in the left pane.</style>\n",
    "<img src=\"https://cf-courses-data.s3.us.cloud-object-storage.appdomain.cloud/RUSRPw7NT6Sof94B7-9naQ/DL0321EN-M1L1-Save-IPYNB-Screenshot-3.png\" style=\"width:600px; border:0px solid black;\">\n",
    "\n",
    "4) Click on **Download**.</style>\n",
    "<img src=\"https://cf-courses-data.s3.us.cloud-object-storage.appdomain.cloud/HHry4GT-vhLEcRi1T_LHGg/DL0321EN-M1L1-Save-IPYNB-Screenshot-4.png\" style=\"width:600px; border:0px solid black;\">\n",
    "\n",
    "5) Download and **Save** the Jupyter notebook file on your computer **for final submission**.</style>\n",
    "<img src=\"https://cf-courses-data.s3.us.cloud-object-storage.appdomain.cloud/hhsJbxc6R-T8_pXQGjMjvg/DL0321EN-M1L1-Save-IPYNB-Screenshot-5.png\" style=\"width:600px; border:0px solid black;\">\n",
    "  </font>\n"
   ]
  },
  {
   "cell_type": "markdown",
   "id": "5afc08b2-7821-4dd8-8a43-ca890c4598c3",
   "metadata": {},
   "source": [
    "### Congratulations!\n",
    "You have successfully completed this lab. \n"
   ]
  },
  {
   "cell_type": "markdown",
   "id": "cbb72192-660c-4593-9e6a-5f7ced2a84ae",
   "metadata": {},
   "source": [
    "### Summary\n",
    "\n",
    "This notebook shows a memory-efficient and simple sequential loading pattern by sorting and indexing filenames and then opening images one by one. To compare, you can try a bulk-loading approach by reading all images into a single list of arrays to observe the trade-off between faster repeated access and higher memory usage.\n"
   ]
  },
  {
   "cell_type": "markdown",
   "id": "0f8908c8-4d6b-4e08-8807-e27e82d0e2f8",
   "metadata": {},
   "source": [
    "### Thank you for completing this lab!\n",
    "\n",
    "This notebook is part of an IBM course on **Coursera** called *AI Capstone Project with Deep Learning*.\n"
   ]
  },
  {
   "cell_type": "markdown",
   "id": "329be0e5-252d-4c8e-8bc1-06be49c98848",
   "metadata": {},
   "source": [
    "<h2>Author</h2>\n",
    "\n",
    "[Aman Aggarwal](https://www.linkedin.com/in/aggarwal-aman)\n",
    "\n",
    "Aman Aggarwal is a PhD working at the intersection of neuroscience, AI, and drug discovery. He specializes in quantitative microscopy and image processing.\n"
   ]
  },
  {
   "cell_type": "markdown",
   "id": "6df51313-d912-4ba1-8dd6-9c47807500be",
   "metadata": {},
   "source": [
    "<!--\n",
    "## Change Log\n",
    "\n",
    "|  Date (YYYY-MM-DD) |  Version | Changed By  |  Change Description |\n",
    "|---|---|---|---|\n",
    "| 2025-06-25  | 1.0  | Aman  |  Created the lab |\n",
    "| 2025-06-30  | 2.0  | Gagandeeep |  ID review |\n",
    "\n",
    "-->\n"
   ]
  },
  {
   "cell_type": "markdown",
   "id": "d1b7b39f-734b-4bcc-9a6d-060966860324",
   "metadata": {},
   "source": [
    "© Copyright IBM Corporation. All rights reserved.\n"
   ]
  },
  {
   "cell_type": "code",
   "execution_count": 25,
   "metadata": {
    "execution": {
     "iopub.execute_input": "2025-10-27T12:07:13.816480Z",
     "iopub.status.busy": "2025-10-27T12:07:13.816421Z",
     "iopub.status.idle": "2025-10-27T12:07:13.819044Z",
     "shell.execute_reply": "2025-10-27T12:07:13.818679Z"
    }
   },
   "outputs": [
    {
     "data": {
      "text/plain": [
       "'Module 1 Lab 1: Memory-Based vs Generator-Based Data LoadingSolutions for all tasks (10 points total)Copy these code blocks into the corresponding cells in the notebook:AI-capstone-M1L1-v1.ipynb'"
      ]
     },
     "execution_count": 25,
     "metadata": {},
     "output_type": "execute_result"
    }
   ],
   "source": [
    "\"\"\"Module 1 Lab 1: Memory-Based vs Generator-Based Data LoadingSolutions for all tasks (10 points total)Copy these code blocks into the corresponding cells in the notebook:AI-capstone-M1L1-v1.ipynb\"\"\"# =============================================================================# TASK 1: Determine the shape of a single image (Question 1)# =============================================================================import numpy as npfrom PIL import Imageimport os# Load a single image to check its shapeimage_path = os.path.join('./images_dataSAT/class_0_non_agri', os.listdir('./images_dataSAT/class_0_non_agri')[0])image_data = np.array(Image.open(image_path))# Display the shapeprint(f\"Shape of a single image: {image_data.shape}\")# Expected output: (height, width, channels) e.g., (256, 256, 3)# =============================================================================# TASK 2: Display the first four images in class_0_non_agri directory (Question 2)# =============================================================================import matplotlib.pyplot as plt# Directory pathdir_non_agri = './images_dataSAT/class_0_non_agri/'# Get list of image filesimage_files = sorted([f for f in os.listdir(dir_non_agri) if f.endswith(('.jpg', '.jpeg', '.png'))])[:4]# Display the first 4 imagesfig, axes = plt.subplots(1, 4, figsize=(16, 4))for idx, img_file in enumerate(image_files):    img_path = os.path.join(dir_non_agri, img_file)    img = Image.open(img_path)    axes[idx].imshow(img)    axes[idx].set_title(f\"Image {idx + 1}\")    axes[idx].axis('off')plt.tight_layout()plt.show()# =============================================================================# TASK 3: Create agri_images_paths list with sorted full paths (Question 3)# =============================================================================# Directory for agricultural imagesdir_agri = './images_dataSAT/class_1_agri/'# Create list of full file paths for all agricultural images, sortedagri_images_paths = sorted([os.path.join(dir_agri, f) for f in os.listdir(dir_agri)                            if f.endswith(('.jpg', '.jpeg', '.png'))])# Print first few paths to verifyprint(f\"Total agricultural image paths: {len(agri_images_paths)}\")print(f\"First 5 paths:\\n{agri_images_paths[:5]}\")# =============================================================================# TASK 4: Determine the number of agricultural land images (Question 4)# =============================================================================# Count the number of agricultural imagesnum_agri_images = len(agri_images_paths)print(f\"\\nNumber of images of agricultural land: {num_agri_images}\")# Expected output: ~5000 images# =============================================================================# ADDITIONAL CODE: Complete memory-based loading example# =============================================================================# Memory-based loading (load all images into memory)def load_images_memory(image_paths, max_images=100):    \"\"\"    Load images into memory as numpy arrays    Use max_images to limit memory usage for demonstration    \"\"\"    images = []    labels = []    for img_path in image_paths[:max_images]:        img = Image.open(img_path)        img = img.resize((64, 64))  # Resize for consistency        img_array = np.array(img) / 255.0  # Normalize to [0, 1]        images.append(img_array)        labels.append(1)  # Label 1 for agricultural land    return np.array(images), np.array(labels)# Example usageprint(\"\\nLoading sample images into memory...\")sample_images, sample_labels = load_images_memory(agri_images_paths, max_images=50)print(f\"Loaded {len(sample_images)} images into memory\")print(f\"Shape of image batch: {sample_images.shape}\")print(f\"Memory usage (approx): {sample_images.nbytes / (1024**2):.2f} MB\")# =============================================================================# Generator-based loading example (for comparison)# =============================================================================def image_generator(image_paths, batch_size=32):    \"\"\"    Generator that yields batches of images without loading all into memory    \"\"\"    num_samples = len(image_paths)    while True:  # Infinite loop for continuous batching        for offset in range(0, num_samples, batch_size):            batch_paths = image_paths[offset:offset + batch_size]            batch_images = []            batch_labels = []            for img_path in batch_paths:                img = Image.open(img_path)                img = img.resize((64, 64))                img_array = np.array(img) / 255.0                batch_images.append(img_array)                batch_labels.append(1)            yield np.array(batch_images), np.array(batch_labels)# Example usageprint(\"\\n\\nTesting generator-based loading...\")gen = image_generator(agri_images_paths, batch_size=8)batch_imgs, batch_lbls = next(gen)print(f\"Generated batch shape: {batch_imgs.shape}\")print(f\"Batch labels shape: {batch_lbls.shape}\")# =============================================================================# SUMMARY OF SOLUTIONS# =============================================================================print(\"\\n\" + \"=\"*60)print(\"SUMMARY: Module 1 Lab 1 - All Tasks Completed\")print(\"=\"*60)print(f\"Task 1: Image shape = {image_data.shape}\")print(f\"Task 2: Displayed first 4 non-agricultural images\")print(f\"Task 3: Created agri_images_paths with {len(agri_images_paths)} sorted paths\")print(f\"Task 4: Number of agricultural images = {num_agri_images}\")print(\"=\"*60)"
   ]
  },
  {
   "cell_type": "code",
   "execution_count": 26,
   "metadata": {
    "execution": {
     "iopub.execute_input": "2025-10-27T12:07:13.819883Z",
     "iopub.status.busy": "2025-10-27T12:07:13.819824Z",
     "iopub.status.idle": "2025-10-27T12:07:13.821250Z",
     "shell.execute_reply": "2025-10-27T12:07:13.820945Z"
    }
   },
   "outputs": [],
   "source": [
    "# Task 2: Display first 4 non-agricultural imagesimport matplotlib.pyplot as pltfrom PIL import Imagedir_non_agri = './images_dataSAT/class_0_non_agri/'image_files = sorted([f for f in os.listdir(dir_non_agri)                     if f.endswith(('.jpg', '.jpeg', '.png'))])[:4]fig, axes = plt.subplots(1, 4, figsize=(16, 4))for idx, img_file in enumerate(image_files):    img_path = os.path.join(dir_non_agri, img_file)    img = Image.open(img_path)    axes[idx].imshow(img)    axes[idx].set_title(f\"Image {idx + 1}\")    axes[idx].axis('off')plt.tight_layout()plt.show()"
   ]
  },
  {
   "cell_type": "code",
   "execution_count": 27,
   "metadata": {
    "execution": {
     "iopub.execute_input": "2025-10-27T12:07:13.822171Z",
     "iopub.status.busy": "2025-10-27T12:07:13.822102Z",
     "iopub.status.idle": "2025-10-27T12:07:13.823542Z",
     "shell.execute_reply": "2025-10-27T12:07:13.823196Z"
    }
   },
   "outputs": [],
   "source": [
    "# Task 3: Create sorted agricultural image pathsdir_agri = './images_dataSAT/class_1_agri/'agri_images_paths = sorted([os.path.join(dir_agri, f)                           for f in os.listdir(dir_agri)                           if f.endswith(('.jpg', '.jpeg', '.png'))])print(f\"Total agricultural image paths: {len(agri_images_paths)}\")print(f\"First 5 paths: {agri_images_paths[:5]}\")"
   ]
  },
  {
   "cell_type": "code",
   "execution_count": 28,
   "metadata": {
    "execution": {
     "iopub.execute_input": "2025-10-27T12:07:13.824448Z",
     "iopub.status.busy": "2025-10-27T12:07:13.824391Z",
     "iopub.status.idle": "2025-10-27T12:07:13.825725Z",
     "shell.execute_reply": "2025-10-27T12:07:13.825433Z"
    }
   },
   "outputs": [],
   "source": [
    "# Task 4: Count agricultural imagesnum_agri_images = len(agri_images_paths)print(f\"Number of agricultural images: {num_agri_images}\")"
   ]
  },
  {
   "cell_type": "code",
   "execution_count": 29,
   "metadata": {
    "execution": {
     "iopub.execute_input": "2025-10-27T12:07:13.826668Z",
     "iopub.status.busy": "2025-10-27T12:07:13.826603Z",
     "iopub.status.idle": "2025-10-27T12:07:13.827990Z",
     "shell.execute_reply": "2025-10-27T12:07:13.827719Z"
    }
   },
   "outputs": [],
   "source": [
    "# Task 5: Display first 4 agricultural imagesfig, axes = plt.subplots(1, 4, figsize=(16, 4))for idx in range(4):    img = Image.open(agri_images_paths[idx])    axes[idx].imshow(img)    axes[idx].set_title(f\"Agri Image {idx + 1}\")    axes[idx].axis('off')plt.tight_layout()plt.show()"
   ]
  }
 ],
 "metadata": {
  "kernelspec": {
   "display_name": "Python 3 (ipykernel)",
   "language": "python",
   "name": "python3"
  },
  "language_info": {
   "codemirror_mode": {
    "name": "ipython",
    "version": 3
   },
   "file_extension": ".py",
   "mimetype": "text/x-python",
   "name": "python",
   "nbconvert_exporter": "python",
   "pygments_lexer": "ipython3",
   "version": "3.13.3"
  },
  "prev_pub_hash": "4a19ade896ac32f0b13701328d072e437536245b8d403d8ea7cf218f30f84424",
  "widgets": {
   "application/vnd.jupyter.widget-state+json": {
    "state": {
     "0cfada8f2ad14dada1119a6b6fa8efa9": {
      "model_module": "@jupyter-widgets/base",
      "model_module_version": "2.0.0",
      "model_name": "LayoutModel",
      "state": {
       "_model_module": "@jupyter-widgets/base",
       "_model_module_version": "2.0.0",
       "_model_name": "LayoutModel",
       "_view_count": null,
       "_view_module": "@jupyter-widgets/base",
       "_view_module_version": "2.0.0",
       "_view_name": "LayoutView",
       "align_content": null,
       "align_items": null,
       "align_self": null,
       "border_bottom": null,
       "border_left": null,
       "border_right": null,
       "border_top": null,
       "bottom": null,
       "display": null,
       "flex": null,
       "flex_flow": null,
       "grid_area": null,
       "grid_auto_columns": null,
       "grid_auto_flow": null,
       "grid_auto_rows": null,
       "grid_column": null,
       "grid_gap": null,
       "grid_row": null,
       "grid_template_areas": null,
       "grid_template_columns": null,
       "grid_template_rows": null,
       "height": null,
       "justify_content": null,
       "justify_items": null,
       "left": null,
       "margin": null,
       "max_height": null,
       "max_width": null,
       "min_height": null,
       "min_width": null,
       "object_fit": null,
       "object_position": null,
       "order": null,
       "overflow": null,
       "padding": null,
       "right": null,
       "top": null,
       "visibility": null,
       "width": null
      }
     },
     "0fc13afb745d4e92b91b952e2f5c9ed2": {
      "model_module": "@jupyter-widgets/base",
      "model_module_version": "2.0.0",
      "model_name": "LayoutModel",
      "state": {
       "_model_module": "@jupyter-widgets/base",
       "_model_module_version": "2.0.0",
       "_model_name": "LayoutModel",
       "_view_count": null,
       "_view_module": "@jupyter-widgets/base",
       "_view_module_version": "2.0.0",
       "_view_name": "LayoutView",
       "align_content": null,
       "align_items": null,
       "align_self": null,
       "border_bottom": null,
       "border_left": null,
       "border_right": null,
       "border_top": null,
       "bottom": null,
       "display": null,
       "flex": null,
       "flex_flow": null,
       "grid_area": null,
       "grid_auto_columns": null,
       "grid_auto_flow": null,
       "grid_auto_rows": null,
       "grid_column": null,
       "grid_gap": null,
       "grid_row": null,
       "grid_template_areas": null,
       "grid_template_columns": null,
       "grid_template_rows": null,
       "height": null,
       "justify_content": null,
       "justify_items": null,
       "left": null,
       "margin": null,
       "max_height": null,
       "max_width": null,
       "min_height": null,
       "min_width": null,
       "object_fit": null,
       "object_position": null,
       "order": null,
       "overflow": null,
       "padding": null,
       "right": null,
       "top": null,
       "visibility": null,
       "width": null
      }
     },
     "1318397d00f94e418d07dd5c43275001": {
      "model_module": "@jupyter-widgets/controls",
      "model_module_version": "2.0.0",
      "model_name": "HTMLStyleModel",
      "state": {
       "_model_module": "@jupyter-widgets/controls",
       "_model_module_version": "2.0.0",
       "_model_name": "HTMLStyleModel",
       "_view_count": null,
       "_view_module": "@jupyter-widgets/base",
       "_view_module_version": "2.0.0",
       "_view_name": "StyleView",
       "background": null,
       "description_width": "",
       "font_size": null,
       "text_color": null
      }
     },
     "1bf36e1d78924b6daa2027a66cf372d7": {
      "model_module": "@jupyter-widgets/controls",
      "model_module_version": "2.0.0",
      "model_name": "HTMLModel",
      "state": {
       "_dom_classes": [],
       "_model_module": "@jupyter-widgets/controls",
       "_model_module_version": "2.0.0",
       "_model_name": "HTMLModel",
       "_view_count": null,
       "_view_module": "@jupyter-widgets/controls",
       "_view_module_version": "2.0.0",
       "_view_name": "HTMLView",
       "description": "",
       "description_allow_html": false,
       "layout": "IPY_MODEL_89fec7254a1740a9929392fcf3708729",
       "placeholder": "​",
       "style": "IPY_MODEL_1318397d00f94e418d07dd5c43275001",
       "tabbable": null,
       "tooltip": null,
       "value": "Downloading images-dataSAT.tar: 100%"
      }
     },
     "20e1ee8ffbb74bd392f693847225036f": {
      "model_module": "@jupyter-widgets/controls",
      "model_module_version": "2.0.0",
      "model_name": "HTMLStyleModel",
      "state": {
       "_model_module": "@jupyter-widgets/controls",
       "_model_module_version": "2.0.0",
       "_model_name": "HTMLStyleModel",
       "_view_count": null,
       "_view_module": "@jupyter-widgets/base",
       "_view_module_version": "2.0.0",
       "_view_name": "StyleView",
       "background": null,
       "description_width": "",
       "font_size": null,
       "text_color": null
      }
     },
     "2e7fe7c605264eb3b2c85bf05be15ab9": {
      "model_module": "@jupyter-widgets/base",
      "model_module_version": "2.0.0",
      "model_name": "LayoutModel",
      "state": {
       "_model_module": "@jupyter-widgets/base",
       "_model_module_version": "2.0.0",
       "_model_name": "LayoutModel",
       "_view_count": null,
       "_view_module": "@jupyter-widgets/base",
       "_view_module_version": "2.0.0",
       "_view_name": "LayoutView",
       "align_content": null,
       "align_items": null,
       "align_self": null,
       "border_bottom": null,
       "border_left": null,
       "border_right": null,
       "border_top": null,
       "bottom": null,
       "display": null,
       "flex": null,
       "flex_flow": null,
       "grid_area": null,
       "grid_auto_columns": null,
       "grid_auto_flow": null,
       "grid_auto_rows": null,
       "grid_column": null,
       "grid_gap": null,
       "grid_row": null,
       "grid_template_areas": null,
       "grid_template_columns": null,
       "grid_template_rows": null,
       "height": null,
       "justify_content": null,
       "justify_items": null,
       "left": null,
       "margin": null,
       "max_height": null,
       "max_width": null,
       "min_height": null,
       "min_width": null,
       "object_fit": null,
       "object_position": null,
       "order": null,
       "overflow": null,
       "padding": null,
       "right": null,
       "top": null,
       "visibility": null,
       "width": null
      }
     },
     "3988d3b017eb41a0bbd2f92e14fe2472": {
      "model_module": "@jupyter-widgets/controls",
      "model_module_version": "2.0.0",
      "model_name": "HTMLStyleModel",
      "state": {
       "_model_module": "@jupyter-widgets/controls",
       "_model_module_version": "2.0.0",
       "_model_name": "HTMLStyleModel",
       "_view_count": null,
       "_view_module": "@jupyter-widgets/base",
       "_view_module_version": "2.0.0",
       "_view_name": "StyleView",
       "background": null,
       "description_width": "",
       "font_size": null,
       "text_color": null
      }
     },
     "413ed71fdb194b1b99e8870abdc01043": {
      "model_module": "@jupyter-widgets/controls",
      "model_module_version": "2.0.0",
      "model_name": "HTMLStyleModel",
      "state": {
       "_model_module": "@jupyter-widgets/controls",
       "_model_module_version": "2.0.0",
       "_model_name": "HTMLStyleModel",
       "_view_count": null,
       "_view_module": "@jupyter-widgets/base",
       "_view_module_version": "2.0.0",
       "_view_name": "StyleView",
       "background": null,
       "description_width": "",
       "font_size": null,
       "text_color": null
      }
     },
     "4cb1cd44d7b04190a99b06ddeb16b092": {
      "model_module": "@jupyter-widgets/base",
      "model_module_version": "2.0.0",
      "model_name": "LayoutModel",
      "state": {
       "_model_module": "@jupyter-widgets/base",
       "_model_module_version": "2.0.0",
       "_model_name": "LayoutModel",
       "_view_count": null,
       "_view_module": "@jupyter-widgets/base",
       "_view_module_version": "2.0.0",
       "_view_name": "LayoutView",
       "align_content": null,
       "align_items": null,
       "align_self": null,
       "border_bottom": null,
       "border_left": null,
       "border_right": null,
       "border_top": null,
       "bottom": null,
       "display": null,
       "flex": null,
       "flex_flow": null,
       "grid_area": null,
       "grid_auto_columns": null,
       "grid_auto_flow": null,
       "grid_auto_rows": null,
       "grid_column": null,
       "grid_gap": null,
       "grid_row": null,
       "grid_template_areas": null,
       "grid_template_columns": null,
       "grid_template_rows": null,
       "height": null,
       "justify_content": null,
       "justify_items": null,
       "left": null,
       "margin": null,
       "max_height": null,
       "max_width": null,
       "min_height": null,
       "min_width": null,
       "object_fit": null,
       "object_position": null,
       "order": null,
       "overflow": null,
       "padding": null,
       "right": null,
       "top": null,
       "visibility": null,
       "width": null
      }
     },
     "521ac5a3601241c581016e1b0f46ce63": {
      "model_module": "@jupyter-widgets/base",
      "model_module_version": "2.0.0",
      "model_name": "LayoutModel",
      "state": {
       "_model_module": "@jupyter-widgets/base",
       "_model_module_version": "2.0.0",
       "_model_name": "LayoutModel",
       "_view_count": null,
       "_view_module": "@jupyter-widgets/base",
       "_view_module_version": "2.0.0",
       "_view_name": "LayoutView",
       "align_content": null,
       "align_items": null,
       "align_self": null,
       "border_bottom": null,
       "border_left": null,
       "border_right": null,
       "border_top": null,
       "bottom": null,
       "display": null,
       "flex": null,
       "flex_flow": null,
       "grid_area": null,
       "grid_auto_columns": null,
       "grid_auto_flow": null,
       "grid_auto_rows": null,
       "grid_column": null,
       "grid_gap": null,
       "grid_row": null,
       "grid_template_areas": null,
       "grid_template_columns": null,
       "grid_template_rows": null,
       "height": null,
       "justify_content": null,
       "justify_items": null,
       "left": null,
       "margin": null,
       "max_height": null,
       "max_width": null,
       "min_height": null,
       "min_width": null,
       "object_fit": null,
       "object_position": null,
       "order": null,
       "overflow": null,
       "padding": null,
       "right": null,
       "top": null,
       "visibility": null,
       "width": null
      }
     },
     "5d0d9e9411d1417c87b86e805cb9429a": {
      "model_module": "@jupyter-widgets/controls",
      "model_module_version": "2.0.0",
      "model_name": "HTMLModel",
      "state": {
       "_dom_classes": [],
       "_model_module": "@jupyter-widgets/controls",
       "_model_module_version": "2.0.0",
       "_model_name": "HTMLModel",
       "_view_count": null,
       "_view_module": "@jupyter-widgets/controls",
       "_view_module_version": "2.0.0",
       "_view_name": "HTMLView",
       "description": "",
       "description_allow_html": false,
       "layout": "IPY_MODEL_521ac5a3601241c581016e1b0f46ce63",
       "placeholder": "​",
       "style": "IPY_MODEL_20e1ee8ffbb74bd392f693847225036f",
       "tabbable": null,
       "tooltip": null,
       "value": "Extracting images-dataSAT.tar: 100%"
      }
     },
     "5ea5a40686f3407dad9bd023b5d92f56": {
      "model_module": "@jupyter-widgets/controls",
      "model_module_version": "2.0.0",
      "model_name": "HBoxModel",
      "state": {
       "_dom_classes": [],
       "_model_module": "@jupyter-widgets/controls",
       "_model_module_version": "2.0.0",
       "_model_name": "HBoxModel",
       "_view_count": null,
       "_view_module": "@jupyter-widgets/controls",
       "_view_module_version": "2.0.0",
       "_view_name": "HBoxView",
       "box_style": "",
       "children": [
        "IPY_MODEL_5d0d9e9411d1417c87b86e805cb9429a",
        "IPY_MODEL_9b687746793441e7ab6965a2adcd55a5",
        "IPY_MODEL_6c5fd37e975e4921ae7e679c7b1213c4"
       ],
       "layout": "IPY_MODEL_be6bee9aad4745f992defc872664032f",
       "tabbable": null,
       "tooltip": null
      }
     },
     "6c5fd37e975e4921ae7e679c7b1213c4": {
      "model_module": "@jupyter-widgets/controls",
      "model_module_version": "2.0.0",
      "model_name": "HTMLModel",
      "state": {
       "_dom_classes": [],
       "_model_module": "@jupyter-widgets/controls",
       "_model_module_version": "2.0.0",
       "_model_name": "HTMLModel",
       "_view_count": null,
       "_view_module": "@jupyter-widgets/controls",
       "_view_module_version": "2.0.0",
       "_view_name": "HTMLView",
       "description": "",
       "description_allow_html": false,
       "layout": "IPY_MODEL_4cb1cd44d7b04190a99b06ddeb16b092",
       "placeholder": "​",
       "style": "IPY_MODEL_3988d3b017eb41a0bbd2f92e14fe2472",
       "tabbable": null,
       "tooltip": null,
       "value": " 6003/6003 [00:00&lt;00:00, 9827.20it/s]"
      }
     },
     "6e1fbfe06ea44d39b58155953fdfebb7": {
      "model_module": "@jupyter-widgets/controls",
      "model_module_version": "2.0.0",
      "model_name": "FloatProgressModel",
      "state": {
       "_dom_classes": [],
       "_model_module": "@jupyter-widgets/controls",
       "_model_module_version": "2.0.0",
       "_model_name": "FloatProgressModel",
       "_view_count": null,
       "_view_module": "@jupyter-widgets/controls",
       "_view_module_version": "2.0.0",
       "_view_name": "ProgressView",
       "bar_style": "success",
       "description": "",
       "description_allow_html": false,
       "layout": "IPY_MODEL_0fc13afb745d4e92b91b952e2f5c9ed2",
       "max": 20243456.0,
       "min": 0.0,
       "orientation": "horizontal",
       "style": "IPY_MODEL_c8a0ff2deccb4d47bc52f60530a150c1",
       "tabbable": null,
       "tooltip": null,
       "value": 20243456.0
      }
     },
     "702d03af545640ffba8dd2d09dded63d": {
      "model_module": "@jupyter-widgets/base",
      "model_module_version": "2.0.0",
      "model_name": "LayoutModel",
      "state": {
       "_model_module": "@jupyter-widgets/base",
       "_model_module_version": "2.0.0",
       "_model_name": "LayoutModel",
       "_view_count": null,
       "_view_module": "@jupyter-widgets/base",
       "_view_module_version": "2.0.0",
       "_view_name": "LayoutView",
       "align_content": null,
       "align_items": null,
       "align_self": null,
       "border_bottom": null,
       "border_left": null,
       "border_right": null,
       "border_top": null,
       "bottom": null,
       "display": null,
       "flex": null,
       "flex_flow": null,
       "grid_area": null,
       "grid_auto_columns": null,
       "grid_auto_flow": null,
       "grid_auto_rows": null,
       "grid_column": null,
       "grid_gap": null,
       "grid_row": null,
       "grid_template_areas": null,
       "grid_template_columns": null,
       "grid_template_rows": null,
       "height": null,
       "justify_content": null,
       "justify_items": null,
       "left": null,
       "margin": null,
       "max_height": null,
       "max_width": null,
       "min_height": null,
       "min_width": null,
       "object_fit": null,
       "object_position": null,
       "order": null,
       "overflow": null,
       "padding": null,
       "right": null,
       "top": null,
       "visibility": null,
       "width": null
      }
     },
     "70a817d9a34246659788b290ee63615b": {
      "model_module": "@jupyter-widgets/controls",
      "model_module_version": "2.0.0",
      "model_name": "HTMLModel",
      "state": {
       "_dom_classes": [],
       "_model_module": "@jupyter-widgets/controls",
       "_model_module_version": "2.0.0",
       "_model_name": "HTMLModel",
       "_view_count": null,
       "_view_module": "@jupyter-widgets/controls",
       "_view_module_version": "2.0.0",
       "_view_name": "HTMLView",
       "description": "",
       "description_allow_html": false,
       "layout": "IPY_MODEL_0cfada8f2ad14dada1119a6b6fa8efa9",
       "placeholder": "​",
       "style": "IPY_MODEL_413ed71fdb194b1b99e8870abdc01043",
       "tabbable": null,
       "tooltip": null,
       "value": " 20243456/20243456 [00:02&lt;00:00, 16331655.34it/s]"
      }
     },
     "89fec7254a1740a9929392fcf3708729": {
      "model_module": "@jupyter-widgets/base",
      "model_module_version": "2.0.0",
      "model_name": "LayoutModel",
      "state": {
       "_model_module": "@jupyter-widgets/base",
       "_model_module_version": "2.0.0",
       "_model_name": "LayoutModel",
       "_view_count": null,
       "_view_module": "@jupyter-widgets/base",
       "_view_module_version": "2.0.0",
       "_view_name": "LayoutView",
       "align_content": null,
       "align_items": null,
       "align_self": null,
       "border_bottom": null,
       "border_left": null,
       "border_right": null,
       "border_top": null,
       "bottom": null,
       "display": null,
       "flex": null,
       "flex_flow": null,
       "grid_area": null,
       "grid_auto_columns": null,
       "grid_auto_flow": null,
       "grid_auto_rows": null,
       "grid_column": null,
       "grid_gap": null,
       "grid_row": null,
       "grid_template_areas": null,
       "grid_template_columns": null,
       "grid_template_rows": null,
       "height": null,
       "justify_content": null,
       "justify_items": null,
       "left": null,
       "margin": null,
       "max_height": null,
       "max_width": null,
       "min_height": null,
       "min_width": null,
       "object_fit": null,
       "object_position": null,
       "order": null,
       "overflow": null,
       "padding": null,
       "right": null,
       "top": null,
       "visibility": null,
       "width": null
      }
     },
     "8b0247897165409788d6166c82c14b4c": {
      "model_module": "@jupyter-widgets/controls",
      "model_module_version": "2.0.0",
      "model_name": "ProgressStyleModel",
      "state": {
       "_model_module": "@jupyter-widgets/controls",
       "_model_module_version": "2.0.0",
       "_model_name": "ProgressStyleModel",
       "_view_count": null,
       "_view_module": "@jupyter-widgets/base",
       "_view_module_version": "2.0.0",
       "_view_name": "StyleView",
       "bar_color": null,
       "description_width": ""
      }
     },
     "9b687746793441e7ab6965a2adcd55a5": {
      "model_module": "@jupyter-widgets/controls",
      "model_module_version": "2.0.0",
      "model_name": "FloatProgressModel",
      "state": {
       "_dom_classes": [],
       "_model_module": "@jupyter-widgets/controls",
       "_model_module_version": "2.0.0",
       "_model_name": "FloatProgressModel",
       "_view_count": null,
       "_view_module": "@jupyter-widgets/controls",
       "_view_module_version": "2.0.0",
       "_view_name": "ProgressView",
       "bar_style": "success",
       "description": "",
       "description_allow_html": false,
       "layout": "IPY_MODEL_702d03af545640ffba8dd2d09dded63d",
       "max": 6003.0,
       "min": 0.0,
       "orientation": "horizontal",
       "style": "IPY_MODEL_8b0247897165409788d6166c82c14b4c",
       "tabbable": null,
       "tooltip": null,
       "value": 6003.0
      }
     },
     "be6bee9aad4745f992defc872664032f": {
      "model_module": "@jupyter-widgets/base",
      "model_module_version": "2.0.0",
      "model_name": "LayoutModel",
      "state": {
       "_model_module": "@jupyter-widgets/base",
       "_model_module_version": "2.0.0",
       "_model_name": "LayoutModel",
       "_view_count": null,
       "_view_module": "@jupyter-widgets/base",
       "_view_module_version": "2.0.0",
       "_view_name": "LayoutView",
       "align_content": null,
       "align_items": null,
       "align_self": null,
       "border_bottom": null,
       "border_left": null,
       "border_right": null,
       "border_top": null,
       "bottom": null,
       "display": null,
       "flex": null,
       "flex_flow": null,
       "grid_area": null,
       "grid_auto_columns": null,
       "grid_auto_flow": null,
       "grid_auto_rows": null,
       "grid_column": null,
       "grid_gap": null,
       "grid_row": null,
       "grid_template_areas": null,
       "grid_template_columns": null,
       "grid_template_rows": null,
       "height": null,
       "justify_content": null,
       "justify_items": null,
       "left": null,
       "margin": null,
       "max_height": null,
       "max_width": null,
       "min_height": null,
       "min_width": null,
       "object_fit": null,
       "object_position": null,
       "order": null,
       "overflow": null,
       "padding": null,
       "right": null,
       "top": null,
       "visibility": null,
       "width": null
      }
     },
     "c8a0ff2deccb4d47bc52f60530a150c1": {
      "model_module": "@jupyter-widgets/controls",
      "model_module_version": "2.0.0",
      "model_name": "ProgressStyleModel",
      "state": {
       "_model_module": "@jupyter-widgets/controls",
       "_model_module_version": "2.0.0",
       "_model_name": "ProgressStyleModel",
       "_view_count": null,
       "_view_module": "@jupyter-widgets/base",
       "_view_module_version": "2.0.0",
       "_view_name": "StyleView",
       "bar_color": null,
       "description_width": ""
      }
     },
     "d01964a69396469bacb87cf71c9ebab2": {
      "model_module": "@jupyter-widgets/controls",
      "model_module_version": "2.0.0",
      "model_name": "HBoxModel",
      "state": {
       "_dom_classes": [],
       "_model_module": "@jupyter-widgets/controls",
       "_model_module_version": "2.0.0",
       "_model_name": "HBoxModel",
       "_view_count": null,
       "_view_module": "@jupyter-widgets/controls",
       "_view_module_version": "2.0.0",
       "_view_name": "HBoxView",
       "box_style": "",
       "children": [
        "IPY_MODEL_1bf36e1d78924b6daa2027a66cf372d7",
        "IPY_MODEL_6e1fbfe06ea44d39b58155953fdfebb7",
        "IPY_MODEL_70a817d9a34246659788b290ee63615b"
       ],
       "layout": "IPY_MODEL_2e7fe7c605264eb3b2c85bf05be15ab9",
       "tabbable": null,
       "tooltip": null
      }
     }
    },
    "version_major": 2,
    "version_minor": 0
   }
  }
 },
 "nbformat": 4,
 "nbformat_minor": 4
}
