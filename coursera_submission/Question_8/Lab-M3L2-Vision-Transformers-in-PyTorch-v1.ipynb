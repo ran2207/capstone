{
 "cells": [
  {
   "cell_type": "markdown",
   "id": "6498861f-52ef-4ba3-bbbe-9259792a610f",
   "metadata": {},
   "source": [
    "<div style=\"text-align: center;\">\n",
    "  <a href=\"https://cognitiveclass.ai/?utm_medium=Exinfluencer&utm_source=Exinfluencer&utm_content=000026UJ&utm_term=10006555&utm_id=NA-SkillsNetwork-Channel-SkillsNetworkCoursesIBMDeveloperSkillsNetworkDL0321ENSkillsNetwork951-2022-01-01\">\n",
    "    <img src=\"https://cf-courses-data.s3.us.cloud-object-storage.appdomain.cloud/IBMDeveloperSkillsNetwork-DL0321EN-SkillsNetwork/image/IDSN-logo.png\" width=\"400\">\n",
    "  </a>\n",
    "</div>\n"
   ]
  },
  {
   "cell_type": "markdown",
   "id": "ba100652-ab0d-44a0-a145-00b5a2b06ff4",
   "metadata": {},
   "source": [
    "<h1 align=left><font size = 6>Lab: Vision Transformers Using PyTorch </font></h1>\n"
   ]
  },
  {
   "cell_type": "markdown",
   "id": "5b5c1104-b4b0-427a-befb-1b205b14486c",
   "metadata": {},
   "source": [
    "<h5>Estimated time: 90 minutes</h5>\n"
   ]
  },
  {
   "cell_type": "markdown",
   "id": "915562dc-e4a2-4da0-a4b5-3d4a605d2987",
   "metadata": {},
   "source": [
    "## Introduction\n",
    "\n",
    "In this notebook, you will learn to build a PyTorch-based hybrid Convolutional Neural Network (CNN) and Vision Transformer (ViT) for image classification. \n",
    "You'll start by using CNN layers to extract detailed features, such as edges and textures, from images. Then, you'll see how those features are passed to a Vision Transformer, which looks at the global correlations in the entire image by looking at all locations at once. Then, you will train a hybrid CNN-ViT model, and by the end of this lab, you'll also know how to monitor its performance. This approach gives you practical experience with state-of-the-art techniques in computer vision!\n"
   ]
  },
  {
   "cell_type": "markdown",
   "id": "7955effd",
   "metadata": {},
   "source": [
    "<h2>Objective</h2>\n",
    "\n",
    "This notebook demonstrates how to use a custom trained PyTorch CNN model to extract feature maps and use them with a Vision Transformer (ViT) architecture to create a CNN-ViT hybrid architecture.\n",
    "\n",
    "After completing this lab, you will be able to:\n",
    "<ul>\n",
    "    \n",
    "1. Load the custom trained PyTorch CNN model\n",
    "2. Extract feature maps from the PyTorch model\n",
    "3. Prepare tokens for the Vision Transformer\n",
    "4. Build the Vision Transformer encoder\n",
    "5. Train and evaluate the hybrid model\n",
    "\n",
    "</ul>\n"
   ]
  },
  {
   "cell_type": "markdown",
   "id": "toc",
   "metadata": {},
   "source": [
    "# Table of Contents\n",
    "- [Model paths and download](#Model-paths-and-download)\n",
    "- [Defining pre-trained CNN backbone](#Defining-pre-trained-CNN-backbone)\n",
    "- [Vision Transformers](#Vision-Transformers)\n",
    "    - [Patch embedding](#Patch-embedding)\n",
    "    - [Multi-head self-attention (MHSA) module](#Multi-head-self-attention-(MHSA)-module)\n",
    "    - [Transformer block](#Transformer-block)\n",
    "    - [Vision Transformer (ViT) model](#Vision-Transformer-(ViT)-model)\n",
    "- [CNN-ViT hybrid model](#CNN-ViT-hybrid-model)\n",
    "- [Model training](#Model-training)\n",
    "- [Model evaluation](#Model-evaluation)\n",
    "- [Data preparation and loading](#Data-preparation-and-loading)\n",
    "- [Model initialization and training loop](#Model-initialization-and-training-loop)\n",
    "- [Plotting training and validation accuracy and loss](#Plotting-training-and-validation-accuracy-and-loss)\n"
   ]
  },
  {
   "cell_type": "markdown",
   "id": "4f18f62d",
   "metadata": {},
   "source": [
    "## Data download and extraction\n",
    "Let's begin by downloading the dataset for evaluation of the models.\n",
    "Here, you declare:\n",
    "1. The dataset URL from where the dataset would be downloaded\n",
    "2. The dataset downloading primary function, based on the `skillsnetwork` library\n",
    "3. The dataset fallback downloading function, based on regular `http` downloading functions\n"
   ]
  },
  {
   "cell_type": "code",
   "execution_count": 1,
   "id": "b77975cb-407e-4066-b3c7-4cc5e59ceb77",
   "metadata": {
    "execution": {
     "iopub.execute_input": "2025-10-27T07:51:04.711944Z",
     "iopub.status.busy": "2025-10-27T07:51:04.711552Z",
     "iopub.status.idle": "2025-10-27T07:51:11.477716Z",
     "shell.execute_reply": "2025-10-27T07:51:11.477318Z"
    }
   },
   "outputs": [
    {
     "name": "stdout",
     "output_type": "stream",
     "text": [
      "Write permissions available for downloading and extracting the dataset tar file\n"
     ]
    },
    {
     "data": {
      "application/vnd.jupyter.widget-view+json": {
       "model_id": "1557058353ee457f8ca66a5c1178455c",
       "version_major": 2,
       "version_minor": 0
      },
      "text/plain": [
       "Downloading images-dataSAT.tar:   0%|          | 0/20243456 [00:00<?, ?it/s]"
      ]
     },
     "metadata": {},
     "output_type": "display_data"
    },
    {
     "data": {
      "application/vnd.jupyter.widget-view+json": {
       "model_id": "00743bcc5ea04e25a9a41dfe02d16752",
       "version_major": 2,
       "version_minor": 0
      },
      "text/plain": [
       "  0%|          | 0/6003 [00:00<?, ?it/s]"
      ]
     },
     "metadata": {},
     "output_type": "display_data"
    },
    {
     "name": "stdout",
     "output_type": "stream",
     "text": [
      "Saved to '.'\n"
     ]
    }
   ],
   "source": [
    "import os\n",
    "import skillsnetwork\n",
    "\n",
    "data_dir = \".\"\n",
    "dataset_url = \"https://cf-courses-data.s3.us.cloud-object-storage.appdomain.cloud/4Z1fwRR295-1O3PMQBH6Dg/images-dataSAT.tar\"\n",
    "\n",
    "\n",
    "def check_skillnetwork_extraction(extract_dir):\n",
    "    \"\"\"Check if the environment allows symlink creation for download/extraction.\"\"\"\n",
    "    symlink_test = os.path.join(extract_dir, \"symlink_test\")\n",
    "    if not os.path.exists(symlink_test):\n",
    "        os.symlink(os.path.join(os.sep, \"tmp\"), symlink_test)\n",
    "        print(\"Write permissions available for downloading and extracting the dataset tar file\")\n",
    "        os.unlink(symlink_test)\n",
    "\n",
    "async def download_tar_dataset(url, tar_path, extract_dir):\n",
    "    \"\"\"Download and extract dataset tar file asynchronously.\"\"\"\n",
    "    if not os.path.exists(tar_path):\n",
    "        try:\n",
    "            print(f\"Downloading from {url}...\")\n",
    "            import httpx\n",
    "            async with httpx.AsyncClient() as client:\n",
    "                response = await client.get(url, follow_redirects=True)\n",
    "                response.raise_for_status()\n",
    "                with open(tar_path, \"wb\") as f:\n",
    "                    f.write(response.content)\n",
    "            print(f\"Successfully downloaded '{tar_path}'.\")\n",
    "        except Exception as e:\n",
    "            print(f\"Download error: {e}\")\n",
    "    else:\n",
    "        print(f\"Dataset tar file already exists at: {tar_path}\")\n",
    "    import tarfile\n",
    "    with tarfile.open(tar_path, 'r:*') as tar_ref:\n",
    "        tar_ref.extractall(path=extract_dir)\n",
    "        print(f\"Successfully extracted to '{extract_dir}'.\")\n",
    "\n",
    "try:\n",
    "    check_skillnetwork_extraction(data_dir)\n",
    "    await skillsnetwork.prepare(url=dataset_url, path=data_dir, overwrite=True)\n",
    "except Exception as e:\n",
    "    print(e)\n",
    "    print(\"Primary download/extraction method failed.\")\n",
    "    print(\"Falling back to manual download and extraction...\")\n",
    "    import tarfile\n",
    "    import httpx\n",
    "    from pathlib import Path\n",
    "    file_name = Path(dataset_url).name\n",
    "    tar_path = os.path.join(data_dir, file_name)\n",
    "    await download_tar_dataset(dataset_url, tar_path, data_dir)"
   ]
  },
  {
   "cell_type": "markdown",
   "id": "87c1f18c",
   "metadata": {},
   "source": [
    "## Package installation\n",
    "\n",
    "Install PyTorch and python packages libraries\n"
   ]
  },
  {
   "cell_type": "code",
   "execution_count": 2,
   "id": "b79b410f-de2d-4603-b062-f770fc469d00",
   "metadata": {
    "execution": {
     "iopub.execute_input": "2025-10-27T07:51:11.478980Z",
     "iopub.status.busy": "2025-10-27T07:51:11.478896Z",
     "iopub.status.idle": "2025-10-27T07:51:13.803868Z",
     "shell.execute_reply": "2025-10-27T07:51:13.803057Z"
    }
   },
   "outputs": [
    {
     "name": "stdout",
     "output_type": "stream",
     "text": [
      "CPU times: user 7.93 ms, sys: 9.95 ms, total: 17.9 ms\n",
      "Wall time: 2.32 s\n"
     ]
    }
   ],
   "source": [
    "%%time\n",
    "%%capture captured_output\n",
    "%pip install numpy==1.26 matplotlib==3.9.2 skillsnetwork\n",
    "%pip install torch==2.8.0+cpu torchvision==0.23.0+cpu torchaudio==2.8.0+cpu \\\n",
    "    --index-url https://download.pytorch.org/whl/cpu"
   ]
  },
  {
   "cell_type": "markdown",
   "id": "134c4ade",
   "metadata": {},
   "source": [
    "## Library imports and setup\n",
    "\n",
    "Import essential libraries for data manipulation, visualization, and suppresses warnings for cleaner notebook output.\n"
   ]
  },
  {
   "cell_type": "code",
   "execution_count": 3,
   "id": "cd0fcdf5",
   "metadata": {
    "execution": {
     "iopub.execute_input": "2025-10-27T07:51:13.806064Z",
     "iopub.status.busy": "2025-10-27T07:51:13.805887Z",
     "iopub.status.idle": "2025-10-27T07:51:13.985206Z",
     "shell.execute_reply": "2025-10-27T07:51:13.984767Z"
    }
   },
   "outputs": [
    {
     "name": "stdout",
     "output_type": "stream",
     "text": [
      "CPU times: user 151 ms, sys: 20.4 ms, total: 171 ms\n",
      "Wall time: 176 ms\n"
     ]
    }
   ],
   "source": [
    "%%time\n",
    "import warnings\n",
    "warnings.filterwarnings('ignore')\n",
    "\n",
    "import os\n",
    "import time\n",
    "import httpx\n",
    "import random\n",
    "import numpy as np\n",
    "from tqdm import tqdm\n",
    "import matplotlib.pyplot as plt\n",
    "from datetime import datetime\n",
    "\n",
    "def present_time():\n",
    "        return datetime.now().strftime('%Y%m%d_%H%M%S')\n"
   ]
  },
  {
   "cell_type": "markdown",
   "id": "d46c7a98",
   "metadata": {},
   "source": [
    "### PyTorch library imports\n",
    "\n",
    "Import core PyTorch modules for model building, optimization, data loading, and functional utilities.\n"
   ]
  },
  {
   "cell_type": "code",
   "execution_count": 4,
   "id": "92b7cb66",
   "metadata": {
    "execution": {
     "iopub.execute_input": "2025-10-27T07:51:13.986485Z",
     "iopub.status.busy": "2025-10-27T07:51:13.986383Z",
     "iopub.status.idle": "2025-10-27T07:51:15.256173Z",
     "shell.execute_reply": "2025-10-27T07:51:15.255852Z"
    }
   },
   "outputs": [
    {
     "name": "stdout",
     "output_type": "stream",
     "text": [
      "Imported PyTorch libraries\n",
      "CPU times: user 759 ms, sys: 159 ms, total: 918 ms\n",
      "Wall time: 1.27 s\n"
     ]
    }
   ],
   "source": [
    "%%time\n",
    "import torch\n",
    "import torch.nn as nn\n",
    "import torch.optim as optim\n",
    "from torchvision import transforms, datasets\n",
    "from torch.utils.data import DataLoader, random_split\n",
    "import torch.nn.functional as F\n",
    "print(\"Imported PyTorch libraries\")"
   ]
  },
  {
   "cell_type": "markdown",
   "id": "4bc53fe7",
   "metadata": {},
   "source": [
    "## Model download helper\n",
    "\n",
    "Now, define an asynchronous function to download model files from given URLs, if they are not already present locally. \n",
    "You use `httpx` for asynchronous HTTP requests with error handling.\n"
   ]
  },
  {
   "cell_type": "code",
   "execution_count": 5,
   "id": "e211b54b",
   "metadata": {
    "execution": {
     "iopub.execute_input": "2025-10-27T07:51:15.257634Z",
     "iopub.status.busy": "2025-10-27T07:51:15.257505Z",
     "iopub.status.idle": "2025-10-27T07:51:15.259846Z",
     "shell.execute_reply": "2025-10-27T07:51:15.259455Z"
    }
   },
   "outputs": [],
   "source": [
    "async def download_model(url, model_path):\n",
    "    if not os.path.exists(model_path):\n",
    "        try:\n",
    "            print(f\"Downloading from {url}...\")\n",
    "            import httpx\n",
    "            async with httpx.AsyncClient() as client:\n",
    "                response = await client.get(url, follow_redirects=True)\n",
    "                response.raise_for_status()\n",
    "                with open(model_path, \"wb\") as f:\n",
    "                    f.write(response.content)\n",
    "            print(f\"Successfully downloaded '{model_path}'.\")\n",
    "        except Exception as e:\n",
    "            print(f\"Download error: {e}\")\n",
    "    else:\n",
    "        print(f\"Model file already downloaded at: {model_path}\")"
   ]
  },
  {
   "cell_type": "markdown",
   "id": "c644faa0-0939-4668-a380-4c1ecce6e0e8",
   "metadata": {},
   "source": [
    "## Lab layout\n",
    "- First, you download the pre-trained PyTorch based CNN model.\n",
    "- Then, you define the CNN backbone. This is same as defined in the training of the pre-trained model.\n",
    "- The CNN backbone reduces the input image’s spatial dimensions and expands its feature channels. You then convert this feature map into a sequence of tokens for the Vision Transformer (ViT).\n",
    "- These tokens are passed into a ViT module. The ViT is applied after the CNN so it can model global relationships and context between different regions in the original image, something CNNs alone cannot do as effectively.\n",
    "- You use a sequential hybrid architecture: the CNN performs local feature extraction, and the ViT, using those extracted features, performs global reasoning. This leverages the strengths of both models for improved accuracy and generalization.\n",
    "- Feature reshaping is used: the CNN feature map is flattened and fed into the transformer, and positional encoding might be added to preserve spatial information.\n",
    "- You train this hybrid model end-to-end, meaning both the CNN and ViT parameters are updated together to optimize classification performance.\n",
    "- Throughout the process, you are able to monitor both local (CNN) and global (ViT) attention across the image, resulting in a model that is more robust and effective than using either approach alone\n"
   ]
  },
  {
   "cell_type": "markdown",
   "id": "c2e94bd9",
   "metadata": {},
   "source": [
    "## Model paths and download\n",
    "\n",
    "In the cell below, you define the file paths and URLs for the Keras and PyTorch models and download them using the `download_model` function defined above.\n"
   ]
  },
  {
   "cell_type": "code",
   "execution_count": 6,
   "id": "c8d1c145-57c5-4031-ac2b-d207dd229ffe",
   "metadata": {
    "execution": {
     "iopub.execute_input": "2025-10-27T07:51:15.260918Z",
     "iopub.status.busy": "2025-10-27T07:51:15.260842Z",
     "iopub.status.idle": "2025-10-27T07:51:15.262565Z",
     "shell.execute_reply": "2025-10-27T07:51:15.262172Z"
    }
   },
   "outputs": [],
   "source": [
    "data_dir = \".\"\n",
    "\n",
    "pytorch_state_dict_url = \"https://cf-courses-data.s3.us.cloud-object-storage.appdomain.cloud/8J2QEyQqD8x9zjrlnv6N7g/ai-capstone-pytorch-best-model-20250713.pth\"\n",
    "pytorch_state_dict_name = \"ai_capstone_pytorch_best_model_state_dict_downloaded.pth\"\n",
    "pytorch_state_dict_path = os.path.join(data_dir, pytorch_state_dict_name)"
   ]
  },
  {
   "cell_type": "code",
   "execution_count": 7,
   "id": "c5edf8ee-dab8-4a70-afd1-0a6cb65e7992",
   "metadata": {
    "execution": {
     "iopub.execute_input": "2025-10-27T07:51:15.263422Z",
     "iopub.status.busy": "2025-10-27T07:51:15.263362Z",
     "iopub.status.idle": "2025-10-27T07:51:15.265186Z",
     "shell.execute_reply": "2025-10-27T07:51:15.264851Z"
    }
   },
   "outputs": [
    {
     "name": "stdout",
     "output_type": "stream",
     "text": [
      "Model file already downloaded at: ./ai_capstone_pytorch_best_model_state_dict_downloaded.pth\n"
     ]
    }
   ],
   "source": [
    "await download_model(pytorch_state_dict_url, pytorch_state_dict_path)"
   ]
  },
  {
   "cell_type": "markdown",
   "id": "d484b21c-163f-444a-8acb-134a04347a32",
   "metadata": {},
   "source": [
    "## Ensuring repeatability in PyTorch\n",
    "\n",
    "To achieve reproducible results when you train a CNN in PyTorch, you must seed every random-number generator and configures cuDNN for deterministic kernels.\n",
    "* **Python & NumPy** – Many data-pipeline utilities (shuffling lists, image augmentations) rely on these random-number generators. Seeding them first removes one entire layer of randomness.\n",
    "* **PyTorch CPU / GPU** – `torch.manual_seed` covers every op executed on the CPU, while `torch.cuda.manual_seed_all` applies the same seed to each GPU stream so that multi-GPU jobs stay in sync.\n",
    "* **cuDNN flags** – By default cuDNN picks the fastest convolution algorithm, which can vary run-to-run. Setting `deterministic=True` forces repeatable kernels and turning `benchmark` *off* prevents the auto-tuner from replacing those kernels mid-training.\n"
   ]
  },
  {
   "cell_type": "code",
   "execution_count": 8,
   "id": "53c7de30-36e4-4dae-bd80-be7442bb4c22",
   "metadata": {
    "execution": {
     "iopub.execute_input": "2025-10-27T07:51:15.266124Z",
     "iopub.status.busy": "2025-10-27T07:51:15.266068Z",
     "iopub.status.idle": "2025-10-27T07:51:15.267824Z",
     "shell.execute_reply": "2025-10-27T07:51:15.267526Z"
    }
   },
   "outputs": [],
   "source": [
    "def set_seed(seed: int = 42) -> None:\n",
    "    \"\"\"Seed Python, NumPy, and PyTorch (CPU & all GPUs) and\n",
    "    make cuDNN run in deterministic mode.\"\"\"\n",
    "    # ---- Python and NumPy -------------------------------------------\n",
    "    random.seed(seed)\n",
    "    np.random.seed(seed)\n",
    "\n",
    "    # ---- PyTorch (CPU  &  GPU) --------------------------------------\n",
    "    torch.manual_seed(seed)            \n",
    "    torch.cuda.manual_seed_all(seed)   \n",
    "\n",
    "    # ---- cuDNN: force repeatable convolutions -----------------------\n",
    "    torch.backends.cudnn.deterministic = True \n",
    "    torch.backends.cudnn.benchmark     = False \n"
   ]
  },
  {
   "cell_type": "code",
   "execution_count": 9,
   "id": "ff9c5ae1-9248-431f-a606-5778f2f5ca01",
   "metadata": {
    "execution": {
     "iopub.execute_input": "2025-10-27T07:51:15.268679Z",
     "iopub.status.busy": "2025-10-27T07:51:15.268621Z",
     "iopub.status.idle": "2025-10-27T07:51:15.273188Z",
     "shell.execute_reply": "2025-10-27T07:51:15.272816Z"
    }
   },
   "outputs": [
    {
     "name": "stdout",
     "output_type": "stream",
     "text": [
      "Global seed set to 7331 - main process is now deterministic.\n"
     ]
    }
   ],
   "source": [
    "SEED = 7331\n",
    "set_seed(SEED)\n",
    "print(f\"Global seed set to {SEED} - main process is now deterministic.\")"
   ]
  },
  {
   "cell_type": "markdown",
   "id": "cnn-doc",
   "metadata": {},
   "source": [
    "## Defining pre-trained CNN backbone\n",
    "\n",
    "In this cell, you will create and implement a **ConvNet** class. This class serves as the convolutional backbone for the hybrid CNN-ViT architecture. \n",
    "The design of this class will be **same as the training architecture**, with six progressive convolutional blocks.\n",
    "\n",
    "- **`forward_features()`**: Returns the raw convolutional feature map (B, 1024, H, W) for use by the **ViT component**\n",
    "\n",
    "- **Role in hybrid architecture**: In the hybrid model, this CNN serves as a **local feature extractor**, capturing low-level patterns, edges, and textures before passing the feature-rich representation to the Vision Transformer for global context modeling. The 1024-channel output provides a rich semantic representation that the ViT can process as a sequence of tokens.\n"
   ]
  },
  {
   "cell_type": "code",
   "execution_count": 10,
   "id": "2a120e6b-5689-4be7-9709-d7ebfa3cd3e5",
   "metadata": {
    "execution": {
     "iopub.execute_input": "2025-10-27T07:51:15.274158Z",
     "iopub.status.busy": "2025-10-27T07:51:15.274090Z",
     "iopub.status.idle": "2025-10-27T07:51:15.276511Z",
     "shell.execute_reply": "2025-10-27T07:51:15.276118Z"
    }
   },
   "outputs": [],
   "source": [
    "class ConvNet(nn.Module):\n",
    "    ''' \n",
    "    Class to define the architecture same as the imported pre-trained CNN model for extracting the` feature map\n",
    "    '''\n",
    "    def __init__(self, num_classes):\n",
    "        super().__init__()\n",
    "        self.features = nn.Sequential(\n",
    "            nn.Conv2d(3, 32, 5, padding=2), nn.ReLU(), nn.MaxPool2d(2), nn.BatchNorm2d(32),\n",
    "            nn.Conv2d(32, 64, 5, padding=2), nn.ReLU(), nn.MaxPool2d(2), nn.BatchNorm2d(64),\n",
    "            nn.Conv2d(64, 128, 5, padding=2), nn.ReLU(), nn.MaxPool2d(2), nn.BatchNorm2d(128),\n",
    "            nn.Conv2d(128, 256, 5, padding=2), nn.ReLU(), nn.MaxPool2d(2), nn.BatchNorm2d(256),\n",
    "            nn.Conv2d(256, 512, 5, padding=2), nn.ReLU(), nn.MaxPool2d(2), nn.BatchNorm2d(512),\n",
    "            nn.Conv2d(512, 1024, 5, padding=2), nn.ReLU(), nn.MaxPool2d(2), nn.BatchNorm2d(1024)\n",
    "        )\n",
    "\n",
    "    def forward_features(self, x):\n",
    "        return self.features(x)      # (B,1024,H,W)\n"
   ]
  },
  {
   "cell_type": "markdown",
   "id": "7a6e6958-07b3-4037-9f91-d7ac6e4d2f81",
   "metadata": {},
   "source": [
    "# Vision Transformers\n"
   ]
  },
  {
   "cell_type": "markdown",
   "id": "929cdcfe-8228-4e8a-851e-bbd79f5f18e5",
   "metadata": {},
   "source": [
    "### Patch embedding\n",
    " The **PatchEmbed** class implements the **interface** between the CNN feature extractor and the Vision Transformer, converting spatial feature maps into a sequence of tokens suitable for self-attention processing.\n",
    "\n",
    "Unlike traditional ViT implementations that divide raw images into fixed-size patches, this hybrid approach operates on CNN feature maps. The implementation uses a **1×1 convolution** as a learned linear projection to transform the 1024-dimensional CNN features into the transformer's embedding dimension (default 768).\n",
    "\n",
    "The transformation process involves three key steps:\n",
    "1. **Channel projection**: `nn.Conv2d(in_ch, embed_dim, kernel_size=1)` reduces or expands the channel dimension from 1024 to the preferred embedding size\n",
    "2. **Spatial flattening**: `.flatten(2)` collapses the height and width dimensions (H×W) into a single sequence dimension\n",
    "3. **Tensor reshaping**: `.transpose(1,2)` reorders dimensions from (B, D, L) to (B, L, D) where L=H×W represents the sequence length\n",
    "\n",
    "**Integration with hybrid architecture**\n",
    "\n",
    "In the context of the hybrid model, this patch embedding serves as the **bridge** between local CNN features and global transformer processing. Since the CNN has already extracted meaningful local patterns, the patch embedding focuses on format conversion rather than feature extraction. This design is more **efficient** than traditional ViT patch embedding since the CNN has already performed the heavy lifting of feature extraction from raw pixels.\n",
    "\n",
    "The **output tensor** (B, L, D) represents a batch of sequences where each sequence contains L tokens (corresponding to spatial locations in the feature map) with D-dimensional embeddings ready for transformer processing.\n"
   ]
  },
  {
   "cell_type": "code",
   "execution_count": 11,
   "id": "01a517d5-b6fa-4fe5-a848-02cfc84106eb",
   "metadata": {
    "execution": {
     "iopub.execute_input": "2025-10-27T07:51:15.277435Z",
     "iopub.status.busy": "2025-10-27T07:51:15.277377Z",
     "iopub.status.idle": "2025-10-27T07:51:15.279180Z",
     "shell.execute_reply": "2025-10-27T07:51:15.278842Z"
    }
   },
   "outputs": [],
   "source": [
    "class PatchEmbed(nn.Module):\n",
    "    def __init__(self, input_channel=1024, embed_dim=768):\n",
    "        super().__init__()\n",
    "        self.proj = nn.Conv2d(input_channel, embed_dim, kernel_size=1)  # 1×1 conv\n",
    "    def forward(self, x):\n",
    "        x = self.proj(x).flatten(2).transpose(1, 2)  # (B,L,D)\n",
    "        return x"
   ]
  },
  {
   "cell_type": "markdown",
   "id": "mhsa-doc",
   "metadata": {},
   "source": [
    "## Multi-head self-attention (MHSA) module\n",
    "\n",
    "The **MHSA** class implements the self-attention mechanism that enables the Vision Transformer to model long-range dependencies and global context across all spatial locations in the feature map.\n",
    "\n",
    "The implementation follows the scaled dot-product attention formula: **Attention(Q,K,V) = softmax(QK^T/√d)V**, where Q, K, and V represent query, key, and value matrices, respectively. The scaling factor 1/sqrt(d) prevents the dot products from becoming too large, which would push the softmax function into regions with extremely small gradients.\n",
    "\n",
    "The multi-head mechanism splits the embedding dimension across multiple attention heads, allowing the model to attend to different types of relationships simultaneously. \n",
    "\n",
    "### Key implementation details:\n",
    "\n",
    "- **Unified QKV projection**: A single linear layer `nn.Linear(dim, dim*3)` generates Q, K, and V matrices efficiently, reducing memory overhead compared to separate projections\n",
    "- **Head reshaping**: The tensor is reshaped from (B, N, D) to (B, heads, N, d) where d = D/heads, enabling parallel processing across heads\n",
    "- **Attention computation**: Matrix multiplication `torch.matmul(q, k.transpose(-2, -1))` computes attention scores, followed by scaling and softmax normalization\n",
    "- **Dropout regularization**: Two dropout layers prevent overfitting - one on attention weights and one on the final output\n",
    "\n",
    "\n",
    "Unlike CNNs, which have limited receptive fields, self-attention allows every token to interact directly with every other token in a single operation. This enables the model to **capture long-range spatial dependencies** that might be missed by purely convolutional approaches. \n",
    "\n",
    "#### In the hybrid architecture, this global modeling complements the local feature extraction performed by the CNN backbone.\n",
    "\n",
    "The attention weights provide interpretability, showing which spatial locations the model focuses on when making predictions. This component is valuable for both performance and explainability.\n"
   ]
  },
  {
   "cell_type": "code",
   "execution_count": 12,
   "id": "9f7114dc-5a8b-4aea-8509-e2dd13bb8f6a",
   "metadata": {
    "execution": {
     "iopub.execute_input": "2025-10-27T07:51:15.280065Z",
     "iopub.status.busy": "2025-10-27T07:51:15.280005Z",
     "iopub.status.idle": "2025-10-27T07:51:15.282416Z",
     "shell.execute_reply": "2025-10-27T07:51:15.282047Z"
    }
   },
   "outputs": [],
   "source": [
    "class MHSA(nn.Module):\n",
    "    def __init__(self, dim, heads=8, dropout=0.):\n",
    "        super().__init__()\n",
    "        self.heads = heads\n",
    "        self.scale = (dim // heads) ** -0.5\n",
    "        self.qkv = nn.Linear(dim, dim * 3)\n",
    "        self.attn_drop = nn.Dropout(dropout)\n",
    "        self.proj = nn.Linear(dim, dim)\n",
    "        self.proj_drop = nn.Dropout(dropout)\n",
    "    def forward(self, x):\n",
    "        B, N, D = x.shape\n",
    "        q, k, v = self.qkv(x).chunk(3, dim=-1)\n",
    "        q = q.reshape(B, N, self.heads, -1).transpose(1, 2)  # (B, heads, N, d)\n",
    "        k = k.reshape(B, N, self.heads, -1).transpose(1, 2)\n",
    "        v = v.reshape(B, N, self.heads, -1).transpose(1, 2)\n",
    "        attn = torch.matmul(q, k.transpose(-2, -1)) * self.scale\n",
    "        attn = self.attn_drop(attn.softmax(dim=-1))\n",
    "        x = torch.matmul(attn, v).transpose(1, 2).reshape(B, N, D)\n",
    "        return self.proj_drop(self.proj(x))"
   ]
  },
  {
   "cell_type": "markdown",
   "id": "aebd0ac5-89ec-4445-9d6d-e3cc86dfbae1",
   "metadata": {},
   "source": [
    "## Transformer block\n",
    "This code defines a building block used in modern deep learning models, especially in Vision Transformers. The class is called TransformerBlock, and it is responsible for helping the model “pay attention” to the most important parts of its input and improve the final predictions.\n",
    "\n",
    "Let’s break down what happens inside:\n",
    "\n",
    "**Layer normalization (nn.LayerNorm):** This helps stabilize and speed up training by normalizing each row of the input data, which is useful before applying attention or a neural network layer.\n",
    "\n",
    "**Attention layer (MHSA):** This is the “Multi-Head Self Attention” block. It enables the model to look at all positions in the sequence (or image patches) at once, figuring out which ones are most important for each output. It’s like giving the model the power to focus on the key parts of an image or sentence.\n",
    "\n",
    "**MLP (nn.Sequential):** This is a **Multi-Layer Perceptron** or a mini neural network, made up of linear (fully connected) layers, a special activation (GELU), and dropout for regularization. This MLP has:\n",
    "- One linear layer that expands the input dimension by mlp_ratio (for example, 4× wider).\n",
    "- A GELU activation function (a nonlinear operation, similar to ReLU).\n",
    "- Dropout for regularization (helps prevent overfitting).\n",
    "- Another linear layer that shrinks the data back to the original dimension.\n",
    "- Another dropout layer.\n",
    "Here, MLP is designed to help the model learn better representations by combining and transforming the information after the attention step.\n",
    "\n",
    "**Skip/Residual connections (x + ...):** These connections support effective and stable training for deep neural networks by keeping pathways open for both forward information flow and backward gradient flow, making deep architectures such as transformers possible and practical. In transformers, skip connections are placed around both the attention and feedforward (MLP) sub-layers in each block. This stabilizes training of these very deep, stackable models, improves convergence speed, and lets them scale to larger datasets and more complex tasks.\n",
    "\n",
    "In summary, this block helps models understand relationships in their input data, making them more powerful for tasks such as image and language understanding!\n"
   ]
  },
  {
   "cell_type": "code",
   "execution_count": 13,
   "id": "64f158e5-3c37-4682-8fe8-1db3d6813dfd",
   "metadata": {
    "execution": {
     "iopub.execute_input": "2025-10-27T07:51:15.283348Z",
     "iopub.status.busy": "2025-10-27T07:51:15.283290Z",
     "iopub.status.idle": "2025-10-27T07:51:15.285325Z",
     "shell.execute_reply": "2025-10-27T07:51:15.284990Z"
    }
   },
   "outputs": [],
   "source": [
    "class TransformerBlock(nn.Module):\n",
    "    def __init__(self, dim, heads, mlp_ratio=4., dropout=0.):\n",
    "        super().__init__()\n",
    "        self.norm1 = nn.LayerNorm(dim)\n",
    "        self.attn  = MHSA(dim, heads, dropout)\n",
    "        self.norm2 = nn.LayerNorm(dim)\n",
    "        self.mlp   = nn.Sequential(\n",
    "                                    nn.Linear(dim, int(dim * mlp_ratio)),\n",
    "                                    nn.GELU(), nn.Dropout(dropout),\n",
    "                                    nn.Linear(int(dim * mlp_ratio), dim),\n",
    "                                    nn.Dropout(dropout))\n",
    "    def forward(self, x):\n",
    "        x = x + self.attn(self.norm1(x))\n",
    "        x = x + self.mlp(self.norm2(x))\n",
    "        return x"
   ]
  },
  {
   "cell_type": "markdown",
   "id": "vit-doc",
   "metadata": {},
   "source": [
    "## Vision Transformer (ViT) model\n",
    "\n",
    "The **ViT** class represents the complete Vision Transformer implementation, including patch embedding, positional encoding, transformer blocks, and a classification head for global context modeling.\n",
    "\n",
    "The implementation uses a learnable **Classification [CLS] token**:\n",
    "- **Initialization**: `nn.Parameter(torch.zeros(1, 1, embed_dim))` creates a learnable token initialized to zeros\n",
    "- **Expansion**: `self.cls.expand(B, -1, -1)` replicates the token across the batch dimension\n",
    "- **Prepending**: `torch.cat((cls, x), 1)` concatenates the CLS token to the beginning of the sequence\n",
    "- **Classification**: Only the CLS token representation is used for final classification\n",
    "\n",
    "This allows the CLS token to aggregate information from all spatial locations through self-attention, creating a global representation suitable for classification.\n",
    "\n",
    "`nn.Parameter(torch.randn(1, max_tokens, embed_dim))` creates a large positional embedding matrix\n",
    "and `self.pos[:, :L+1]` dynamically slices the positional embeddings to match the actual sequence length. Together, these create a **dynamic positional encoding** system for the hybrid architecture where the CNN feature map size can vary based on input image dimensions.\n",
    "\n",
    "\n",
    "**`depth`** defines the number of transformerBlocks to be used in the transformer encoder\n",
    "### Classification head design\n",
    "\n",
    "The final classification pipeline includes:\n",
    "1. **Final normalization**: `self.norm(x)` applies LayerNorm to the final transformer output\n",
    "2. **CLS token extraction**: `[:, 0]` selects only the CLS token representation\n",
    "3. **Linear classification**: `self.head` maps the CLS representation to class logits\n",
    "\n",
    "The model's ability to handle variable sequence lengths makes it robust to different input sizes and CNN architectures, providing flexibility in deployment scenarios.\n"
   ]
  },
  {
   "cell_type": "code",
   "execution_count": 14,
   "id": "4b1fd0bb-d07d-4b32-b441-2757d8b931b8",
   "metadata": {
    "execution": {
     "iopub.execute_input": "2025-10-27T07:51:15.286246Z",
     "iopub.status.busy": "2025-10-27T07:51:15.286185Z",
     "iopub.status.idle": "2025-10-27T07:51:15.288653Z",
     "shell.execute_reply": "2025-10-27T07:51:15.288342Z"
    }
   },
   "outputs": [],
   "source": [
    "class ViT(nn.Module):\n",
    "    def __init__(self, in_ch=1024, num_classes=2,\n",
    "                 embed_dim=768, depth=6, heads=8,\n",
    "                 mlp_ratio=4., dropout=0.1, max_tokens=50):\n",
    "        super().__init__()\n",
    "        self.patch = PatchEmbed(in_ch, embed_dim)           # 1×1 conv\n",
    "        self.cls   = nn.Parameter(torch.zeros(1, 1, embed_dim))\n",
    "        self.pos   = nn.Parameter(torch.randn(1, max_tokens, embed_dim))\n",
    "        self.blocks = nn.ModuleList([\n",
    "            TransformerBlock(embed_dim, heads, mlp_ratio, dropout)\n",
    "            for _ in range(depth)])\n",
    "        self.norm = nn.LayerNorm(embed_dim)\n",
    "        self.head = nn.Linear(embed_dim, num_classes)\n",
    "\n",
    "    def forward(self, x):                          # x: (B,C,H,W)\n",
    "        x = self.patch(x)                          # (B,L,D)\n",
    "        B, L, _ = x.shape\n",
    "        cls = self.cls.expand(B, -1, -1)           # (B,1,D)\n",
    "        x = torch.cat((cls, x), 1)                 # (B,L+1,D)\n",
    "        x = x + self.pos[:, :L + 1]                # match seq-len\n",
    "        for blk in self.blocks:\n",
    "            x = blk(x)\n",
    "        return self.head(self.norm(x)[:, 0])       # CLS token"
   ]
  },
  {
   "cell_type": "markdown",
   "id": "hybrid-doc",
   "metadata": {},
   "source": [
    "## CNN-ViT hybrid model\n",
    "\n",
    "The **CNN_ViT_Hybrid** class represents the hybrid architecture, integrating the CNN backbone with the Vision Transformer to create a unified model that leverages both local and global feature processing capabilities.\n",
    "In this hybrid model, the pre-trained CNN layers can be frozen while fine-tuning the Vi and allows for **efficient attention** to operate on semantically rich CNN features rather than raw pixels\n",
    "Thus, this hybrid approach combines the excellent capabilities of CNN to capture local patterns efficiently with ViTs' global context modeling, while keeping the level of complexity low.\n",
    "\n",
    "The forward pass implements a **two-stage forward pass pipeline**:\n",
    "1. **Local feature extraction**: `self.cnn.forward_features(x)` processes the input image through the CNN backbone, extracting hierarchical local features and reducing spatial resolution while increasing semantic depth.\n",
    "2. **Global context modeling**: `self.vit(features)` takes the CNN feature map and processes it through the Vision Transformer for global reasoning and classification.\n",
    "\n",
    "Despite the modular design, the entire hybrid model remains **fully differentiable**, enabling end-to-end training where gradients could flow from the classification loss back through both the ViT and CNN components. This allows the CNN to learn features that are optimally suited for the downstream transformer processing, creating a synergistic relationship between the two architectures.\n"
   ]
  },
  {
   "cell_type": "code",
   "execution_count": 15,
   "id": "dbf7d20d-9a55-4398-90a9-81e860f62838",
   "metadata": {
    "execution": {
     "iopub.execute_input": "2025-10-27T07:51:15.289700Z",
     "iopub.status.busy": "2025-10-27T07:51:15.289636Z",
     "iopub.status.idle": "2025-10-27T07:51:15.291440Z",
     "shell.execute_reply": "2025-10-27T07:51:15.291148Z"
    }
   },
   "outputs": [],
   "source": [
    "class CNN_ViT_Hybrid(nn.Module):\n",
    "    def __init__(self, num_classes=2, embed_dim=768, depth=6, heads=8):\n",
    "        super().__init__()\n",
    "        self.cnn = ConvNet(num_classes)            # load weights later\n",
    "        self.vit = ViT(num_classes=num_classes,\n",
    "                       embed_dim=embed_dim,\n",
    "                       depth=depth,\n",
    "                       heads=heads)\n",
    "    def forward(self, x):\n",
    "        return self.vit(self.cnn.forward_features(x))"
   ]
  },
  {
   "cell_type": "markdown",
   "id": "train-doc",
   "metadata": {},
   "source": [
    "# Model training\n",
    "\n",
    "The **train** function implements a comprehensive training loop for one epoch, handling forward propagation, loss computation, backpropagation, and metric tracking in a memory-efficient manner.\n",
    "\n",
    "**Training mode**\n",
    "The function begins with `model.train()`, which configures the model for training by enabling dropout layers and gradient computation\n",
    "\n",
    "**Batch processing pipeline**\n",
    "Each training iteration follows a standard deep learning pipeline:\n",
    "\n",
    "1. **Data transfer**: `x, y = x.to(device), y.to(device)` moves input data and labels to the appropriate device (CPU/GPU)\n",
    "2. **Gradient reset**: `optimizer.zero_grad()` clears gradients from the previous iteration to prevent accumulation\n",
    "3. **Forward pass**: `out = model(x)` computes predictions through the hybrid CNN-ViT architecture\n",
    "4. **Loss computation**: `loss = criterion(out, y)` calculates cross-entropy loss between predictions and ground truth\n",
    "5. **Backpropagation**: `loss.backward()` computes gradients via automatic differentiation\n",
    "6. **Parameter update**: `optimizer.step()` updates model parameters using the computed gradients\n",
    "\n",
    "**Metric accumulation**: The function tracks two key metrics:\n",
    "- **Weighted loss**: `loss.item() * x.size(0)` accumulates loss weighted by batch size for accurate averaging\n",
    "- **Correct predictions**: `(out.argmax(1) == y).sum().item()` counts correct predictions using argmax for multi-class classification\n"
   ]
  },
  {
   "cell_type": "code",
   "execution_count": 16,
   "id": "27c5540f-b131-4cfd-9d18-93d51b4dca23",
   "metadata": {
    "execution": {
     "iopub.execute_input": "2025-10-27T07:51:15.292376Z",
     "iopub.status.busy": "2025-10-27T07:51:15.292317Z",
     "iopub.status.idle": "2025-10-27T07:51:15.294413Z",
     "shell.execute_reply": "2025-10-27T07:51:15.294004Z"
    }
   },
   "outputs": [],
   "source": [
    "def train(model, loader, optimizer, criterion, device):\n",
    "    model.train()\n",
    "    loss_sum, correct = 0, 0\n",
    "    for batch_idx, (x, y) in enumerate(tqdm(loader, desc=\"Training  \")):\n",
    "        x, y = x.to(device), y.to(device)\n",
    "        optimizer.zero_grad()\n",
    "        out = model(x)\n",
    "        loss = criterion(out, y)\n",
    "        loss.backward()\n",
    "        optimizer.step()\n",
    "        loss_sum += loss.item() * x.size(0)\n",
    "        correct  += (out.argmax(1) == y).sum().item()\n",
    "    return loss_sum / len(loader.dataset), correct / len(loader.dataset)"
   ]
  },
  {
   "cell_type": "markdown",
   "id": "eval-doc",
   "metadata": {},
   "source": [
    "## Model evaluation\n",
    "Here, you will evaluate the model, implementing inference without gradient computation to optimize memory usage and computational speed.\n",
    "\n",
    "Two fundamental differences between using the model for evaluation and testing versus training are:\n",
    "- **`torch.no_grad()`**:  Disables gradient computation and accelerate inference\n",
    "- **`model.eval()`**: Switches the model to evaluation mode, ensures deterministic outputs\n",
    "\n",
    "The **evaluation loop** mirrors the training loop structure but omits gradient-related operations.\n",
    "\n",
    "This function **integrates with the training pipeline**, providing regular validation checks that help monitor model progress, detect overfitting, and make informed decisions about training continuation, learning rate adjustments, and model selection. The consistent interface with the training function enables easy integration into automated training workflows.\n"
   ]
  },
  {
   "cell_type": "code",
   "execution_count": 17,
   "id": "eaa42f92-0538-4490-a62f-8d1d37b64fbc",
   "metadata": {
    "execution": {
     "iopub.execute_input": "2025-10-27T07:51:15.295379Z",
     "iopub.status.busy": "2025-10-27T07:51:15.295303Z",
     "iopub.status.idle": "2025-10-27T07:51:15.297263Z",
     "shell.execute_reply": "2025-10-27T07:51:15.296964Z"
    }
   },
   "outputs": [],
   "source": [
    "def evaluate(model, loader, criterion, device):\n",
    "    with torch.no_grad():\n",
    "        model.eval()\n",
    "        loss_sum, correct = 0, 0\n",
    "        for batch_idx, (x, y) in enumerate(tqdm(loader, desc=\"Validation\")):\n",
    "            x, y = x.to(device), y.to(device)\n",
    "            out = model(x)\n",
    "            loss = criterion(out, y)\n",
    "            loss_sum += loss.item() * x.size(0)\n",
    "            correct  += (out.argmax(1) == y).sum().item()\n",
    "    return loss_sum / len(loader.dataset), correct / len(loader.dataset)"
   ]
  },
  {
   "cell_type": "markdown",
   "id": "202fafbd-1abd-4df8-a3a6-4d05b05f7307",
   "metadata": {},
   "source": [
    "## Data preparation and loading\n",
    "\n",
    "Here, you implement data preparation for the entire data pipeline, from raw image loading to batched tensor delivery.\n",
    "\n",
    "You define the key training hyperparameters:\n",
    "- **Image size (64×64)**: Chosen for computational efficiency while maintaining sufficient resolution for feature extraction\n",
    "- **Batch size (128)**: Balances memory usage with gradient stability and training speed\n",
    "- **learning rate (0.001)**: A conservative number for learning\n",
    "- **number of classes**: Total number of classes to be classified by the model\n"
   ]
  },
  {
   "cell_type": "code",
   "execution_count": 18,
   "id": "c925c5c6-80f1-42f2-9212-f4c02bc50d16",
   "metadata": {
    "execution": {
     "iopub.execute_input": "2025-10-27T07:51:15.298169Z",
     "iopub.status.busy": "2025-10-27T07:51:15.298110Z",
     "iopub.status.idle": "2025-10-27T07:51:15.299786Z",
     "shell.execute_reply": "2025-10-27T07:51:15.299494Z"
    }
   },
   "outputs": [],
   "source": [
    "dataset_path = os.path.join(data_dir, \"images_dataSAT\")\n",
    "\n",
    "img_size = 64\n",
    "batch_size = 32\n",
    "lr = 0.001\n",
    "num_cls  = 2\n"
   ]
  },
  {
   "cell_type": "markdown",
   "id": "b411ea27-22c9-404a-973b-e0c362e190f9",
   "metadata": {},
   "source": [
    "### Training data transformations\n",
    "The **training transform** pipeline implements several **augmentation techniques** including Random Rotation, Random Horizontal Flip, Random Affine with Shear and normalization.\n"
   ]
  },
  {
   "cell_type": "markdown",
   "id": "42c719f2-ff7e-4e00-ad27-256a6d2cdc36",
   "metadata": {},
   "source": [
    "## Task: Create `train_transform` transforms for the training dataset\n",
    "- Use the following parameters:\n",
    "    - Size: `img_size x img_size`\n",
    "    - `RandomRotation`: 40\n",
    "    - `RandomHorizontalFlip`\n",
    "    - `RandomAffine(0, shear=0.2)`\n",
    "    - `Normalization` values: ([0.485, 0.456, 0.406], [0.229, 0.224, 0.225])\n"
   ]
  },
  {
   "cell_type": "code",
   "execution_count": 19,
   "id": "43b7aec3-13f2-4b33-8093-2edb676a86b6",
   "metadata": {
    "execution": {
     "iopub.execute_input": "2025-10-27T07:51:15.300822Z",
     "iopub.status.busy": "2025-10-27T07:51:15.300763Z",
     "iopub.status.idle": "2025-10-27T07:51:15.302272Z",
     "shell.execute_reply": "2025-10-27T07:51:15.301924Z"
    }
   },
   "outputs": [],
   "source": [
    "## You can use this cell to type the code to complete the task.\n"
   ]
  },
  {
   "cell_type": "markdown",
   "id": "6fa3d4eb-f274-4fb7-be03-55235456b920",
   "metadata": {},
   "source": [
    "Double-click **here** for the solution.\n",
    "<!--\n",
    "train_transform = transforms.Compose([transforms.Resize((img_size, img_size)),\n",
    "                                      transforms.RandomRotation(40),\n",
    "                                      transforms.RandomHorizontalFlip(),\n",
    "                                      transforms.RandomAffine(0, shear=0.2),\n",
    "                                      transforms.ToTensor(),\n",
    "                                      transforms.Normalize([0.485, 0.456, 0.406], [0.229, 0.224, 0.225])\n",
    "                                     ])\n",
    "-->\n"
   ]
  },
  {
   "cell_type": "markdown",
   "id": "66c55c42-34cb-40ba-821a-f1d3f870ae0d",
   "metadata": {},
   "source": [
    "### Validation data transformations\n",
    "The **validation transform** is minimal for **deterministic preprocessing** to ensure reproducible validation results\n"
   ]
  },
  {
   "cell_type": "markdown",
   "id": "9e944b6e-9aa1-4413-ae6d-5943aa7abe2d",
   "metadata": {},
   "source": [
    "## Task: Create `val_transform` transforms for the validation dataset\n",
    "- Use the following parameters:\n",
    "    - Size: `img_size x img_size`\n",
    "    - `Normalization` values: ([0.485, 0.456, 0.406], [0.229, 0.224, 0.225])\n"
   ]
  },
  {
   "cell_type": "code",
   "execution_count": 20,
   "id": "7f8d96f8-c895-4fc7-9818-384393dc238c",
   "metadata": {
    "execution": {
     "iopub.execute_input": "2025-10-27T07:51:15.303213Z",
     "iopub.status.busy": "2025-10-27T07:51:15.303155Z",
     "iopub.status.idle": "2025-10-27T07:51:15.304669Z",
     "shell.execute_reply": "2025-10-27T07:51:15.304352Z"
    }
   },
   "outputs": [],
   "source": [
    "## You can use this cell to type the code to complete the task.\n"
   ]
  },
  {
   "cell_type": "markdown",
   "id": "a5870c47-4c92-4b81-b46d-3ce72eb45952",
   "metadata": {},
   "source": [
    "Double-click **here** for the solution.\n",
    "<!--\n",
    "val_transform = transforms.Compose([transforms.Resize((img_size, img_size)),\n",
    "                                    transforms.ToTensor(),\n",
    "                                    transforms.Normalize([0.485, 0.456, 0.406], [0.229, 0.224, 0.225])\n",
    "                                    ])\n",
    "-->\n"
   ]
  },
  {
   "cell_type": "markdown",
   "id": "e40beced-ab3f-4bda-876d-0a61b137382a",
   "metadata": {},
   "source": [
    "### The DataLoader\n",
    "\n",
    "The DataLoader setup is optimized for training:\n",
    "- **Shuffling**: Training data is shuffled to prevent batch-level patterns\n",
    "- **No Validation Shuffling**: Validation order is consistent for reproducible results\n",
    "- **`batch_size`**: Efficient tensor batching for GPU utilization\n",
    "\n",
    "You begin by splitting the dataset into `training` and `validation` data using `random_split` feature. Here, you define **80%** (0.8 fraction) of the total dataset for training and rest for validation.\n",
    "\n",
    "Next, you apply the `train_transform` to `train_dataset` and `val_transform` to `val_dataset` to make the dataset ready for DataLoader\n"
   ]
  },
  {
   "cell_type": "code",
   "execution_count": 21,
   "id": "e68dee90-ccc1-4933-b55e-cfa1ec1b2fc4",
   "metadata": {
    "execution": {
     "iopub.execute_input": "2025-10-27T07:51:15.305724Z",
     "iopub.status.busy": "2025-10-27T07:51:15.305650Z",
     "iopub.status.idle": "2025-10-27T07:51:15.368037Z",
     "shell.execute_reply": "2025-10-27T07:51:15.367726Z"
    }
   },
   "outputs": [
    {
     "ename": "NameError",
     "evalue": "name 'train_transform' is not defined",
     "output_type": "error",
     "traceback": [
      "\u001b[31m---------------------------------------------------------------------------\u001b[39m",
      "\u001b[31mNameError\u001b[39m                                 Traceback (most recent call last)",
      "\u001b[36mCell\u001b[39m\u001b[36m \u001b[39m\u001b[32mIn[21]\u001b[39m\u001b[32m, line 1\u001b[39m\n\u001b[32m----> \u001b[39m\u001b[32m1\u001b[39m full_dataset = datasets.ImageFolder(dataset_path, transform=\u001b[43mtrain_transform\u001b[49m)\n\u001b[32m      3\u001b[39m train_size = \u001b[38;5;28mint\u001b[39m(\u001b[32m0.8\u001b[39m * \u001b[38;5;28mlen\u001b[39m(full_dataset))\n\u001b[32m      4\u001b[39m val_size = \u001b[38;5;28mlen\u001b[39m(full_dataset) - train_size\n",
      "\u001b[31mNameError\u001b[39m: name 'train_transform' is not defined"
     ]
    }
   ],
   "source": [
    "full_dataset = datasets.ImageFolder(dataset_path, transform=train_transform)\n",
    "\n",
    "train_size = int(0.8 * len(full_dataset))\n",
    "val_size = len(full_dataset) - train_size\n",
    "train_dataset, val_dataset = random_split(full_dataset, [train_size, val_size])\n",
    "train_dataset.dataset.transform = train_transform\n",
    "val_dataset.dataset.transform = val_transform"
   ]
  },
  {
   "cell_type": "markdown",
   "id": "e96107c1-49a1-428b-b412-ff214cdfa2ac",
   "metadata": {},
   "source": [
    "## Task: Create the Dataloader `train_loader` and `val_loader` using `train_dataset` and `val_dataset`\n",
    "- Use the following parameters:\n",
    "    - `batch_size=batch_size`\n",
    "    - for `train_loader`: `shuffle=True`\n",
    "    - for `val_loader`: `shuffle=False`\n"
   ]
  },
  {
   "cell_type": "code",
   "execution_count": 22,
   "id": "1d72de3d-4f8e-445b-991d-9474ce10ffa6",
   "metadata": {
    "execution": {
     "iopub.execute_input": "2025-10-27T07:51:15.369187Z",
     "iopub.status.busy": "2025-10-27T07:51:15.369114Z",
     "iopub.status.idle": "2025-10-27T07:51:15.370720Z",
     "shell.execute_reply": "2025-10-27T07:51:15.370356Z"
    }
   },
   "outputs": [],
   "source": [
    "## You can use this cell to type the code to complete the task.\n"
   ]
  },
  {
   "cell_type": "markdown",
   "id": "9ea67f23-a7f6-4a72-b6a7-5f8ac702561c",
   "metadata": {},
   "source": [
    "Double-click **here** for the solution.\n",
    "<!--\n",
    "train_loader = DataLoader(train_dataset, \n",
    "                          batch_size=batch_size,\n",
    "                          shuffle=True,\n",
    "                         )\n",
    "\n",
    "val_loader = DataLoader(val_dataset,\n",
    "                        batch_size=batch_size,\n",
    "                        shuffle=False,\n",
    "                       )\n",
    "-->\n"
   ]
  },
  {
   "cell_type": "markdown",
   "id": "loop-doc",
   "metadata": {},
   "source": [
    "## Model initialization and training loop\n",
    "\n",
    "This cell orchestrates the complete training pipeline, from model instantiation through iterative training and validation, implementing comprehensive monitoring and logging for effective model development.\n",
    "\n",
    "- **CUDA detection**: `torch.cuda.is_available()` checks for GPU availability\n",
    "\n",
    "The hybrid model is instantiated with carefully chosen hyperparameters:\n",
    "- **Number of classes**: `num_classes=2` configured for the specific dataset\n",
    "- **Default architecture**: Uses ViT configuration (768 embedding dim, 1  transformer layer, 1 heads)\n",
    "\n",
    "### Transfer learning integration\n",
    "\n",
    "The commented line demonstrates transfer learning capability:\n",
    "- **Pre-trained weights**: Option to load pre-trained CNN backbone weights\n",
    "- **Flexible loading**: `strict=False` allows partial weight loading\n",
    "\n",
    "**Optimizer**: The training uses the `adam` optimizer.\n",
    "\n",
    "The training loop collects the **training and validation metrics** to track training performance and monitor generalization of the model.\n",
    "\n",
    "### Training loop architecture\n",
    "\n",
    "Each epoch follows a structured pipeline:\n",
    "1. **Timing**: `time.time()` tracks epoch duration for performance monitoring\n",
    "2. **Training phase**: Calls the training function with appropriate parameters\n",
    "3. **Validation phase**: Evaluates model on validation set\n",
    "4. **Logging**: Comprehensive output showing all metrics and timing\n",
    "5. **Storage**: Appends metrics to tracking lists for later analysis\n",
    "\n",
    "In this training cell, you create a robust, monitored, and efficient training pipeline that provides comprehensive insights into model performance while maintaining computational efficiency and enabling easy debugging and optimization.\n"
   ]
  },
  {
   "cell_type": "code",
   "execution_count": 23,
   "id": "1605bf28-929b-4eda-8da7-61ef0f8b0f1c",
   "metadata": {
    "execution": {
     "iopub.execute_input": "2025-10-27T07:51:15.371603Z",
     "iopub.status.busy": "2025-10-27T07:51:15.371546Z",
     "iopub.status.idle": "2025-10-27T07:51:15.494198Z",
     "shell.execute_reply": "2025-10-27T07:51:15.493795Z"
    }
   },
   "outputs": [
    {
     "name": "stdout",
     "output_type": "stream",
     "text": [
      "Training the model on cpu\n",
      "epochs:5 | batch:32 | attn_heads:6 | depth:3 | embed_dim:768\n"
     ]
    },
    {
     "name": "stdout",
     "output_type": "stream",
     "text": [
      "\n",
      "Epoch 01/05 started at 20251027_115115 (UTC)\n"
     ]
    },
    {
     "ename": "NameError",
     "evalue": "name 'train_loader' is not defined",
     "output_type": "error",
     "traceback": [
      "\u001b[31m---------------------------------------------------------------------------\u001b[39m",
      "\u001b[31mNameError\u001b[39m                                 Traceback (most recent call last)",
      "\u001b[36mCell\u001b[39m\u001b[36m \u001b[39m\u001b[32mIn[23]\u001b[39m\u001b[32m, line 41\u001b[39m\n\u001b[32m     39\u001b[39m start_time = time.time()\n\u001b[32m     40\u001b[39m \u001b[38;5;28mprint\u001b[39m(\u001b[33mf\u001b[39m\u001b[33m\"\u001b[39m\u001b[38;5;130;01m\\n\u001b[39;00m\u001b[33mEpoch \u001b[39m\u001b[38;5;132;01m{\u001b[39;00mepoch\u001b[38;5;132;01m:\u001b[39;00m\u001b[33m02d\u001b[39m\u001b[38;5;132;01m}\u001b[39;00m\u001b[33m/\u001b[39m\u001b[38;5;132;01m{\u001b[39;00mepochs\u001b[38;5;132;01m:\u001b[39;00m\u001b[33m02d\u001b[39m\u001b[38;5;132;01m}\u001b[39;00m\u001b[33m started at \u001b[39m\u001b[38;5;132;01m{\u001b[39;00mpresent_time()\u001b[38;5;132;01m}\u001b[39;00m\u001b[33m (UTC)\u001b[39m\u001b[33m\"\u001b[39m)\n\u001b[32m---> \u001b[39m\u001b[32m41\u001b[39m tr_loss,tr_acc = train(model, \u001b[43mtrain_loader\u001b[49m, optimizer, criterion, device)\n\u001b[32m     42\u001b[39m te_loss,te_acc = evaluate(model, val_loader, criterion, device)\n\u001b[32m     43\u001b[39m \u001b[38;5;28mprint\u001b[39m(\u001b[33mf\u001b[39m\u001b[33m\"\u001b[39m\u001b[33mEpoch \u001b[39m\u001b[38;5;132;01m{\u001b[39;00mepoch\u001b[38;5;132;01m:\u001b[39;00m\u001b[33m02d\u001b[39m\u001b[38;5;132;01m}\u001b[39;00m\u001b[33m | \u001b[39m\u001b[33m\"\u001b[39m\n\u001b[32m     44\u001b[39m       \u001b[33mf\u001b[39m\u001b[33m\"\u001b[39m\u001b[33mtrain loss \u001b[39m\u001b[38;5;132;01m{\u001b[39;00mtr_loss\u001b[38;5;132;01m:\u001b[39;00m\u001b[33m.4f\u001b[39m\u001b[38;5;132;01m}\u001b[39;00m\u001b[33m acc \u001b[39m\u001b[38;5;132;01m{\u001b[39;00mtr_acc\u001b[38;5;132;01m:\u001b[39;00m\u001b[33m.4f\u001b[39m\u001b[38;5;132;01m}\u001b[39;00m\u001b[33m | \u001b[39m\u001b[33m\"\u001b[39m\n\u001b[32m     45\u001b[39m       \u001b[33mf\u001b[39m\u001b[33m\"\u001b[39m\u001b[33mval loss \u001b[39m\u001b[38;5;132;01m{\u001b[39;00mte_loss\u001b[38;5;132;01m:\u001b[39;00m\u001b[33m.4f\u001b[39m\u001b[38;5;132;01m}\u001b[39;00m\u001b[33m acc \u001b[39m\u001b[38;5;132;01m{\u001b[39;00mte_acc\u001b[38;5;132;01m:\u001b[39;00m\u001b[33m.4f\u001b[39m\u001b[38;5;132;01m}\u001b[39;00m\u001b[33m |\u001b[39m\u001b[33m\"\u001b[39m\n\u001b[32m     46\u001b[39m       \u001b[33mf\u001b[39m\u001b[33m\"\u001b[39m\u001b[33m in  \u001b[39m\u001b[38;5;132;01m{\u001b[39;00mtime.time()-start_time\u001b[38;5;132;01m:\u001b[39;00m\u001b[33m.02f\u001b[39m\u001b[38;5;132;01m}\u001b[39;00m\u001b[33ms\u001b[39m\u001b[33m\"\u001b[39m\n\u001b[32m     47\u001b[39m     )\n",
      "\u001b[31mNameError\u001b[39m: name 'train_loader' is not defined"
     ]
    }
   ],
   "source": [
    "device   = \"cuda\" if torch.cuda.is_available() else \"cpu\"\n",
    "print(f\"Training the model on {device}\")\n",
    "\n",
    "\n",
    "epochs     = 5\n",
    "attn_heads = 6\n",
    "depth      = 3\n",
    "embed_dim  = 768\n",
    "\n",
    "print(f\"epochs:{epochs} | batch:{batch_size} | attn_heads:{attn_heads} | depth:{depth} | embed_dim:{embed_dim}\")\n",
    "\n",
    "model_dict_name = f\"ai_capstone_pytorch_vit_model_state_dict.pth\"\n",
    "\n",
    "model     = CNN_ViT_Hybrid(num_classes=num_cls,\n",
    "                            heads=attn_heads,\n",
    "                            depth=depth,\n",
    "                            embed_dim=embed_dim\n",
    "                           ).to(device)\n",
    "\n",
    "\n",
    "# ------------------------------------------------------------------ #\n",
    "# loading pre-trained CNN weights\n",
    "model.cnn.load_state_dict(torch.load(pytorch_state_dict_path), strict=False)\n",
    "# ------------------------------------------------------------------ #\n",
    "\n",
    "\n",
    "criterion= nn.CrossEntropyLoss()\n",
    "optimizer= torch.optim.Adam(model.parameters(), lr=lr)\n",
    "\n",
    "\n",
    "best_loss = float('inf')\n",
    "tr_loss_all = []\n",
    "te_loss_all = []\n",
    "tr_acc_all = []\n",
    "te_acc_all = []\n",
    "\n",
    "training_time = []\n",
    "for epoch in range(1, epochs+1):\n",
    "    start_time = time.time()\n",
    "    print(f\"\\nEpoch {epoch:02d}/{epochs:02d} started at {present_time()} (UTC)\")\n",
    "    tr_loss,tr_acc = train(model, train_loader, optimizer, criterion, device)\n",
    "    te_loss,te_acc = evaluate(model, val_loader, criterion, device)\n",
    "    print(f\"Epoch {epoch:02d} | \"\n",
    "          f\"train loss {tr_loss:.4f} acc {tr_acc:.4f} | \"\n",
    "          f\"val loss {te_loss:.4f} acc {te_acc:.4f} |\"\n",
    "          f\" in  {time.time()-start_time:.02f}s\"\n",
    "        )\n",
    "    tr_loss_all.append(tr_loss)\n",
    "    te_loss_all.append(te_loss)\n",
    "    tr_acc_all.append(tr_acc)\n",
    "    te_acc_all.append(te_acc)\n",
    "    training_time.append(time.time() - start_time)\n",
    "    \n",
    "    # Save the best model\n",
    "    avg_te_loss = te_loss\n",
    "    if avg_te_loss < best_loss:\n",
    "        print(f\"Current loss ({avg_te_loss:.04f}) lower than previous best loss ({ best_loss:.04f}), Saving current model state\")\n",
    "        best_loss = avg_te_loss\n",
    "        torch.save(model.state_dict(), model_dict_name)\n",
    "\n",
    "print(f\"epochs:{epochs} | batch:{batch_size} | attn_heads:{attn_heads} | depth:{depth} | embed_dim:{embed_dim}\")\n"
   ]
  },
  {
   "cell_type": "markdown",
   "id": "668583e1-9f69-4b2d-83dd-78d7ecbb5e27",
   "metadata": {},
   "source": [
    "### Hyperparameter cheatsheet (depth based)\n",
    "\n",
    "The Depth of the transformer blocks signify the number of transformer blocks stacked in the model. This is one of the most important features which differentiates a ViT from CNN.\n",
    "\n",
    "This table proides a basic overview on **how depth affects** other hyperparameters and model performance.\n",
    "\n",
    "|  **Depth** | **Attention heads** | **Dataset Size** |  **Performance** | **learning rate** | **Feature Complexity** | **Learning Focus** |\n",
    "|:---:|:---:|---|:---:|---|:---|:---:|\n",
    "| **3** | 6 | size < 1000 | Underfitting - too shallow |0.001 (Shallow: can handle higher learning rates) | Low-level features | Edges, textures, basic patterns |\n",
    "| **6** | 6 | size <1000 | Good for simple tasks |0.001 (Shallow: can handle higher learning rates) | Mid-level features | Shapes, object parts, spatial relationships |\n",
    "| **12** | 12 | 1000 < size < 10000 | Standard choice - good balance | 0.0005 (Medium: moderate learning rate) | High-level features | Objects, semantic concepts, global context |\n",
    "| **18** | 12 | 10000 < size < 100000 | High performance on complex tasks | 0.0003 (Deep: lower learning rate for stability) | High-level features | Objects, semantic concepts, global context |\n",
    "| **24** | 16 | 100000 < size | Diminishing returns, overfitting risk | 0.0001 (Very deep: very small learning rate) | High-level features | Objects, semantic concepts, global context |\n",
    "| **36** | 16 | 100000 < size | Likely overkill for most tasks | 0.0001 (Very deep: very small learning rate) | High-level features | Objects, semantic concepts, global context |\n"
   ]
  },
  {
   "cell_type": "markdown",
   "id": "89dc7b27-134c-42f8-9034-decf80168e46",
   "metadata": {},
   "source": [
    "### Task: Design and train a CNN-ViT hybrid model `model_test` with the following hyperparameters:\n",
    "- `epochs=5`\n",
    "- `attn heads=12`\n",
    "- `transformer block depth = 12`\n",
    "- `embed_dim=768`\n",
    "\n",
    "Save the `accuracy` and `loss` metrics in\n",
    "- `tr_loss_all_test` for training loss\n",
    "- `te_loss_all_test` for validation/testing loss\n",
    "- `tr_acc_all_test` for training accuracy\n",
    "- `te_acc_all_test` for validation/testing accuracy\n",
    "\n",
    "Save the training times in `training_time_test`\n",
    "\n",
    "Save the best model as **`ai_capstone_pytorch_vit_model_test_state_dict.pth`**\n"
   ]
  },
  {
   "cell_type": "code",
   "execution_count": 24,
   "id": "c542f0ad-6d11-4afc-b21d-ffa6a7bf8330",
   "metadata": {
    "execution": {
     "iopub.execute_input": "2025-10-27T07:51:15.495360Z",
     "iopub.status.busy": "2025-10-27T07:51:15.495280Z",
     "iopub.status.idle": "2025-10-27T07:51:15.496843Z",
     "shell.execute_reply": "2025-10-27T07:51:15.496541Z"
    }
   },
   "outputs": [],
   "source": [
    "## Please use the space below to write your answer\n"
   ]
  },
  {
   "cell_type": "markdown",
   "id": "251201c9-1224-4063-be10-0e8828654dcf",
   "metadata": {},
   "source": [
    "Double-click **here** for the solution.\n",
    "<!--\n",
    "## Please use the space below to write your answer\n",
    "\n",
    "device   = \"cuda\" if torch.cuda.is_available() else \"cpu\"\n",
    "print(f\"Training the model on {device}\")\n",
    "\n",
    "epochs     = 5\n",
    "attn_heads = 12\n",
    "depth      = 12\n",
    "embed_dim  = 768\n",
    "\n",
    "print(f\"epochs:{epochs} | batch:{batch_size} | attn_heads:{attn_heads} | depth:{depth} | embed_dim:{embed_dim}\")\n",
    "\n",
    "model_dict_name = f\"ai_capstone_pytorch_vit_model_test_state_dict.pth\"\n",
    "\n",
    "model_test = CNN_ViT_Hybrid(num_classes=num_cls,\n",
    "                            heads=attn_heads,\n",
    "                            depth=depth,\n",
    "                            embed_dim=embed_dim\n",
    "                           ).to(device)\n",
    "\n",
    "# ------------------------------------------------------------------ #\n",
    "# loading pre-trained CNN weights\n",
    "model_test.cnn.load_state_dict(torch.load(pytorch_state_dict_path), strict=False)\n",
    "# ------------------------------------------------------------------ #\n",
    "\n",
    "criterion= nn.CrossEntropyLoss()\n",
    "optimizer= torch.optim.Adam(model_test.parameters(), lr=lr)\n",
    "\n",
    "best_loss = float('inf')\n",
    "tr_loss_all_test = []\n",
    "te_loss_all_test = []\n",
    "tr_acc_all_test = []\n",
    "te_acc_all_test = []\n",
    "training_time_test = []\n",
    "for epoch in range(1, epochs+1):\n",
    "    start_time = time.time()\n",
    "    print(f\"\\nEpoch {epoch:02d}/{epochs:02d} started at {present_time()} (UTC)\")\n",
    "    tr_loss,tr_acc = train(model_test, train_loader, optimizer, criterion, device)\n",
    "    te_loss,te_acc = evaluate(model_test, val_loader, criterion, device)\n",
    "    print(f\"Epoch {epoch:02d} | \"\n",
    "          f\"train loss {tr_loss:.4f} acc {tr_acc:.4f} | \"\n",
    "          f\"val loss {te_loss:.4f} acc {te_acc:.4f} |\"\n",
    "          f\" in  {time.time()-start_time:.02f}s\"\n",
    "        )\n",
    "    tr_loss_all_test.append(tr_loss)\n",
    "    te_loss_all_test.append(te_loss)\n",
    "    tr_acc_all_test.append(tr_acc)\n",
    "    te_acc_all_test.append(te_acc)\n",
    "    training_time_test.append(time.time() - start_time)\n",
    "\n",
    "    # Save the best model\n",
    "    avg_te_loss = te_loss\n",
    "    if avg_te_loss < best_loss:\n",
    "        print(f\"Current loss ({avg_te_loss:.04f}) lower than previous best loss ({ best_loss:.04f}), Saving current model state\")\n",
    "        best_loss = avg_te_loss\n",
    "        torch.save(model_test.state_dict(), model_dict_name)\n",
    "\n",
    "-->\n"
   ]
  },
  {
   "cell_type": "markdown",
   "id": "plot-doc",
   "metadata": {},
   "source": [
    "## Plotting training and validation accuracy and loss\n",
    "\n",
    "This visualization cell creates comprehensive learning curves that provide crucial insights into model training dynamics, performance trends, and potential issues such as overfitting or underfitting.\n",
    "\n",
    "The implementation creates two separate plots for different aspects of training analysis:\n",
    "- **Accuracy plot**: Shows classification performance trends over epochs\n",
    "- **Loss plot**: Reveals optimization dynamics and convergence behavior\n",
    "\n",
    "\n",
    "These plots enable several important diagnostic assessments:\n",
    "- **Overfitting detection**: Widening gap between training and validation metrics\n",
    "- **Underfitting identification**: Both metrics plateau at suboptimal levels\n",
    "- **Training completion**: Convergence indicates when to stop training\n",
    "- **Hyperparameter evaluation**: Curves help assess learning rate, regularization effectiveness\n",
    "\n",
    "These learning curves serve as essential tools for understanding model behavior, diagnosing training issues, and making informed decisions about hyperparameter adjustments, training duration, and model architecture modifications.\n"
   ]
  },
  {
   "cell_type": "code",
   "execution_count": 25,
   "id": "a0050164-56da-44b4-99f5-1851f142aa10",
   "metadata": {
    "execution": {
     "iopub.execute_input": "2025-10-27T07:51:15.497842Z",
     "iopub.status.busy": "2025-10-27T07:51:15.497781Z",
     "iopub.status.idle": "2025-10-27T07:51:15.580540Z",
     "shell.execute_reply": "2025-10-27T07:51:15.580201Z"
    }
   },
   "outputs": [
    {
     "data": {
      "image/png": "[encoded data removed]",
      "text/plain": [
       "<Figure size 600x400 with 1 Axes>"
      ]
     },
     "metadata": {},
     "output_type": "display_data"
    },
    {
     "data": {
      "image/png": "[encoded data removed]",
      "text/plain": [
       "<Figure size 600x400 with 1 Axes>"
      ]
     },
     "metadata": {},
     "output_type": "display_data"
    }
   ],
   "source": [
    "fig_w, fig_h = 6,4\n",
    "fig, axs = plt.subplots(figsize=(fig_w, fig_h ))\n",
    "\n",
    "# Plot Accuracy on the first subplot\n",
    "axs.plot(tr_acc_all, label='Training Accuracy')\n",
    "axs.plot(te_acc_all, label='Validation Accuracy')\n",
    "axs.set_title('Model Accuracy')\n",
    "axs.set_xlabel('Epochs')\n",
    "axs.set_ylabel('Accuracy')\n",
    "axs.legend()\n",
    "axs.grid(True)\n",
    "\n",
    "plt.tight_layout()\n",
    "plt.show()\n",
    "\n",
    "\n",
    "fig, axs = plt.subplots( figsize=(fig_w, fig_h ))\n",
    "\n",
    "# Plot Loss on the second subplot\n",
    "axs.plot(tr_loss_all, label='Training Loss')\n",
    "axs.plot(te_loss_all, label='Validation Loss')\n",
    "axs.set_title('Model Loss')\n",
    "axs.set_xlabel('Epochs')\n",
    "axs.set_ylabel('Loss')\n",
    "axs.legend()\n",
    "axs.grid(True)\n",
    "\n",
    "plt.tight_layout()\n",
    "plt.show()"
   ]
  },
  {
   "cell_type": "markdown",
   "id": "3158bb89-889d-430b-90c2-d54c4e313171",
   "metadata": {},
   "source": [
    "## Task: Compare the performance of `model` with `model_test` by plotting the validation loss for `model` and `model_test` ViTs\n"
   ]
  },
  {
   "cell_type": "code",
   "execution_count": 26,
   "id": "ea3cf54d-9029-4094-81ad-e89e6b16ee62",
   "metadata": {
    "execution": {
     "iopub.execute_input": "2025-10-27T07:51:15.581771Z",
     "iopub.status.busy": "2025-10-27T07:51:15.581696Z",
     "iopub.status.idle": "2025-10-27T07:51:15.583361Z",
     "shell.execute_reply": "2025-10-27T07:51:15.583011Z"
    }
   },
   "outputs": [],
   "source": [
    "## Please use the space below to write your answer\n"
   ]
  },
  {
   "cell_type": "markdown",
   "id": "038c595d-12ed-4e30-8ec9-bb615ca3c591",
   "metadata": {},
   "source": [
    "Double-click **here** for the solution.\n",
    "<!--\n",
    "\n",
    "fig, axs = plt.subplots( figsize=(fig_w, fig_h ))\n",
    "\n",
    "# Plot Loss on the second subplot\n",
    "axs.plot(te_loss_all, label='Validation Loss (model)')\n",
    "axs.plot(te_loss_all_test, label='Validation Loss (model_test)')\n",
    "axs.set_title('Model Loss')\n",
    "axs.set_xlabel('Epochs')\n",
    "axs.set_ylabel('Loss')\n",
    "axs.legend()\n",
    "axs.grid(True)\n",
    "\n",
    "plt.tight_layout()\n",
    "plt.show()\n",
    "\n",
    "-->\n"
   ]
  },
  {
   "cell_type": "markdown",
   "id": "c980db06-f25b-43f5-a20b-4f5e8363bf7c",
   "metadata": {},
   "source": [
    "## Task: Compare the training times of `model` with `model_test` by plotting the training time for each\n"
   ]
  },
  {
   "cell_type": "code",
   "execution_count": 27,
   "id": "f0ef17b1-d965-4706-93d3-0b824fce7313",
   "metadata": {
    "execution": {
     "iopub.execute_input": "2025-10-27T07:51:15.584365Z",
     "iopub.status.busy": "2025-10-27T07:51:15.584306Z",
     "iopub.status.idle": "2025-10-27T07:51:15.585849Z",
     "shell.execute_reply": "2025-10-27T07:51:15.585453Z"
    }
   },
   "outputs": [],
   "source": [
    "## Please use the space below to write your answer\n"
   ]
  },
  {
   "cell_type": "markdown",
   "id": "d2d3c82b-063f-4296-8686-10e33a6c633e",
   "metadata": {},
   "source": [
    "Double-click **here** for the solution.\n",
    "<!--\n",
    "\n",
    "fig, axs = plt.subplots( figsize=(fig_w, fig_h ))\n",
    "\n",
    "# Plot Loss on the second subplot\n",
    "axs.plot(training_time, label='Training time (model)')\n",
    "axs.plot(training_time_test, label='Training time (model_test)')\n",
    "axs.set_title('Training time')\n",
    "axs.set_xlabel('Epochs')\n",
    "axs.set_ylabel('Seconds')\n",
    "axs.legend()\n",
    "axs.grid(True)\n",
    "\n",
    "plt.tight_layout()\n",
    "plt.show()\n",
    "\n",
    "-->\n"
   ]
  },
  {
   "cell_type": "markdown",
   "id": "a0d9b69b-4e5e-45eb-9678-5fc2d7204189",
   "metadata": {},
   "source": [
    "## Save and download the trained model weights\n",
    "\n",
    "You have successfully trained the ViT model for the classification of agricultural land from satellite imagery. \n",
    "In this lab, in the interest of time, you have trained the model for 3-5 epochs. However, usually you train the model for around 15-20 epochs, depending on the quality of training data and model metrics for the validation. \n",
    "\n",
    "For your convenience, I have saved a model state dict for the model trained over 20 epochs **[here](https://cf-courses-data.s3.us.cloud-object-storage.appdomain.cloud/rFBrDlu1NNcAzir5Uww8eg/pytorch-cnn-vit-ai-capstone-model-state-dict.pth)**. You can download that for evaluation and further labs on your local machine from **[this link](https://cf-courses-data.s3.us.cloud-object-storage.appdomain.cloud/rFBrDlu1NNcAzir5Uww8eg/pytorch-cnn-vit-ai-capstone-model-state-dict.pth)**.\n",
    "\n",
    "\n",
    "Otherwise, you have also saved the model state dictionary for the best model using the `torch.save` function during training in this lab.\n",
    "\n",
    "You can also download the model state dict for the model that you have just trained for use in the subsequent labs.\n",
    "\n",
    "This is the PyTorch AI model state that can now be used for inferring unclassified images. \n",
    "\n",
    "- You can download the trained model file: `ai_capstone_pytorch_vit_model_state_dict.pth` from the left pane and save it on your local computer. \n",
    "- You can download this model by \"right-clicking\" on the file and then clicking \"Download\".\n",
    "- This model could be used in other labs of this AI capstone course, instead of the model provided at the above link\n"
   ]
  },
  {
   "cell_type": "markdown",
   "id": "76bf51ac-815d-4762-9b53-350b7316fd00",
   "metadata": {},
   "source": [
    "## Save and download the notebook for **final project** submission and evaluation\n",
    "\n",
    "You will need to save and download the completed notebook for final project submission and evaluation. \n",
    "<br>For saving and downloading the completed notebook, please follow the steps given below:</br>\n",
    "\n",
    "<font size = 4>  \n",
    "\n",
    "1) **Complete** all the tasks and questions given in the notebook.\n",
    "\n",
    "<img src=\"https://cf-courses-data.s3.us.cloud-object-storage.appdomain.cloud/nv4jHlPU5_R1q7ZJrZ69eg/DL0321EN-M1L1-Save-IPYNB-Screenshot-1.png\" style=\"width:600px; border:0px solid black;\">\n",
    "\n",
    "2) **Save** the notebook.</style>\n",
    "<img src=\"https://cf-courses-data.s3.us.cloud-object-storage.appdomain.cloud/9-WPWD4mW1d-RV5Il5otTg/DL0321EN-M1L1-Save-IPYNB-Screenshot-2.png\" style=\"width:600px; border:0px solid black;\">\n",
    "\n",
    "3) Identify and right click on the **correct notebook file** in the left pane.</style>\n",
    "<img src=\"https://cf-courses-data.s3.us.cloud-object-storage.appdomain.cloud/RUSRPw7NT6Sof94B7-9naQ/DL0321EN-M1L1-Save-IPYNB-Screenshot-3.png\" style=\"width:600px; border:0px solid black;\">\n",
    "\n",
    "4) Click on **Download**.</style>\n",
    "<img src=\"https://cf-courses-data.s3.us.cloud-object-storage.appdomain.cloud/HHry4GT-vhLEcRi1T_LHGg/DL0321EN-M1L1-Save-IPYNB-Screenshot-4.png\" style=\"width:600px; border:0px solid black;\">\n",
    "\n",
    "5) Download and **Save** the Jupyter notebook file on your computer **for final submission**.</style>\n",
    "<img src=\"https://cf-courses-data.s3.us.cloud-object-storage.appdomain.cloud/hhsJbxc6R-T8_pXQGjMjvg/DL0321EN-M1L1-Save-IPYNB-Screenshot-5.png\" style=\"width:600px; border:0px solid black;\">\n",
    "  </font>\n"
   ]
  },
  {
   "cell_type": "markdown",
   "id": "f7c4ff47-d95c-400f-ae87-56ca79b2ba98",
   "metadata": {},
   "source": [
    "## Conclusion\n",
    "\n",
    "Congratulations! You've successfully built a PyTorch-based hybrid Convolutional Neural Network (CNN) and Vision Transformer (ViT) for image classification.\n"
   ]
  },
  {
   "cell_type": "markdown",
   "id": "aca5057e-a8f6-478d-8639-fd70fee4f8eb",
   "metadata": {},
   "source": [
    "<h2>Author</h2>\n",
    "\n",
    "[Aman Aggarwal](https://www.linkedin.com/in/aggarwal-aman)\n",
    "\n",
    "Aman Aggarwal is a PhD working at the intersection of neuroscience, AI, and drug discovery. He specializes in quantitative microscopy and image processing.\n",
    "\n"
   ]
  },
  {
   "cell_type": "markdown",
   "id": "e075dc2f-6ffa-45a6-b2d8-860217305244",
   "metadata": {},
   "source": [
    "<!--\n",
    "## Change Log\n",
    "\n",
    "|  Date (YYYY-MM-DD) |  Version | Changed By  |  Change Description |\n",
    "|---|---|---|---|\n",
    "| 2025-07-24  | 1.0  | Aman  |  Created the lab |\n",
    "| 2025-07-24  | 1.1  | Leah Hanson  | QA reviewed for IBM style guide adherence |\n",
    "\n",
    "-->\n"
   ]
  },
  {
   "cell_type": "markdown",
   "id": "917371aa-f1b6-469e-b57f-cbb963d3eef7",
   "metadata": {},
   "source": [
    "© Copyright IBM Corporation. All rights reserved.\n"
   ]
  },
  {
   "cell_type": "code",
   "execution_count": 28,
   "id": "6f3493e7",
   "metadata": {
    "execution": {
     "iopub.execute_input": "2025-10-27T07:51:15.587071Z",
     "iopub.status.busy": "2025-10-27T07:51:15.587006Z",
     "iopub.status.idle": "2025-10-27T07:51:15.591317Z",
     "shell.execute_reply": "2025-10-27T07:51:15.590988Z"
    }
   },
   "outputs": [
    {
     "ename": "SyntaxError",
     "evalue": "invalid syntax (4018262313.py, line 1)",
     "output_type": "error",
     "traceback": [
      "  \u001b[36mCell\u001b[39m\u001b[36m \u001b[39m\u001b[32mIn[28]\u001b[39m\u001b[32m, line 1\u001b[39m\n\u001b[31m    \u001b[39m\u001b[31m\"\"\"Module 3 Lab 2: Vision Transformers in PyTorchSolutions for all tasks (12 points total)Copy these code blocks into the corresponding cells in the notebook:Lab-M3L2-Vision-Transformers-in-PyTorch-v1.ipynb\"\"\"import osimport timeimport torchimport torch.nn as nnfrom torch.utils.data import DataLoader, random_splitfrom torchvision import datasets, transformsfrom tqdm import tqdmimport matplotlib.pyplot as pltimport numpy as np# =============================================================================# PYTORCH VIT ARCHITECTURE COMPONENTS# =============================================================================class ConvNet(nn.Module):    \"\"\"CNN backbone for feature extraction\"\"\"    def __init__(self, num_classes=2):        super().__init__()        self.features = nn.Sequential(            nn.Conv2d(3, 32, 5, padding=2), nn.ReLU(), nn.MaxPool2d(2), nn.BatchNorm2d(32),            nn.Conv2d(32, 64, 5, padding=2), nn.ReLU(), nn.MaxPool2d(2), nn.BatchNorm2d(64),            nn.Conv2d(64, 128, 5, padding=2), nn.ReLU(), nn.MaxPool2d(2), nn.BatchNorm2d(128),            nn.Conv2d(128, 256, 5, padding=2), nn.ReLU(), nn.MaxPool2d(2), nn.BatchNorm2d(256),            nn.Conv2d(256, 512, 5, padding=2), nn.ReLU(), nn.MaxPool2d(2), nn.BatchNorm2d(512),            nn.Conv2d(512, 1024, 5, padding=2), nn.ReLU(), nn.MaxPool2d(2), nn.BatchNorm2d(1024)        )    def forward_features(self, x):        return self.features(x)class PatchEmbed(nn.Module):    \"\"\"Convert CNN features to token embeddings\"\"\"    def __init__(self, input_channel=1024, embed_dim=768):        super().__init__()        self.proj = nn.Conv2d(input_channel, embed_dim, kernel_size=1)    def forward(self, x):        x = self.proj(x).flatten(2).transpose(1, 2)  # (B,L,D)        return xclass MHSA(nn.Module):    \"\"\"Multi-Head Self Attention\"\"\"    def __init__(self, dim, heads=8, dropout=0.):        super().__init__()        self.heads = heads        self.scale = (dim // heads) ** -0.5        self.qkv = nn.Linear(dim, dim * 3)        self.attn_drop = nn.Dropout(dropout)        self.proj = nn.Linear(dim, dim)        self.proj_drop = nn.Dropout(dropout)    def forward(self, x):        B, N, D = x.shape        q, k, v = self.qkv(x).chunk(3, dim=-1)        q = q.reshape(B, N, self.heads, -1).transpose(1, 2)        k = k.reshape(B, N, self.heads, -1).transpose(1, 2)        v = v.reshape(B, N, self.heads, -1).transpose(1, 2)        attn = torch.matmul(q, k.transpose(-2, -1)) * self.scale        attn = self.attn_drop(attn.softmax(dim=-1))        x = torch.matmul(attn, v).transpose(1, 2).reshape(B, N, D)        return self.proj_drop(self.proj(x))class TransformerBlock(nn.Module):    \"\"\"Transformer encoder block\"\"\"    def __init__(self, dim, heads, mlp_ratio=4., dropout=0.):        super().__init__()        self.norm1 = nn.LayerNorm(dim)        self.attn  = MHSA(dim, heads, dropout)        self.norm2 = nn.LayerNorm(dim)        self.mlp   = nn.Sequential(            nn.Linear(dim, int(dim * mlp_ratio)),            nn.GELU(),            nn.Dropout(dropout),            nn.Linear(int(dim * mlp_ratio), dim),            nn.Dropout(dropout)        )    def forward(self, x):        x = x + self.attn(self.norm1(x))        x = x + self.mlp(self.norm2(x))        return xclass ViT(nn.Module):    \"\"\"Vision Transformer\"\"\"    def __init__(self, in_ch=1024, num_classes=2,                 embed_dim=768, depth=6, heads=8,                 mlp_ratio=4., dropout=0.1, max_tokens=50):        super().__init__()        self.patch = PatchEmbed(in_ch, embed_dim)        self.cls   = nn.Parameter(torch.zeros(1, 1, embed_dim))        self.pos   = nn.Parameter(torch.randn(1, max_tokens, embed_dim))        self.blocks = nn.ModuleList([            TransformerBlock(embed_dim, heads, mlp_ratio, dropout)            for _ in range(depth)        ])        self.norm = nn.LayerNorm(embed_dim)        self.head = nn.Linear(embed_dim, num_classes)    def forward(self, x):        x = self.patch(x)        B, L, _ = x.shape        cls = self.cls.expand(B, -1, -1)        x = torch.cat((cls, x), 1)        x = x + self.pos[:, :L + 1]        for blk in self.blocks:            x = blk(x)        return self.head(self.norm(x)[:, 0])class CNN_ViT_Hybrid(nn.Module):    \"\"\"CNN-ViT Hybrid model\"\"\"    def __init__(self, num_classes=2, embed_dim=768, depth=6, heads=8):        super().__init__()        self.cnn = ConvNet(num_classes)        self.vit = ViT(num_classes=num_classes,                      embed_dim=embed_dim,                      depth=depth,                      heads=heads)    def forward(self, x):        return self.vit(self.cnn.forward_features(x))# =============================================================================# TASK 1: Define train_transform# =============================================================================img_size = 64# TASK 1 ANSWER:train_transform = transforms.Compose([    transforms.Resize((img_size, img_size)),    transforms.RandomRotation(40),    transforms.RandomHorizontalFlip(),    transforms.RandomAffine(0, shear=0.2),    transforms.ToTensor(),    transforms.Normalize([0.485, 0.456, 0.406], [0.229, 0.224, 0.225])])print(\"TASK 1: Training transform created\")print(\"  - Resize(64, 64)\")print(\"  - RandomRotation(40)\")print(\"  - RandomHorizontalFlip()\")print(\"  - RandomAffine(shear=0.2)\")print(\"  - Normalize\")# =============================================================================# TASK 2: Define val_transform# =============================================================================# TASK 2 ANSWER:val_transform = transforms.Compose([    transforms.Resize((img_size, img_size)),    transforms.ToTensor(),    transforms.Normalize([0.485, 0.456, 0.406], [0.229, 0.224, 0.225])])print(\"\\nTASK 2: Validation transform created\")print(\"  - Resize(64, 64)\")print(\"  - Normalize (no augmentation)\")# =============================================================================# DATASET LOADING# =============================================================================dataset_path = './images_dataSAT'# Load full datasetfull_dataset = datasets.ImageFolder(root=dataset_path, transform=train_transform)# Split 80/20train_size = int(0.8 * len(full_dataset))val_size = len(full_dataset) - train_sizetrain_dataset, val_dataset = random_split(    full_dataset,    [train_size, val_size],    generator=torch.Generator().manual_seed(42))# Apply validation transformval_dataset.dataset.transform = val_transformprint(f\"\\nDataset split:\")print(f\"  Training: {len(train_dataset)}\")print(f\"  Validation: {len(val_dataset)}\")# =============================================================================# TASK 3: Create train_loader and val_loader# =============================================================================batch_size = 32# TASK 3 ANSWER:train_loader = DataLoader(    train_dataset,    batch_size=batch_size,    shuffle=True,    num_workers=0)val_loader = DataLoader(    val_dataset,    batch_size=batch_size,    shuffle=False,    num_workers=0)print(f\"\\nTASK 3: DataLoaders created\")print(f\"  Train batches: {len(train_loader)}\")print(f\"  Val batches: {len(val_loader)}\")print(f\"  Batch size: {batch_size}\")# =============================================================================# TRAINING FUNCTIONS# =============================================================================def train(model, loader, optimizer, criterion, device):    model.train()    loss_sum, correct = 0, 0    for x, y in tqdm(loader, desc=\"Training  \"):        x, y = x.to(device), y.to(device)        optimizer.zero_grad()        out = model(x)        loss = criterion(out, y)        loss.backward()        optimizer.step()        loss_sum += loss.item() * x.size(0)        correct  += (out.argmax(1) == y).sum().item()    return loss_sum / len(loader.dataset), correct / len(loader.dataset)def evaluate(model, loader, criterion, device):    with torch.no_grad():        model.eval()        loss_sum, correct = 0, 0        for x, y in tqdm(loader, desc=\"Validation\"):            x, y = x.to(device), y.to(device)            out = model(x)            loss = criterion(out, y)            loss_sum += loss.item() * x.size(0)            correct  += (out.argmax(1) == y).sum().item()    return loss_sum / len(loader.dataset), correct / len(loader.dataset)# =============================================================================# TASK 4: Train CNN-ViT model with specified hyperparameters# =============================================================================device = \"cuda\" if torch.cuda.is_available() else \"cpu\"print(f\"\\nTraining on device: {device}\")# Hyperparameters (TASK 4 parameters)epochs = 5attn_heads = 12depth = 12embed_dim = 768lr = 0.001print(f\"\\nTASK 4: Training CNN-ViT Hybrid Model\")print(f\"  Epochs: {epochs}\")print(f\"  Attention heads: {attn_heads}\")print(f\"  Transformer depth: {depth}\")print(f\"  Embedding dimension: {embed_dim}\")print(f\"  Learning rate: {lr}\")# Create modelmodel = CNN_ViT_Hybrid(    num_classes=2,    heads=attn_heads,    depth=depth,    embed_dim=embed_dim).to(device)# Load pre-trained CNN weightspytorch_state_dict_path = 'ai-capstone-pytorch-best-model_downloaded.pth'if os.path.exists(pytorch_state_dict_path):    model.cnn.load_state_dict(torch.load(pytorch_state_dict_path, map_location=device), strict=False)    print(f\"  Loaded pre-trained CNN from: {pytorch_state_dict_path}\")criterion = nn.CrossEntropyLoss()optimizer = torch.optim.Adam(model.parameters(), lr=lr)# Training loopbest_loss = float('inf')tr_loss_all = []te_loss_all = []tr_acc_all = []te_acc_all = []training_time = []print(\"\\nStarting training...\")for epoch in range(1, epochs + 1):    start_time = time.time()    print(f\"\\nEpoch {epoch:02d}/{epochs:02d}\")    tr_loss, tr_acc = train(model, train_loader, optimizer, criterion, device)    te_loss, te_acc = evaluate(model, val_loader, criterion, device)    epoch_time = time.time() - start_time    print(f\"  Train Loss: {tr_loss:.4f} | Train Acc: {tr_acc:.4f}\")    print(f\"  Val Loss:   {te_loss:.4f} | Val Acc:   {te_acc:.4f}\")    print(f\"  Time: {epoch_time:.2f}s\")    tr_loss_all.append(tr_loss)    te_loss_all.append(te_loss)    tr_acc_all.append(tr_acc)    te_acc_all.append(te_acc)    training_time.append(epoch_time)    # Save best model    if te_loss < best_loss:        best_loss = te_loss        torch.save(model.state_dict(), 'pytorch_cnn_vit_model.pth')        print(f\"  *** Saved best model! ***\")print(\"\\nTraining completed!\")# =============================================================================# TASK 5: Plot validation loss comparison (model vs model_test)# =============================================================================# For demonstration, let's create a simpler model (model_test) with different hyperparametersprint(\"\\nCreating model_test with depth=3, heads=6 for comparison...\")model_test = CNN_ViT_Hybrid(    num_classes=2,    heads=6,    depth=3,    embed_dim=768).to(device)if os.path.exists(pytorch_state_dict_path):    model_test.cnn.load_state_dict(torch.load(pytorch_state_dict_path, map_location=device), strict=False)criterion_test = nn.CrossEntropyLoss()optimizer_test = torch.optim.Adam(model_test.parameters(), lr=lr)te_loss_all_test = []training_time_test = []print(\"Training model_test...\")for epoch in range(1, epochs + 1):    start_time = time.time()    print(f\"\\nEpoch {epoch:02d}/{epochs:02d} (model_test)\")    tr_loss, tr_acc = train(model_test, train_loader, optimizer_test, criterion_test, device)    te_loss, te_acc = evaluate(model_test, val_loader, criterion_test, device)    te_loss_all_test.append(te_loss)    training_time_test.append(time.time() - start_time)    print(f\"  Val Loss: {te_loss:.4f} | Val Acc: {te_acc:.4f}\")# TASK 5 ANSWER: Plot validation loss comparisonfig, ax = plt.subplots(figsize=(10, 6))ax.plot(range(1, epochs+1), te_loss_all, label='Model (depth=12, heads=12)', marker='o')ax.plot(range(1, epochs+1), te_loss_all_test, label='Model_test (depth=3, heads=6)', marker='s')ax.set_title('Validation Loss Comparison', fontsize=14, fontweight='bold')ax.set_xlabel('Epoch')ax.set_ylabel('Validation Loss')ax.legend()ax.grid(True, alpha=0.3)plt.tight_layout()plt.savefig('pytorch_vit_val_loss_comparison.png', dpi=300)plt.show()print(\"\\nTASK 5: Validation loss comparison plot saved\")# =============================================================================# TASK 6: Plot training time comparison# =============================================================================# TASK 6 ANSWER:fig, ax = plt.subplots(figsize=(10, 6))ax.plot(range(1, epochs+1), training_time, label='Model (depth=12, heads=12)', marker='o')ax.plot(range(1, epochs+1), training_time_test, label='Model_test (depth=3, heads=6)', marker='s')ax.set_title('Training Time Comparison', fontsize=14, fontweight='bold')ax.set_xlabel('Epoch')ax.set_ylabel('Time (seconds)')ax.legend()ax.grid(True, alpha=0.3)plt.tight_layout()plt.savefig('pytorch_vit_training_time_comparison.png', dpi=300)plt.show()print(\"\\nTASK 6: Training time comparison plot saved\")# =============================================================================# ADDITIONAL PLOTS# =============================================================================# Plot all metricsfig, axes = plt.subplots(2, 2, figsize=(14, 10))# Training Lossaxes[0, 0].plot(range(1, epochs+1), tr_loss_all, marker='o', color='coral')axes[0, 0].set_title('Training Loss')axes[0, 0].set_xlabel('Epoch')axes[0, 0].set_ylabel('Loss')axes[0, 0].grid(True, alpha=0.3)# Validation Lossaxes[0, 1].plot(range(1, epochs+1), te_loss_all, marker='s', color='dodgerblue')axes[0, 1].set_title('Validation Loss')axes[0, 1].set_xlabel('Epoch')axes[0, 1].set_ylabel('Loss')axes[0, 1].grid(True, alpha=0.3)# Training Accuracyaxes[1, 0].plot(range(1, epochs+1), tr_acc_all, marker='o', color='green')axes[1, 0].set_title('Training Accuracy')axes[1, 0].set_xlabel('Epoch')axes[1, 0].set_ylabel('Accuracy')axes[1, 0].grid(True, alpha=0.3)# Validation Accuracyaxes[1, 1].plot(range(1, epochs+1), te_acc_all, marker='s', color='purple')axes[1, 1].set_title('Validation Accuracy')axes[1, 1].set_xlabel('Epoch')axes[1, 1].set_ylabel('Accuracy')axes[1, 1].grid(True, alpha=0.3)plt.suptitle('PyTorch CNN-ViT Training Metrics', fontsize=16, fontweight='bold')plt.tight_layout()plt.savefig('pytorch_vit_all_metrics.png', dpi=300)plt.show()# =============================================================================# SUMMARY OF SOLUTIONS# =============================================================================print(\"\\n\" + \"=\"*70)print(\"SUMMARY: Module 3 Lab 2 - All Tasks Completed\")print(\"=\"*70)print(f\"Task 1: Created train_transform with augmentation\")print(f\"Task 2: Created val_transform without augmentation\")print(f\"Task 3: Created train_loader and val_loader\")print(f\"Task 4: Trained CNN-ViT (epochs={epochs}, heads={attn_heads}, depth={depth})\")print(f\"Task 5: Plotted validation loss comparison\")print(f\"Task 6: Plotted training time comparison\")print(f\"\\nFinal Model Validation Accuracy: {te_acc_all[-1]:.4f} ({te_acc_all[-1]*100:.2f}%)\")print(f\"Best Validation Loss: {best_loss:.4f}\")print(\"=\"*70)\u001b[39m\n                                                                                                                                                                                                                     ^\n\u001b[31mSyntaxError\u001b[39m\u001b[31m:\u001b[39m invalid syntax\n"
     ]
    }
   ],
   "source": [
    "\"\"\"Module 3 Lab 2: Vision Transformers in PyTorchSolutions for all tasks (12 points total)Copy these code blocks into the corresponding cells in the notebook:Lab-M3L2-Vision-Transformers-in-PyTorch-v1.ipynb\"\"\"import osimport timeimport torchimport torch.nn as nnfrom torch.utils.data import DataLoader, random_splitfrom torchvision import datasets, transformsfrom tqdm import tqdmimport matplotlib.pyplot as pltimport numpy as np# =============================================================================# PYTORCH VIT ARCHITECTURE COMPONENTS# =============================================================================class ConvNet(nn.Module):    \"\"\"CNN backbone for feature extraction\"\"\"    def __init__(self, num_classes=2):        super().__init__()        self.features = nn.Sequential(            nn.Conv2d(3, 32, 5, padding=2), nn.ReLU(), nn.MaxPool2d(2), nn.BatchNorm2d(32),            nn.Conv2d(32, 64, 5, padding=2), nn.ReLU(), nn.MaxPool2d(2), nn.BatchNorm2d(64),            nn.Conv2d(64, 128, 5, padding=2), nn.ReLU(), nn.MaxPool2d(2), nn.BatchNorm2d(128),            nn.Conv2d(128, 256, 5, padding=2), nn.ReLU(), nn.MaxPool2d(2), nn.BatchNorm2d(256),            nn.Conv2d(256, 512, 5, padding=2), nn.ReLU(), nn.MaxPool2d(2), nn.BatchNorm2d(512),            nn.Conv2d(512, 1024, 5, padding=2), nn.ReLU(), nn.MaxPool2d(2), nn.BatchNorm2d(1024)        )    def forward_features(self, x):        return self.features(x)class PatchEmbed(nn.Module):    \"\"\"Convert CNN features to token embeddings\"\"\"    def __init__(self, input_channel=1024, embed_dim=768):        super().__init__()        self.proj = nn.Conv2d(input_channel, embed_dim, kernel_size=1)    def forward(self, x):        x = self.proj(x).flatten(2).transpose(1, 2)  # (B,L,D)        return xclass MHSA(nn.Module):    \"\"\"Multi-Head Self Attention\"\"\"    def __init__(self, dim, heads=8, dropout=0.):        super().__init__()        self.heads = heads        self.scale = (dim // heads) ** -0.5        self.qkv = nn.Linear(dim, dim * 3)        self.attn_drop = nn.Dropout(dropout)        self.proj = nn.Linear(dim, dim)        self.proj_drop = nn.Dropout(dropout)    def forward(self, x):        B, N, D = x.shape        q, k, v = self.qkv(x).chunk(3, dim=-1)        q = q.reshape(B, N, self.heads, -1).transpose(1, 2)        k = k.reshape(B, N, self.heads, -1).transpose(1, 2)        v = v.reshape(B, N, self.heads, -1).transpose(1, 2)        attn = torch.matmul(q, k.transpose(-2, -1)) * self.scale        attn = self.attn_drop(attn.softmax(dim=-1))        x = torch.matmul(attn, v).transpose(1, 2).reshape(B, N, D)        return self.proj_drop(self.proj(x))class TransformerBlock(nn.Module):    \"\"\"Transformer encoder block\"\"\"    def __init__(self, dim, heads, mlp_ratio=4., dropout=0.):        super().__init__()        self.norm1 = nn.LayerNorm(dim)        self.attn  = MHSA(dim, heads, dropout)        self.norm2 = nn.LayerNorm(dim)        self.mlp   = nn.Sequential(            nn.Linear(dim, int(dim * mlp_ratio)),            nn.GELU(),            nn.Dropout(dropout),            nn.Linear(int(dim * mlp_ratio), dim),            nn.Dropout(dropout)        )    def forward(self, x):        x = x + self.attn(self.norm1(x))        x = x + self.mlp(self.norm2(x))        return xclass ViT(nn.Module):    \"\"\"Vision Transformer\"\"\"    def __init__(self, in_ch=1024, num_classes=2,                 embed_dim=768, depth=6, heads=8,                 mlp_ratio=4., dropout=0.1, max_tokens=50):        super().__init__()        self.patch = PatchEmbed(in_ch, embed_dim)        self.cls   = nn.Parameter(torch.zeros(1, 1, embed_dim))        self.pos   = nn.Parameter(torch.randn(1, max_tokens, embed_dim))        self.blocks = nn.ModuleList([            TransformerBlock(embed_dim, heads, mlp_ratio, dropout)            for _ in range(depth)        ])        self.norm = nn.LayerNorm(embed_dim)        self.head = nn.Linear(embed_dim, num_classes)    def forward(self, x):        x = self.patch(x)        B, L, _ = x.shape        cls = self.cls.expand(B, -1, -1)        x = torch.cat((cls, x), 1)        x = x + self.pos[:, :L + 1]        for blk in self.blocks:            x = blk(x)        return self.head(self.norm(x)[:, 0])class CNN_ViT_Hybrid(nn.Module):    \"\"\"CNN-ViT Hybrid model\"\"\"    def __init__(self, num_classes=2, embed_dim=768, depth=6, heads=8):        super().__init__()        self.cnn = ConvNet(num_classes)        self.vit = ViT(num_classes=num_classes,                      embed_dim=embed_dim,                      depth=depth,                      heads=heads)    def forward(self, x):        return self.vit(self.cnn.forward_features(x))# =============================================================================# TASK 1: Define train_transform# =============================================================================img_size = 64# TASK 1 ANSWER:train_transform = transforms.Compose([    transforms.Resize((img_size, img_size)),    transforms.RandomRotation(40),    transforms.RandomHorizontalFlip(),    transforms.RandomAffine(0, shear=0.2),    transforms.ToTensor(),    transforms.Normalize([0.485, 0.456, 0.406], [0.229, 0.224, 0.225])])print(\"TASK 1: Training transform created\")print(\"  - Resize(64, 64)\")print(\"  - RandomRotation(40)\")print(\"  - RandomHorizontalFlip()\")print(\"  - RandomAffine(shear=0.2)\")print(\"  - Normalize\")# =============================================================================# TASK 2: Define val_transform# =============================================================================# TASK 2 ANSWER:val_transform = transforms.Compose([    transforms.Resize((img_size, img_size)),    transforms.ToTensor(),    transforms.Normalize([0.485, 0.456, 0.406], [0.229, 0.224, 0.225])])print(\"\\nTASK 2: Validation transform created\")print(\"  - Resize(64, 64)\")print(\"  - Normalize (no augmentation)\")# =============================================================================# DATASET LOADING# =============================================================================dataset_path = './images_dataSAT'# Load full datasetfull_dataset = datasets.ImageFolder(root=dataset_path, transform=train_transform)# Split 80/20train_size = int(0.8 * len(full_dataset))val_size = len(full_dataset) - train_sizetrain_dataset, val_dataset = random_split(    full_dataset,    [train_size, val_size],    generator=torch.Generator().manual_seed(42))# Apply validation transformval_dataset.dataset.transform = val_transformprint(f\"\\nDataset split:\")print(f\"  Training: {len(train_dataset)}\")print(f\"  Validation: {len(val_dataset)}\")# =============================================================================# TASK 3: Create train_loader and val_loader# =============================================================================batch_size = 32# TASK 3 ANSWER:train_loader = DataLoader(    train_dataset,    batch_size=batch_size,    shuffle=True,    num_workers=0)val_loader = DataLoader(    val_dataset,    batch_size=batch_size,    shuffle=False,    num_workers=0)print(f\"\\nTASK 3: DataLoaders created\")print(f\"  Train batches: {len(train_loader)}\")print(f\"  Val batches: {len(val_loader)}\")print(f\"  Batch size: {batch_size}\")# =============================================================================# TRAINING FUNCTIONS# =============================================================================def train(model, loader, optimizer, criterion, device):    model.train()    loss_sum, correct = 0, 0    for x, y in tqdm(loader, desc=\"Training  \"):        x, y = x.to(device), y.to(device)        optimizer.zero_grad()        out = model(x)        loss = criterion(out, y)        loss.backward()        optimizer.step()        loss_sum += loss.item() * x.size(0)        correct  += (out.argmax(1) == y).sum().item()    return loss_sum / len(loader.dataset), correct / len(loader.dataset)def evaluate(model, loader, criterion, device):    with torch.no_grad():        model.eval()        loss_sum, correct = 0, 0        for x, y in tqdm(loader, desc=\"Validation\"):            x, y = x.to(device), y.to(device)            out = model(x)            loss = criterion(out, y)            loss_sum += loss.item() * x.size(0)            correct  += (out.argmax(1) == y).sum().item()    return loss_sum / len(loader.dataset), correct / len(loader.dataset)# =============================================================================# TASK 4: Train CNN-ViT model with specified hyperparameters# =============================================================================device = \"cuda\" if torch.cuda.is_available() else \"cpu\"print(f\"\\nTraining on device: {device}\")# Hyperparameters (TASK 4 parameters)epochs = 5attn_heads = 12depth = 12embed_dim = 768lr = 0.001print(f\"\\nTASK 4: Training CNN-ViT Hybrid Model\")print(f\"  Epochs: {epochs}\")print(f\"  Attention heads: {attn_heads}\")print(f\"  Transformer depth: {depth}\")print(f\"  Embedding dimension: {embed_dim}\")print(f\"  Learning rate: {lr}\")# Create modelmodel = CNN_ViT_Hybrid(    num_classes=2,    heads=attn_heads,    depth=depth,    embed_dim=embed_dim).to(device)# Load pre-trained CNN weightspytorch_state_dict_path = 'ai-capstone-pytorch-best-model_downloaded.pth'if os.path.exists(pytorch_state_dict_path):    model.cnn.load_state_dict(torch.load(pytorch_state_dict_path, map_location=device), strict=False)    print(f\"  Loaded pre-trained CNN from: {pytorch_state_dict_path}\")criterion = nn.CrossEntropyLoss()optimizer = torch.optim.Adam(model.parameters(), lr=lr)# Training loopbest_loss = float('inf')tr_loss_all = []te_loss_all = []tr_acc_all = []te_acc_all = []training_time = []print(\"\\nStarting training...\")for epoch in range(1, epochs + 1):    start_time = time.time()    print(f\"\\nEpoch {epoch:02d}/{epochs:02d}\")    tr_loss, tr_acc = train(model, train_loader, optimizer, criterion, device)    te_loss, te_acc = evaluate(model, val_loader, criterion, device)    epoch_time = time.time() - start_time    print(f\"  Train Loss: {tr_loss:.4f} | Train Acc: {tr_acc:.4f}\")    print(f\"  Val Loss:   {te_loss:.4f} | Val Acc:   {te_acc:.4f}\")    print(f\"  Time: {epoch_time:.2f}s\")    tr_loss_all.append(tr_loss)    te_loss_all.append(te_loss)    tr_acc_all.append(tr_acc)    te_acc_all.append(te_acc)    training_time.append(epoch_time)    # Save best model    if te_loss < best_loss:        best_loss = te_loss        torch.save(model.state_dict(), 'pytorch_cnn_vit_model.pth')        print(f\"  *** Saved best model! ***\")print(\"\\nTraining completed!\")# =============================================================================# TASK 5: Plot validation loss comparison (model vs model_test)# =============================================================================# For demonstration, let's create a simpler model (model_test) with different hyperparametersprint(\"\\nCreating model_test with depth=3, heads=6 for comparison...\")model_test = CNN_ViT_Hybrid(    num_classes=2,    heads=6,    depth=3,    embed_dim=768).to(device)if os.path.exists(pytorch_state_dict_path):    model_test.cnn.load_state_dict(torch.load(pytorch_state_dict_path, map_location=device), strict=False)criterion_test = nn.CrossEntropyLoss()optimizer_test = torch.optim.Adam(model_test.parameters(), lr=lr)te_loss_all_test = []training_time_test = []print(\"Training model_test...\")for epoch in range(1, epochs + 1):    start_time = time.time()    print(f\"\\nEpoch {epoch:02d}/{epochs:02d} (model_test)\")    tr_loss, tr_acc = train(model_test, train_loader, optimizer_test, criterion_test, device)    te_loss, te_acc = evaluate(model_test, val_loader, criterion_test, device)    te_loss_all_test.append(te_loss)    training_time_test.append(time.time() - start_time)    print(f\"  Val Loss: {te_loss:.4f} | Val Acc: {te_acc:.4f}\")# TASK 5 ANSWER: Plot validation loss comparisonfig, ax = plt.subplots(figsize=(10, 6))ax.plot(range(1, epochs+1), te_loss_all, label='Model (depth=12, heads=12)', marker='o')ax.plot(range(1, epochs+1), te_loss_all_test, label='Model_test (depth=3, heads=6)', marker='s')ax.set_title('Validation Loss Comparison', fontsize=14, fontweight='bold')ax.set_xlabel('Epoch')ax.set_ylabel('Validation Loss')ax.legend()ax.grid(True, alpha=0.3)plt.tight_layout()plt.savefig('pytorch_vit_val_loss_comparison.png', dpi=300)plt.show()print(\"\\nTASK 5: Validation loss comparison plot saved\")# =============================================================================# TASK 6: Plot training time comparison# =============================================================================# TASK 6 ANSWER:fig, ax = plt.subplots(figsize=(10, 6))ax.plot(range(1, epochs+1), training_time, label='Model (depth=12, heads=12)', marker='o')ax.plot(range(1, epochs+1), training_time_test, label='Model_test (depth=3, heads=6)', marker='s')ax.set_title('Training Time Comparison', fontsize=14, fontweight='bold')ax.set_xlabel('Epoch')ax.set_ylabel('Time (seconds)')ax.legend()ax.grid(True, alpha=0.3)plt.tight_layout()plt.savefig('pytorch_vit_training_time_comparison.png', dpi=300)plt.show()print(\"\\nTASK 6: Training time comparison plot saved\")# =============================================================================# ADDITIONAL PLOTS# =============================================================================# Plot all metricsfig, axes = plt.subplots(2, 2, figsize=(14, 10))# Training Lossaxes[0, 0].plot(range(1, epochs+1), tr_loss_all, marker='o', color='coral')axes[0, 0].set_title('Training Loss')axes[0, 0].set_xlabel('Epoch')axes[0, 0].set_ylabel('Loss')axes[0, 0].grid(True, alpha=0.3)# Validation Lossaxes[0, 1].plot(range(1, epochs+1), te_loss_all, marker='s', color='dodgerblue')axes[0, 1].set_title('Validation Loss')axes[0, 1].set_xlabel('Epoch')axes[0, 1].set_ylabel('Loss')axes[0, 1].grid(True, alpha=0.3)# Training Accuracyaxes[1, 0].plot(range(1, epochs+1), tr_acc_all, marker='o', color='green')axes[1, 0].set_title('Training Accuracy')axes[1, 0].set_xlabel('Epoch')axes[1, 0].set_ylabel('Accuracy')axes[1, 0].grid(True, alpha=0.3)# Validation Accuracyaxes[1, 1].plot(range(1, epochs+1), te_acc_all, marker='s', color='purple')axes[1, 1].set_title('Validation Accuracy')axes[1, 1].set_xlabel('Epoch')axes[1, 1].set_ylabel('Accuracy')axes[1, 1].grid(True, alpha=0.3)plt.suptitle('PyTorch CNN-ViT Training Metrics', fontsize=16, fontweight='bold')plt.tight_layout()plt.savefig('pytorch_vit_all_metrics.png', dpi=300)plt.show()# =============================================================================# SUMMARY OF SOLUTIONS# =============================================================================print(\"\\n\" + \"=\"*70)print(\"SUMMARY: Module 3 Lab 2 - All Tasks Completed\")print(\"=\"*70)print(f\"Task 1: Created train_transform with augmentation\")print(f\"Task 2: Created val_transform without augmentation\")print(f\"Task 3: Created train_loader and val_loader\")print(f\"Task 4: Trained CNN-ViT (epochs={epochs}, heads={attn_heads}, depth={depth})\")print(f\"Task 5: Plotted validation loss comparison\")print(f\"Task 6: Plotted training time comparison\")print(f\"\\nFinal Model Validation Accuracy: {te_acc_all[-1]:.4f} ({te_acc_all[-1]*100:.2f}%)\")print(f\"Best Validation Loss: {best_loss:.4f}\")print(\"=\"*70)"
   ]
  }
 ],
 "metadata": {
  "kernelspec": {
   "display_name": "Python 3 (ipykernel)",
   "language": "python",
   "name": "python3"
  },
  "language_info": {
   "codemirror_mode": {
    "name": "ipython",
    "version": 3
   },
   "file_extension": ".py",
   "mimetype": "text/x-python",
   "name": "python",
   "nbconvert_exporter": "python",
   "pygments_lexer": "ipython3",
   "version": "3.13.3"
  },
  "prev_pub_hash": "3ad35712b296d635757464e3c9bafd86292bd10e56c19d75c4d9a65d356701cc",
  "widgets": {
   "application/vnd.jupyter.widget-state+json": {
    "state": {
     "00743bcc5ea04e25a9a41dfe02d16752": {
      "model_module": "@jupyter-widgets/controls",
      "model_module_version": "2.0.0",
      "model_name": "HBoxModel",
      "state": {
       "_dom_classes": [],
       "_model_module": "@jupyter-widgets/controls",
       "_model_module_version": "2.0.0",
       "_model_name": "HBoxModel",
       "_view_count": null,
       "_view_module": "@jupyter-widgets/controls",
       "_view_module_version": "2.0.0",
       "_view_name": "HBoxView",
       "box_style": "",
       "children": [
        "IPY_MODEL_123adba92ac146b991503bbe1cdb8205",
        "IPY_MODEL_356aee4b3a8b44a69227ccf4ef5627a5",
        "IPY_MODEL_02f001450d8b4fb89d927bc6847741ee"
       ],
       "layout": "IPY_MODEL_e94d0c68b9b24e0bb367e94c4f1332b9",
       "tabbable": null,
       "tooltip": null
      }
     },
     "02f001450d8b4fb89d927bc6847741ee": {
      "model_module": "@jupyter-widgets/controls",
      "model_module_version": "2.0.0",
      "model_name": "HTMLModel",
      "state": {
       "_dom_classes": [],
       "_model_module": "@jupyter-widgets/controls",
       "_model_module_version": "2.0.0",
       "_model_name": "HTMLModel",
       "_view_count": null,
       "_view_module": "@jupyter-widgets/controls",
       "_view_module_version": "2.0.0",
       "_view_name": "HTMLView",
       "description": "",
       "description_allow_html": false,
       "layout": "IPY_MODEL_0b66e33850d3455e9e093cdaeec0ab64",
       "placeholder": "​",
       "style": "IPY_MODEL_894f0b3648034ac69edec4c1d7f8ddd2",
       "tabbable": null,
       "tooltip": null,
       "value": " 6003/6003 [00:00&lt;00:00, 10608.75it/s]"
      }
     },
     "0b66e33850d3455e9e093cdaeec0ab64": {
      "model_module": "@jupyter-widgets/base",
      "model_module_version": "2.0.0",
      "model_name": "LayoutModel",
      "state": {
       "_model_module": "@jupyter-widgets/base",
       "_model_module_version": "2.0.0",
       "_model_name": "LayoutModel",
       "_view_count": null,
       "_view_module": "@jupyter-widgets/base",
       "_view_module_version": "2.0.0",
       "_view_name": "LayoutView",
       "align_content": null,
       "align_items": null,
       "align_self": null,
       "border_bottom": null,
       "border_left": null,
       "border_right": null,
       "border_top": null,
       "bottom": null,
       "display": null,
       "flex": null,
       "flex_flow": null,
       "grid_area": null,
       "grid_auto_columns": null,
       "grid_auto_flow": null,
       "grid_auto_rows": null,
       "grid_column": null,
       "grid_gap": null,
       "grid_row": null,
       "grid_template_areas": null,
       "grid_template_columns": null,
       "grid_template_rows": null,
       "height": null,
       "justify_content": null,
       "justify_items": null,
       "left": null,
       "margin": null,
       "max_height": null,
       "max_width": null,
       "min_height": null,
       "min_width": null,
       "object_fit": null,
       "object_position": null,
       "order": null,
       "overflow": null,
       "padding": null,
       "right": null,
       "top": null,
       "visibility": null,
       "width": null
      }
     },
     "123adba92ac146b991503bbe1cdb8205": {
      "model_module": "@jupyter-widgets/controls",
      "model_module_version": "2.0.0",
      "model_name": "HTMLModel",
      "state": {
       "_dom_classes": [],
       "_model_module": "@jupyter-widgets/controls",
       "_model_module_version": "2.0.0",
       "_model_name": "HTMLModel",
       "_view_count": null,
       "_view_module": "@jupyter-widgets/controls",
       "_view_module_version": "2.0.0",
       "_view_name": "HTMLView",
       "description": "",
       "description_allow_html": false,
       "layout": "IPY_MODEL_7db1e0fde6d74680b8265776671e57a3",
       "placeholder": "​",
       "style": "IPY_MODEL_7d76abafd6854e86aacc23be619b43bc",
       "tabbable": null,
       "tooltip": null,
       "value": "Extracting images-dataSAT.tar: 100%"
      }
     },
     "14374833751649b18d602926ed8503fd": {
      "model_module": "@jupyter-widgets/controls",
      "model_module_version": "2.0.0",
      "model_name": "HTMLModel",
      "state": {
       "_dom_classes": [],
       "_model_module": "@jupyter-widgets/controls",
       "_model_module_version": "2.0.0",
       "_model_name": "HTMLModel",
       "_view_count": null,
       "_view_module": "@jupyter-widgets/controls",
       "_view_module_version": "2.0.0",
       "_view_name": "HTMLView",
       "description": "",
       "description_allow_html": false,
       "layout": "IPY_MODEL_97952315c9b24a909fc0ff1e378990c4",
       "placeholder": "​",
       "style": "IPY_MODEL_aa65c09c49f8440eabc15ebbc1d60011",
       "tabbable": null,
       "tooltip": null,
       "value": " 20243456/20243456 [00:03&lt;00:00, 12518575.69it/s]"
      }
     },
     "1557058353ee457f8ca66a5c1178455c": {
      "model_module": "@jupyter-widgets/controls",
      "model_module_version": "2.0.0",
      "model_name": "HBoxModel",
      "state": {
       "_dom_classes": [],
       "_model_module": "@jupyter-widgets/controls",
       "_model_module_version": "2.0.0",
       "_model_name": "HBoxModel",
       "_view_count": null,
       "_view_module": "@jupyter-widgets/controls",
       "_view_module_version": "2.0.0",
       "_view_name": "HBoxView",
       "box_style": "",
       "children": [
        "IPY_MODEL_7806acdf032f4dee9eacdb3718f82ea5",
        "IPY_MODEL_e11503d4775e4efdb70137c11eb32af7",
        "IPY_MODEL_14374833751649b18d602926ed8503fd"
       ],
       "layout": "IPY_MODEL_f99d54109f594dddba0b642c17b8dc29",
       "tabbable": null,
       "tooltip": null
      }
     },
     "166d59512cf9471ea39821917d4710d8": {
      "model_module": "@jupyter-widgets/base",
      "model_module_version": "2.0.0",
      "model_name": "LayoutModel",
      "state": {
       "_model_module": "@jupyter-widgets/base",
       "_model_module_version": "2.0.0",
       "_model_name": "LayoutModel",
       "_view_count": null,
       "_view_module": "@jupyter-widgets/base",
       "_view_module_version": "2.0.0",
       "_view_name": "LayoutView",
       "align_content": null,
       "align_items": null,
       "align_self": null,
       "border_bottom": null,
       "border_left": null,
       "border_right": null,
       "border_top": null,
       "bottom": null,
       "display": null,
       "flex": null,
       "flex_flow": null,
       "grid_area": null,
       "grid_auto_columns": null,
       "grid_auto_flow": null,
       "grid_auto_rows": null,
       "grid_column": null,
       "grid_gap": null,
       "grid_row": null,
       "grid_template_areas": null,
       "grid_template_columns": null,
       "grid_template_rows": null,
       "height": null,
       "justify_content": null,
       "justify_items": null,
       "left": null,
       "margin": null,
       "max_height": null,
       "max_width": null,
       "min_height": null,
       "min_width": null,
       "object_fit": null,
       "object_position": null,
       "order": null,
       "overflow": null,
       "padding": null,
       "right": null,
       "top": null,
       "visibility": null,
       "width": null
      }
     },
     "356aee4b3a8b44a69227ccf4ef5627a5": {
      "model_module": "@jupyter-widgets/controls",
      "model_module_version": "2.0.0",
      "model_name": "FloatProgressModel",
      "state": {
       "_dom_classes": [],
       "_model_module": "@jupyter-widgets/controls",
       "_model_module_version": "2.0.0",
       "_model_name": "FloatProgressModel",
       "_view_count": null,
       "_view_module": "@jupyter-widgets/controls",
       "_view_module_version": "2.0.0",
       "_view_name": "ProgressView",
       "bar_style": "success",
       "description": "",
       "description_allow_html": false,
       "layout": "IPY_MODEL_f55d82c5740047a4b1175c40dd3a4d56",
       "max": 6003.0,
       "min": 0.0,
       "orientation": "horizontal",
       "style": "IPY_MODEL_e8e30b8490db4c108e38aaf84275cf5b",
       "tabbable": null,
       "tooltip": null,
       "value": 6003.0
      }
     },
     "5151f2ce04f547fcb53b32f63b55d413": {
      "model_module": "@jupyter-widgets/controls",
      "model_module_version": "2.0.0",
      "model_name": "ProgressStyleModel",
      "state": {
       "_model_module": "@jupyter-widgets/controls",
       "_model_module_version": "2.0.0",
       "_model_name": "ProgressStyleModel",
       "_view_count": null,
       "_view_module": "@jupyter-widgets/base",
       "_view_module_version": "2.0.0",
       "_view_name": "StyleView",
       "bar_color": null,
       "description_width": ""
      }
     },
     "7806acdf032f4dee9eacdb3718f82ea5": {
      "model_module": "@jupyter-widgets/controls",
      "model_module_version": "2.0.0",
      "model_name": "HTMLModel",
      "state": {
       "_dom_classes": [],
       "_model_module": "@jupyter-widgets/controls",
       "_model_module_version": "2.0.0",
       "_model_name": "HTMLModel",
       "_view_count": null,
       "_view_module": "@jupyter-widgets/controls",
       "_view_module_version": "2.0.0",
       "_view_name": "HTMLView",
       "description": "",
       "description_allow_html": false,
       "layout": "IPY_MODEL_166d59512cf9471ea39821917d4710d8",
       "placeholder": "​",
       "style": "IPY_MODEL_d6e8611fd9254736adbf713de5f7a443",
       "tabbable": null,
       "tooltip": null,
       "value": "Downloading images-dataSAT.tar: 100%"
      }
     },
     "7d76abafd6854e86aacc23be619b43bc": {
      "model_module": "@jupyter-widgets/controls",
      "model_module_version": "2.0.0",
      "model_name": "HTMLStyleModel",
      "state": {
       "_model_module": "@jupyter-widgets/controls",
       "_model_module_version": "2.0.0",
       "_model_name": "HTMLStyleModel",
       "_view_count": null,
       "_view_module": "@jupyter-widgets/base",
       "_view_module_version": "2.0.0",
       "_view_name": "StyleView",
       "background": null,
       "description_width": "",
       "font_size": null,
       "text_color": null
      }
     },
     "7db1e0fde6d74680b8265776671e57a3": {
      "model_module": "@jupyter-widgets/base",
      "model_module_version": "2.0.0",
      "model_name": "LayoutModel",
      "state": {
       "_model_module": "@jupyter-widgets/base",
       "_model_module_version": "2.0.0",
       "_model_name": "LayoutModel",
       "_view_count": null,
       "_view_module": "@jupyter-widgets/base",
       "_view_module_version": "2.0.0",
       "_view_name": "LayoutView",
       "align_content": null,
       "align_items": null,
       "align_self": null,
       "border_bottom": null,
       "border_left": null,
       "border_right": null,
       "border_top": null,
       "bottom": null,
       "display": null,
       "flex": null,
       "flex_flow": null,
       "grid_area": null,
       "grid_auto_columns": null,
       "grid_auto_flow": null,
       "grid_auto_rows": null,
       "grid_column": null,
       "grid_gap": null,
       "grid_row": null,
       "grid_template_areas": null,
       "grid_template_columns": null,
       "grid_template_rows": null,
       "height": null,
       "justify_content": null,
       "justify_items": null,
       "left": null,
       "margin": null,
       "max_height": null,
       "max_width": null,
       "min_height": null,
       "min_width": null,
       "object_fit": null,
       "object_position": null,
       "order": null,
       "overflow": null,
       "padding": null,
       "right": null,
       "top": null,
       "visibility": null,
       "width": null
      }
     },
     "894f0b3648034ac69edec4c1d7f8ddd2": {
      "model_module": "@jupyter-widgets/controls",
      "model_module_version": "2.0.0",
      "model_name": "HTMLStyleModel",
      "state": {
       "_model_module": "@jupyter-widgets/controls",
       "_model_module_version": "2.0.0",
       "_model_name": "HTMLStyleModel",
       "_view_count": null,
       "_view_module": "@jupyter-widgets/base",
       "_view_module_version": "2.0.0",
       "_view_name": "StyleView",
       "background": null,
       "description_width": "",
       "font_size": null,
       "text_color": null
      }
     },
     "97952315c9b24a909fc0ff1e378990c4": {
      "model_module": "@jupyter-widgets/base",
      "model_module_version": "2.0.0",
      "model_name": "LayoutModel",
      "state": {
       "_model_module": "@jupyter-widgets/base",
       "_model_module_version": "2.0.0",
       "_model_name": "LayoutModel",
       "_view_count": null,
       "_view_module": "@jupyter-widgets/base",
       "_view_module_version": "2.0.0",
       "_view_name": "LayoutView",
       "align_content": null,
       "align_items": null,
       "align_self": null,
       "border_bottom": null,
       "border_left": null,
       "border_right": null,
       "border_top": null,
       "bottom": null,
       "display": null,
       "flex": null,
       "flex_flow": null,
       "grid_area": null,
       "grid_auto_columns": null,
       "grid_auto_flow": null,
       "grid_auto_rows": null,
       "grid_column": null,
       "grid_gap": null,
       "grid_row": null,
       "grid_template_areas": null,
       "grid_template_columns": null,
       "grid_template_rows": null,
       "height": null,
       "justify_content": null,
       "justify_items": null,
       "left": null,
       "margin": null,
       "max_height": null,
       "max_width": null,
       "min_height": null,
       "min_width": null,
       "object_fit": null,
       "object_position": null,
       "order": null,
       "overflow": null,
       "padding": null,
       "right": null,
       "top": null,
       "visibility": null,
       "width": null
      }
     },
     "aa65c09c49f8440eabc15ebbc1d60011": {
      "model_module": "@jupyter-widgets/controls",
      "model_module_version": "2.0.0",
      "model_name": "HTMLStyleModel",
      "state": {
       "_model_module": "@jupyter-widgets/controls",
       "_model_module_version": "2.0.0",
       "_model_name": "HTMLStyleModel",
       "_view_count": null,
       "_view_module": "@jupyter-widgets/base",
       "_view_module_version": "2.0.0",
       "_view_name": "StyleView",
       "background": null,
       "description_width": "",
       "font_size": null,
       "text_color": null
      }
     },
     "b042e8b289d24b9d9d0bcfa251bae73e": {
      "model_module": "@jupyter-widgets/base",
      "model_module_version": "2.0.0",
      "model_name": "LayoutModel",
      "state": {
       "_model_module": "@jupyter-widgets/base",
       "_model_module_version": "2.0.0",
       "_model_name": "LayoutModel",
       "_view_count": null,
       "_view_module": "@jupyter-widgets/base",
       "_view_module_version": "2.0.0",
       "_view_name": "LayoutView",
       "align_content": null,
       "align_items": null,
       "align_self": null,
       "border_bottom": null,
       "border_left": null,
       "border_right": null,
       "border_top": null,
       "bottom": null,
       "display": null,
       "flex": null,
       "flex_flow": null,
       "grid_area": null,
       "grid_auto_columns": null,
       "grid_auto_flow": null,
       "grid_auto_rows": null,
       "grid_column": null,
       "grid_gap": null,
       "grid_row": null,
       "grid_template_areas": null,
       "grid_template_columns": null,
       "grid_template_rows": null,
       "height": null,
       "justify_content": null,
       "justify_items": null,
       "left": null,
       "margin": null,
       "max_height": null,
       "max_width": null,
       "min_height": null,
       "min_width": null,
       "object_fit": null,
       "object_position": null,
       "order": null,
       "overflow": null,
       "padding": null,
       "right": null,
       "top": null,
       "visibility": null,
       "width": null
      }
     },
     "d6e8611fd9254736adbf713de5f7a443": {
      "model_module": "@jupyter-widgets/controls",
      "model_module_version": "2.0.0",
      "model_name": "HTMLStyleModel",
      "state": {
       "_model_module": "@jupyter-widgets/controls",
       "_model_module_version": "2.0.0",
       "_model_name": "HTMLStyleModel",
       "_view_count": null,
       "_view_module": "@jupyter-widgets/base",
       "_view_module_version": "2.0.0",
       "_view_name": "StyleView",
       "background": null,
       "description_width": "",
       "font_size": null,
       "text_color": null
      }
     },
     "e11503d4775e4efdb70137c11eb32af7": {
      "model_module": "@jupyter-widgets/controls",
      "model_module_version": "2.0.0",
      "model_name": "FloatProgressModel",
      "state": {
       "_dom_classes": [],
       "_model_module": "@jupyter-widgets/controls",
       "_model_module_version": "2.0.0",
       "_model_name": "FloatProgressModel",
       "_view_count": null,
       "_view_module": "@jupyter-widgets/controls",
       "_view_module_version": "2.0.0",
       "_view_name": "ProgressView",
       "bar_style": "success",
       "description": "",
       "description_allow_html": false,
       "layout": "IPY_MODEL_b042e8b289d24b9d9d0bcfa251bae73e",
       "max": 20243456.0,
       "min": 0.0,
       "orientation": "horizontal",
       "style": "IPY_MODEL_5151f2ce04f547fcb53b32f63b55d413",
       "tabbable": null,
       "tooltip": null,
       "value": 20243456.0
      }
     },
     "e8e30b8490db4c108e38aaf84275cf5b": {
      "model_module": "@jupyter-widgets/controls",
      "model_module_version": "2.0.0",
      "model_name": "ProgressStyleModel",
      "state": {
       "_model_module": "@jupyter-widgets/controls",
       "_model_module_version": "2.0.0",
       "_model_name": "ProgressStyleModel",
       "_view_count": null,
       "_view_module": "@jupyter-widgets/base",
       "_view_module_version": "2.0.0",
       "_view_name": "StyleView",
       "bar_color": null,
       "description_width": ""
      }
     },
     "e94d0c68b9b24e0bb367e94c4f1332b9": {
      "model_module": "@jupyter-widgets/base",
      "model_module_version": "2.0.0",
      "model_name": "LayoutModel",
      "state": {
       "_model_module": "@jupyter-widgets/base",
       "_model_module_version": "2.0.0",
       "_model_name": "LayoutModel",
       "_view_count": null,
       "_view_module": "@jupyter-widgets/base",
       "_view_module_version": "2.0.0",
       "_view_name": "LayoutView",
       "align_content": null,
       "align_items": null,
       "align_self": null,
       "border_bottom": null,
       "border_left": null,
       "border_right": null,
       "border_top": null,
       "bottom": null,
       "display": null,
       "flex": null,
       "flex_flow": null,
       "grid_area": null,
       "grid_auto_columns": null,
       "grid_auto_flow": null,
       "grid_auto_rows": null,
       "grid_column": null,
       "grid_gap": null,
       "grid_row": null,
       "grid_template_areas": null,
       "grid_template_columns": null,
       "grid_template_rows": null,
       "height": null,
       "justify_content": null,
       "justify_items": null,
       "left": null,
       "margin": null,
       "max_height": null,
       "max_width": null,
       "min_height": null,
       "min_width": null,
       "object_fit": null,
       "object_position": null,
       "order": null,
       "overflow": null,
       "padding": null,
       "right": null,
       "top": null,
       "visibility": null,
       "width": null
      }
     },
     "f55d82c5740047a4b1175c40dd3a4d56": {
      "model_module": "@jupyter-widgets/base",
      "model_module_version": "2.0.0",
      "model_name": "LayoutModel",
      "state": {
       "_model_module": "@jupyter-widgets/base",
       "_model_module_version": "2.0.0",
       "_model_name": "LayoutModel",
       "_view_count": null,
       "_view_module": "@jupyter-widgets/base",
       "_view_module_version": "2.0.0",
       "_view_name": "LayoutView",
       "align_content": null,
       "align_items": null,
       "align_self": null,
       "border_bottom": null,
       "border_left": null,
       "border_right": null,
       "border_top": null,
       "bottom": null,
       "display": null,
       "flex": null,
       "flex_flow": null,
       "grid_area": null,
       "grid_auto_columns": null,
       "grid_auto_flow": null,
       "grid_auto_rows": null,
       "grid_column": null,
       "grid_gap": null,
       "grid_row": null,
       "grid_template_areas": null,
       "grid_template_columns": null,
       "grid_template_rows": null,
       "height": null,
       "justify_content": null,
       "justify_items": null,
       "left": null,
       "margin": null,
       "max_height": null,
       "max_width": null,
       "min_height": null,
       "min_width": null,
       "object_fit": null,
       "object_position": null,
       "order": null,
       "overflow": null,
       "padding": null,
       "right": null,
       "top": null,
       "visibility": null,
       "width": null
      }
     },
     "f99d54109f594dddba0b642c17b8dc29": {
      "model_module": "@jupyter-widgets/base",
      "model_module_version": "2.0.0",
      "model_name": "LayoutModel",
      "state": {
       "_model_module": "@jupyter-widgets/base",
       "_model_module_version": "2.0.0",
       "_model_name": "LayoutModel",
       "_view_count": null,
       "_view_module": "@jupyter-widgets/base",
       "_view_module_version": "2.0.0",
       "_view_name": "LayoutView",
       "align_content": null,
       "align_items": null,
       "align_self": null,
       "border_bottom": null,
       "border_left": null,
       "border_right": null,
       "border_top": null,
       "bottom": null,
       "display": null,
       "flex": null,
       "flex_flow": null,
       "grid_area": null,
       "grid_auto_columns": null,
       "grid_auto_flow": null,
       "grid_auto_rows": null,
       "grid_column": null,
       "grid_gap": null,
       "grid_row": null,
       "grid_template_areas": null,
       "grid_template_columns": null,
       "grid_template_rows": null,
       "height": null,
       "justify_content": null,
       "justify_items": null,
       "left": null,
       "margin": null,
       "max_height": null,
       "max_width": null,
       "min_height": null,
       "min_width": null,
       "object_fit": null,
       "object_position": null,
       "order": null,
       "overflow": null,
       "padding": null,
       "right": null,
       "top": null,
       "visibility": null,
       "width": null
      }
     }
    },
    "version_major": 2,
    "version_minor": 0
   }
  }
 },
 "nbformat": 4,
 "nbformat_minor": 5
}
